{
 "cells": [
  {
   "cell_type": "code",
   "execution_count": 11,
   "metadata": {},
   "outputs": [],
   "source": [
    "import pandas as pd\n",
    "import pickle\n",
    "from pathlib import Path"
   ]
  },
  {
   "cell_type": "code",
   "execution_count": 13,
   "metadata": {},
   "outputs": [],
   "source": [
    "DATASET_PATH = Path('/') / 'DATA' / 'asaginbaev' / 'CourseOCRTask3' \n",
    "\n",
    "TRAIN_PATH, TEST_PATH = DATASET_PATH / 'Train', DATASET_PATH / 'Test'\n",
    "\n",
    "NAMES = ['path', 'code', 'x1', 'y1', 'x2', 'y2', 'x3', 'y3', 'x4', 'y4', 'barcode']"
   ]
  },
  {
   "cell_type": "code",
   "execution_count": 20,
   "metadata": {},
   "outputs": [],
   "source": [
    "with open('test_coord.pkl', 'rb') as f:\n",
    "    test_coord = pickle.load(f)"
   ]
  },
  {
   "cell_type": "code",
   "execution_count": 33,
   "metadata": {},
   "outputs": [],
   "source": [
    "test_ref = pd.read_csv('markup.csv', header=None, encoding='utf-16', names=NAMES)"
   ]
  },
  {
   "cell_type": "code",
   "execution_count": 34,
   "metadata": {},
   "outputs": [],
   "source": [
    "data = {\n",
    "    'path': [i.name for i in test_coord.keys()],\n",
    "    'code': [test_ref[test_ref['path'] == i.name]['code'].item() for i in test_coord.keys()],\n",
    "    'x1': [test_coord[i]['x1'] for i in test_coord.keys()],\n",
    "    'y1': [test_coord[i]['y1'] for i in test_coord.keys()],\n",
    "    'x2': [test_coord[i]['x2'] for i in test_coord.keys()],\n",
    "    'y2': [test_coord[i]['y2'] for i in test_coord.keys()],\n",
    "    'x3': [test_coord[i]['x3'] for i in test_coord.keys()],\n",
    "    'y3': [test_coord[i]['y3'] for i in test_coord.keys()],\n",
    "    'x4': [test_coord[i]['x4'] for i in test_coord.keys()],\n",
    "    'y4': [test_coord[i]['y4'] for i in test_coord.keys()],\n",
    "    'barcode': ['1' * 95 for _ in test_coord.keys()]\n",
    "}\n",
    "answer = pd.DataFrame.from_dict(data)\n",
    "answer.to_csv('answer.csv', index=None, header=None, encoding='utf-16')\n",
    "answer.to_csv('test_markup.csv', index=None, header=None, encoding='utf-16')"
   ]
  },
  {
   "cell_type": "code",
   "execution_count": 22,
   "metadata": {},
   "outputs": [],
   "source": [
    "with open('train_coord.pkl', 'rb') as f:\n",
    "    train_coord = pickle.load(f)"
   ]
  },
  {
   "cell_type": "code",
   "execution_count": 23,
   "metadata": {},
   "outputs": [],
   "source": [
    "train_ref = pd.read_csv(TRAIN_PATH / 'markup.csv', header=None, encoding='utf-16', names=NAMES)"
   ]
  },
  {
   "cell_type": "code",
   "execution_count": 30,
   "metadata": {},
   "outputs": [],
   "source": [
    "data = {\n",
    "    'path': [i.name for i in train_coord.keys()],\n",
    "    'code': [train_ref[train_ref['path'] == i.name]['code'].item() for i in train_coord.keys()],\n",
    "    'x1': [train_coord[i]['x1'] for i in train_coord.keys()],\n",
    "    'y1': [train_coord[i]['y1'] for i in train_coord.keys()],\n",
    "    'x2': [train_coord[i]['x2'] for i in train_coord.keys()],\n",
    "    'y2': [train_coord[i]['y2'] for i in train_coord.keys()],\n",
    "    'x3': [train_coord[i]['x3'] for i in train_coord.keys()],\n",
    "    'y3': [train_coord[i]['y3'] for i in train_coord.keys()],\n",
    "    'x4': [train_coord[i]['x4'] for i in train_coord.keys()],\n",
    "    'y4': [train_coord[i]['y4'] for i in train_coord.keys()],\n",
    "    'barcode': ['1' * 95 for _ in train_coord.keys()]\n",
    "}\n",
    "answer = pd.DataFrame.from_dict(data)\n",
    "answer.to_csv('train_markup.csv', index=None, header=None, encoding='utf-16')"
   ]
  },
  {
   "cell_type": "code",
   "execution_count": 31,
   "metadata": {},
   "outputs": [
    {
     "data": {
      "text/html": [
       "<div>\n",
       "<style scoped>\n",
       "    .dataframe tbody tr th:only-of-type {\n",
       "        vertical-align: middle;\n",
       "    }\n",
       "\n",
       "    .dataframe tbody tr th {\n",
       "        vertical-align: top;\n",
       "    }\n",
       "\n",
       "    .dataframe thead th {\n",
       "        text-align: right;\n",
       "    }\n",
       "</style>\n",
       "<table border=\"1\" class=\"dataframe\">\n",
       "  <thead>\n",
       "    <tr style=\"text-align: right;\">\n",
       "      <th></th>\n",
       "      <th>path</th>\n",
       "      <th>code</th>\n",
       "      <th>x1</th>\n",
       "      <th>y1</th>\n",
       "      <th>x2</th>\n",
       "      <th>y2</th>\n",
       "      <th>x3</th>\n",
       "      <th>y3</th>\n",
       "      <th>x4</th>\n",
       "      <th>y4</th>\n",
       "      <th>barcode</th>\n",
       "    </tr>\n",
       "  </thead>\n",
       "  <tbody>\n",
       "    <tr>\n",
       "      <th>0</th>\n",
       "      <td>fc272e4092ccb147a31e66bc1d10fbfb.png</td>\n",
       "      <td>3601514743345</td>\n",
       "      <td>553</td>\n",
       "      <td>255</td>\n",
       "      <td>1555</td>\n",
       "      <td>246</td>\n",
       "      <td>1571</td>\n",
       "      <td>642</td>\n",
       "      <td>544</td>\n",
       "      <td>666</td>\n",
       "      <td>1111111111111111111111111111111111111111111111...</td>\n",
       "    </tr>\n",
       "    <tr>\n",
       "      <th>1</th>\n",
       "      <td>8cde8cb1b54bca37c9347baf74157d22.png</td>\n",
       "      <td>7000001062307</td>\n",
       "      <td>159</td>\n",
       "      <td>471</td>\n",
       "      <td>365</td>\n",
       "      <td>457</td>\n",
       "      <td>352</td>\n",
       "      <td>1269</td>\n",
       "      <td>139</td>\n",
       "      <td>1269</td>\n",
       "      <td>1111111111111111111111111111111111111111111111...</td>\n",
       "    </tr>\n",
       "    <tr>\n",
       "      <th>2</th>\n",
       "      <td>70a9be0887eae17eabd70c8e607f963f.png</td>\n",
       "      <td>2250001407126</td>\n",
       "      <td>439</td>\n",
       "      <td>254</td>\n",
       "      <td>1188</td>\n",
       "      <td>257</td>\n",
       "      <td>1214</td>\n",
       "      <td>628</td>\n",
       "      <td>443</td>\n",
       "      <td>626</td>\n",
       "      <td>1111111111111111111111111111111111111111111111...</td>\n",
       "    </tr>\n",
       "    <tr>\n",
       "      <th>3</th>\n",
       "      <td>a029e49dff95a15d2cd396d8f62220c8.png</td>\n",
       "      <td>10101427156</td>\n",
       "      <td>350</td>\n",
       "      <td>155</td>\n",
       "      <td>984</td>\n",
       "      <td>164</td>\n",
       "      <td>991</td>\n",
       "      <td>431</td>\n",
       "      <td>345</td>\n",
       "      <td>430</td>\n",
       "      <td>1111111111111111111111111111111111111111111111...</td>\n",
       "    </tr>\n",
       "    <tr>\n",
       "      <th>4</th>\n",
       "      <td>82ff01909b6d215170dfc26c7be43074.png</td>\n",
       "      <td>2400745402226</td>\n",
       "      <td>489</td>\n",
       "      <td>272</td>\n",
       "      <td>1370</td>\n",
       "      <td>281</td>\n",
       "      <td>1366</td>\n",
       "      <td>687</td>\n",
       "      <td>482</td>\n",
       "      <td>674</td>\n",
       "      <td>1111111111111111111111111111111111111111111111...</td>\n",
       "    </tr>\n",
       "  </tbody>\n",
       "</table>\n",
       "</div>"
      ],
      "text/plain": [
       "                                   path           code   x1   y1    x2   y2   \n",
       "0  fc272e4092ccb147a31e66bc1d10fbfb.png  3601514743345  553  255  1555  246  \\\n",
       "1  8cde8cb1b54bca37c9347baf74157d22.png  7000001062307  159  471   365  457   \n",
       "2  70a9be0887eae17eabd70c8e607f963f.png  2250001407126  439  254  1188  257   \n",
       "3  a029e49dff95a15d2cd396d8f62220c8.png    10101427156  350  155   984  164   \n",
       "4  82ff01909b6d215170dfc26c7be43074.png  2400745402226  489  272  1370  281   \n",
       "\n",
       "     x3    y3   x4    y4                                            barcode  \n",
       "0  1571   642  544   666  1111111111111111111111111111111111111111111111...  \n",
       "1   352  1269  139  1269  1111111111111111111111111111111111111111111111...  \n",
       "2  1214   628  443   626  1111111111111111111111111111111111111111111111...  \n",
       "3   991   431  345   430  1111111111111111111111111111111111111111111111...  \n",
       "4  1366   687  482   674  1111111111111111111111111111111111111111111111...  "
      ]
     },
     "execution_count": 31,
     "metadata": {},
     "output_type": "execute_result"
    }
   ],
   "source": [
    "answer.head()"
   ]
  },
  {
   "cell_type": "code",
   "execution_count": 27,
   "metadata": {},
   "outputs": [
    {
     "data": {
      "text/plain": [
       "path       object\n",
       "code        int64\n",
       "x1          int64\n",
       "y1          int64\n",
       "x2          int64\n",
       "y2          int64\n",
       "x3          int64\n",
       "y3          int64\n",
       "x4          int64\n",
       "y4          int64\n",
       "barcode    object\n",
       "dtype: object"
      ]
     },
     "execution_count": 27,
     "metadata": {},
     "output_type": "execute_result"
    }
   ],
   "source": [
    "ref.dtypes"
   ]
  },
  {
   "cell_type": "code",
   "execution_count": null,
   "metadata": {},
   "outputs": [],
   "source": []
  }
 ],
 "metadata": {
  "kernelspec": {
   "display_name": ".venv",
   "language": "python",
   "name": ".venv"
  },
  "language_info": {
   "codemirror_mode": {
    "name": "ipython",
    "version": 3
   },
   "file_extension": ".py",
   "mimetype": "text/x-python",
   "name": "python",
   "nbconvert_exporter": "python",
   "pygments_lexer": "ipython3",
   "version": "3.8.10"
  }
 },
 "nbformat": 4,
 "nbformat_minor": 4
}
