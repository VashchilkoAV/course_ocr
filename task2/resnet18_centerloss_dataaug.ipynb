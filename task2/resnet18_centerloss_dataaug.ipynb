{
 "cells": [
  {
   "cell_type": "code",
   "execution_count": 1,
   "metadata": {},
   "outputs": [],
   "source": [
    "from data_reader import Vocabulary, HWDBDatasetHelper, LMDBReader\n",
    "\n",
    "# your path to data\n",
    "train_path = r'/DATA/ichuviliaeva/ocr_data/train.lmdb'\n",
    "test_path = r'/DATA/ichuviliaeva/ocr_data/test.lmdb'\n",
    "gt_path = './gt.txt'"
   ]
  },
  {
   "cell_type": "code",
   "execution_count": 2,
   "metadata": {},
   "outputs": [
    {
     "name": "stderr",
     "output_type": "stream",
     "text": [
      "/home/avashchilko/abbyy9sem/course_cvdl/.venv/lib/python3.8/site-packages/tqdm/auto.py:22: TqdmWarning: IProgress not found. Please update jupyter and ipywidgets. See https://ipywidgets.readthedocs.io/en/stable/user_install.html\n",
      "  from .autonotebook import tqdm as notebook_tqdm\n"
     ]
    }
   ],
   "source": [
    "import cv2\n",
    "import numpy as np\n",
    "import torchvision\n",
    "import wandb\n",
    "\n",
    "import torch\n",
    "from torch.utils.data import Dataset, DataLoader\n",
    "from torch import nn\n",
    "from torchvision import transforms"
   ]
  },
  {
   "cell_type": "code",
   "execution_count": 3,
   "metadata": {},
   "outputs": [],
   "source": [
    "train_reader = LMDBReader(train_path)\n",
    "train_reader.open()\n",
    "train_helper = HWDBDatasetHelper(train_reader)"
   ]
  },
  {
   "cell_type": "code",
   "execution_count": 4,
   "metadata": {},
   "outputs": [],
   "source": [
    "train_helper, val_helper = train_helper.train_val_split()"
   ]
  },
  {
   "cell_type": "code",
   "execution_count": 5,
   "metadata": {},
   "outputs": [
    {
     "data": {
      "text/plain": [
       "(2578433, 644609)"
      ]
     },
     "execution_count": 5,
     "metadata": {},
     "output_type": "execute_result"
    }
   ],
   "source": [
    "train_helper.size(), val_helper.size()"
   ]
  },
  {
   "cell_type": "code",
   "execution_count": 6,
   "metadata": {},
   "outputs": [
    {
     "data": {
      "text/plain": [
       "<torch._C.Generator at 0x7f1a8c71e370>"
      ]
     },
     "execution_count": 6,
     "metadata": {},
     "output_type": "execute_result"
    }
   ],
   "source": [
    "torch.manual_seed(42)"
   ]
  },
  {
   "cell_type": "code",
   "execution_count": 7,
   "metadata": {},
   "outputs": [],
   "source": [
    "from task2pack.utils.train import show_train_plots, train_with_trainable_loss\n",
    "from task2pack.utils.data import HWDBDataset \n",
    "\n",
    "from task2pack.models.resnet import ResNet18GrayscaleFeatPytorch\n",
    "from task2pack.models.loss import CenterLoss"
   ]
  },
  {
   "cell_type": "code",
   "execution_count": 8,
   "metadata": {},
   "outputs": [],
   "source": [
    "\"\"\"\n",
    "model = ResNet34GrayscaleFeat(train_helper.vocabulary.num_classes())\n",
    "\"\"\"\n",
    "model = ResNet18GrayscaleFeatPytorch(train_helper.vocabulary.num_classes())"
   ]
  },
  {
   "cell_type": "code",
   "execution_count": 9,
   "metadata": {},
   "outputs": [
    {
     "name": "stderr",
     "output_type": "stream",
     "text": [
      "Failed to detect the name of this notebook, you can set it manually with the WANDB_NOTEBOOK_NAME environment variable to enable code saving.\n",
      "\u001b[34m\u001b[1mwandb\u001b[0m: Currently logged in as: \u001b[33mvashchilkoav\u001b[0m. Use \u001b[1m`wandb login --relogin`\u001b[0m to force relogin\n"
     ]
    },
    {
     "data": {
      "text/html": [
       "wandb version 0.14.2 is available!  To upgrade, please run:\n",
       " $ pip install wandb --upgrade"
      ],
      "text/plain": [
       "<IPython.core.display.HTML object>"
      ]
     },
     "metadata": {},
     "output_type": "display_data"
    },
    {
     "data": {
      "text/html": [
       "Tracking run with wandb version 0.14.0"
      ],
      "text/plain": [
       "<IPython.core.display.HTML object>"
      ]
     },
     "metadata": {},
     "output_type": "display_data"
    },
    {
     "data": {
      "text/html": [
       "Run data is saved locally in <code>/home/avashchilko/abbyy10sem/course_ocr/task2/wandb/run-20230409_091457-a3mm18ww</code>"
      ],
      "text/plain": [
       "<IPython.core.display.HTML object>"
      ]
     },
     "metadata": {},
     "output_type": "display_data"
    },
    {
     "data": {
      "text/html": [
       "Syncing run <strong><a href='https://wandb.ai/vashchilkoav/ocr%20task%202/runs/a3mm18ww' target=\"_blank\">ResNet18GrayscaleFeatPytorch 30 epochs with lr=0.001 no augment</a></strong> to <a href='https://wandb.ai/vashchilkoav/ocr%20task%202' target=\"_blank\">Weights & Biases</a> (<a href='https://wandb.me/run' target=\"_blank\">docs</a>)<br/>"
      ],
      "text/plain": [
       "<IPython.core.display.HTML object>"
      ]
     },
     "metadata": {},
     "output_type": "display_data"
    },
    {
     "data": {
      "text/html": [
       " View project at <a href='https://wandb.ai/vashchilkoav/ocr%20task%202' target=\"_blank\">https://wandb.ai/vashchilkoav/ocr%20task%202</a>"
      ],
      "text/plain": [
       "<IPython.core.display.HTML object>"
      ]
     },
     "metadata": {},
     "output_type": "display_data"
    },
    {
     "data": {
      "text/html": [
       " View run at <a href='https://wandb.ai/vashchilkoav/ocr%20task%202/runs/a3mm18ww' target=\"_blank\">https://wandb.ai/vashchilkoav/ocr%20task%202/runs/a3mm18ww</a>"
      ],
      "text/plain": [
       "<IPython.core.display.HTML object>"
      ]
     },
     "metadata": {},
     "output_type": "display_data"
    },
    {
     "data": {
      "text/html": [
       "<button onClick=\"this.nextSibling.style.display='block';this.style.display='none';\">Display W&B run</button><iframe src='https://wandb.ai/vashchilkoav/ocr%20task%202/runs/a3mm18ww?jupyter=true' style='border:none;width:100%;height:420px;display:none;'></iframe>"
      ],
      "text/plain": [
       "<wandb.sdk.wandb_run.Run at 0x7f1679d4ddf0>"
      ]
     },
     "execution_count": 9,
     "metadata": {},
     "output_type": "execute_result"
    }
   ],
   "source": [
    "model_name = 'ResNet18GrayscaleFeatPytorch'\n",
    "\n",
    "train_transfroms = nn.Sequential(\n",
    "    transforms.Resize((64, 64))\n",
    ")\n",
    "\n",
    "val_transfroms = nn.Sequential(\n",
    "    transforms.Resize((64, 64))\n",
    ")\n",
    "\n",
    "train_dataloader_config = {\n",
    "    'batch_size': 512,\n",
    "    'shuffle': True,\n",
    "    'drop_last': True,\n",
    "    'num_workers': 8,\n",
    "}\n",
    "\n",
    "test_dataloader_config = {\n",
    "    'batch_size': 2048,\n",
    "    'shuffle': False,\n",
    "    'num_workers': 8,\n",
    "}\n",
    "\n",
    "training_config = {\n",
    "    'lr': 1e-3,\n",
    "    'epochs': 30,\n",
    "    'milestones': [20, 50, 75],\n",
    "    'gamma': 0.7,\n",
    "    'weight_criterion': 0.5,\n",
    "    'lr_criterion': 0.5,\n",
    "}\n",
    "\n",
    "device = 'cuda:3'\n",
    "criterion = torch.nn.CrossEntropyLoss()\n",
    "centerloss = CenterLoss(num_classes=train_helper.vocabulary.num_classes(), feat_dim=512)\n",
    "\n",
    "wandb.init(\n",
    "    project='ocr task 2',\n",
    "    name='{} {} epochs with lr={} no augment'.format(model_name, training_config['epochs'], training_config['lr']),\n",
    "    config={\n",
    "        'train_dataloader_config': train_dataloader_config,\n",
    "        'test_dataloader_config': test_dataloader_config,\n",
    "        'training_config': training_config,\n",
    "        'train_transforms': train_transfroms,\n",
    "        'val_transforms': val_transfroms,\n",
    "\n",
    "        \"architecture\": model_name,\n",
    "        \"dataset\": \"CASIA Offline Chinese Handwriting\",\n",
    "        \"criterion\": \"Cross Entropy Loss + Centerloss\",\n",
    "        \"optimizer\": \"Adam + SGD(Centerloss)\",\n",
    "    }\n",
    ")"
   ]
  },
  {
   "cell_type": "code",
   "execution_count": 10,
   "metadata": {},
   "outputs": [],
   "source": [
    "train_dataset = HWDBDataset(train_helper, transforms=train_transfroms)\n",
    "val_dataset = HWDBDataset(val_helper, transforms=val_transfroms)"
   ]
  },
  {
   "cell_type": "code",
   "execution_count": 11,
   "metadata": {},
   "outputs": [
    {
     "name": "stderr",
     "output_type": "stream",
     "text": [
      "/home/avashchilko/abbyy10sem/course_ocr/task2/task2pack/models/loss.py:30: UserWarning: This overload of addmm_ is deprecated:\n",
      "\taddmm_(Number beta, Number alpha, Tensor mat1, Tensor mat2)\n",
      "Consider using one of the following signatures instead:\n",
      "\taddmm_(Tensor mat1, Tensor mat2, *, Number beta, Number alpha) (Triggered internally at ../torch/csrc/utils/python_arg_parser.cpp:1420.)\n",
      "  distmat.addmm_(1, -2, x, self.centers.t())\n"
     ]
    },
    {
     "name": "stdout",
     "output_type": "stream",
     "text": [
      "Initial val: [regular_loss: 0.0043634824519245006, trainable_loss: 0.14845786742943445, accuracy: 8.066905674602744e-05]\n",
      "Epoch 1:\n",
      "Train loss: [regular: 0.009347987319221604 trainable: 0.246275003100676]\n",
      "Epoch 2:\n",
      "Train loss: [regular: 0.0008360485474636951 trainable: 0.04962965557881884]\n",
      "Val : [regular_loss: 0.0001923112643800132, trainable_loss: 0.007009078300170725, accuracy: 0.913802010210841]\n",
      "Epoch 3:\n",
      "Train loss: [regular: 0.000599127348979137 trainable: 0.018741382649248243]\n",
      "Epoch 4:\n",
      "Train loss: [regular: 0.0005040715494094091 trainable: 0.009402176538021948]\n",
      "Val : [regular_loss: 0.00016224940904463288, trainable_loss: 0.00186622241379376, accuracy: 0.9267850743629084]\n",
      "Epoch 5:\n",
      "Train loss: [regular: 0.0004345251374278647 trainable: 0.005427324588238085]\n",
      "Epoch 6:\n",
      "Train loss: [regular: 0.0003983283677350168 trainable: 0.0035379257253570886]\n",
      "Val : [regular_loss: 0.0003349873930851403, trainable_loss: 0.001434949674357611, accuracy: 0.8654191920993967]\n",
      "Epoch 7:\n",
      "Train loss: [regular: 0.0003729116790067595 trainable: 0.0025528799059544856]\n",
      "Epoch 8:\n",
      "Train loss: [regular: 0.0003312421908324399 trainable: 0.0018881903489588246]\n",
      "Val : [regular_loss: 0.00014003742920200423, trainable_loss: 0.0005286224033099666, accuracy: 0.9376536784314212]\n",
      "Epoch 9:\n",
      "Train loss: [regular: 0.0003128460010884608 trainable: 0.001537093674607755]\n",
      "Epoch 10:\n",
      "Train loss: [regular: 0.0002854492582622349 trainable: 0.0012630549850287803]\n",
      "Val : [regular_loss: 0.00013710744121575404, trainable_loss: 0.0004012241367948981, accuracy: 0.9398612181958366]\n",
      "Epoch 11:\n",
      "Train loss: [regular: 0.0002934063041690533 trainable: 0.0011756011003301043]\n",
      "Epoch 12:\n",
      "Train loss: [regular: 0.00024800418072104416 trainable: 0.0009405714311685329]\n",
      "Val : [regular_loss: 0.0001385282335286491, trainable_loss: 0.0003317477825486649, accuracy: 0.9409843796782236]\n",
      "Epoch 13:\n",
      "Train loss: [regular: 0.00023763357310558128 trainable: 0.0008567036387723365]\n",
      "Epoch 14:\n",
      "Train loss: [regular: 0.00021920851422664982 trainable: 0.000756980344552555]\n",
      "Val : [regular_loss: 0.0001367487886118365, trainable_loss: 0.00028007109100106433, accuracy: 0.9428987184479274]\n",
      "Epoch 15:\n",
      "Train loss: [regular: 0.0002154103722244313 trainable: 0.0007088806347666299]\n",
      "Epoch 16:\n",
      "Train loss: [regular: 0.00019337833149652263 trainable: 0.0006196812996876819]\n",
      "Val : [regular_loss: 0.00014910651427359705, trainable_loss: 0.00026615731865126704, accuracy: 0.9397479712507892]\n",
      "Epoch 17:\n",
      "Train loss: [regular: 0.00018599148331951344 trainable: 0.0005761708594875345]\n",
      "Epoch 18:\n",
      "Train loss: [regular: 0.00018096011488990328 trainable: 0.0005493982037473977]\n",
      "Val : [regular_loss: 0.00014098471880904853, trainable_loss: 0.00021817054828152387, accuracy: 0.9454801282638002]\n",
      "Epoch 19:\n",
      "Train loss: [regular: 0.00016917865697921558 trainable: 0.0005012337227415295]\n",
      "Epoch 20:\n",
      "Train loss: [regular: 0.00017592998820903727 trainable: 0.0005073170815918992]\n",
      "Val : [regular_loss: 0.00015036412714090647, trainable_loss: 0.0002433376695943151, accuracy: 0.9400085943571995]\n",
      "Epoch 21:\n",
      "Train loss: [regular: 0.00013805646566463696 trainable: 0.00044473121999484306]\n",
      "Epoch 22:\n",
      "Train loss: [regular: 0.00011973790543047967 trainable: 0.00037231687918029885]\n",
      "Val : [regular_loss: 0.00013331740380240407, trainable_loss: 0.0001741999833604607, accuracy: 0.948633978116967]\n",
      "Epoch 23:\n",
      "Train loss: [regular: 0.00011418030639543685 trainable: 0.0003524851517217373]\n",
      "Epoch 24:\n",
      "Train loss: [regular: 0.00010391512914922863 trainable: 0.0003211207492366217]\n",
      "Val : [regular_loss: 0.0001366921734505587, trainable_loss: 0.00016582245730345358, accuracy: 0.9484959099236902]\n",
      "Epoch 25:\n",
      "Train loss: [regular: 9.631281224067844e-05 trainable: 0.00029739021549505645]\n",
      "Epoch 26:\n",
      "Train loss: [regular: 0.00010416172875063966 trainable: 0.000303624832091998]\n",
      "Val : [regular_loss: 0.0001377769848233578, trainable_loss: 0.00015499356240688072, accuracy: 0.9491459163617014]\n",
      "Epoch 27:\n",
      "Train loss: [regular: 8.678980423878394e-05 trainable: 0.0002663687277681784]\n",
      "Epoch 28:\n",
      "Train loss: [regular: 8.61630745207853e-05 trainable: 0.00026129866421954816]\n",
      "Val : [regular_loss: 0.00014161357527855972, trainable_loss: 0.00015083562730290213, accuracy: 0.948512974531848]\n",
      "Epoch 29:\n",
      "Train loss: [regular: 7.849425717173357e-05 trainable: 0.00024187735447009907]\n",
      "Epoch 30:\n",
      "Train loss: [regular: 7.955162577065945e-05 trainable: 0.00024011608949001145]\n",
      "Val : [regular_loss: 0.0001425224213742712, trainable_loss: 0.0001429690294316241, accuracy: 0.948660350693211]\n"
     ]
    }
   ],
   "source": [
    "train_losses, test_losses, train_centerloss, test_centerloss, trained_model = train_with_trainable_loss(\n",
    "    train_dataset=train_dataset,\n",
    "    test_dataset=val_dataset,\n",
    "    model=model, \n",
    "    criterion=criterion,\n",
    "    trainable_criterion=centerloss,\n",
    "    train_dataloader_kwargs=train_dataloader_config,\n",
    "    test_dataloader_kwargs=test_dataloader_config,\n",
    "    training_kwargs=training_config,\n",
    "    device=device,\n",
    "    wandb_instance=wandb,\n",
    "    eval_every=2,\n",
    ")"
   ]
  },
  {
   "cell_type": "code",
   "execution_count": 12,
   "metadata": {},
   "outputs": [
    {
     "data": {
      "image/png": "[encoded data removed]",
      "text/plain": [
       "<Figure size 640x480 with 1 Axes>"
      ]
     },
     "metadata": {},
     "output_type": "display_data"
    },
    {
     "data": {
      "image/png": "[encoded data removed]",
      "text/plain": [
       "<Figure size 640x480 with 1 Axes>"
      ]
     },
     "metadata": {},
     "output_type": "display_data"
    }
   ],
   "source": [
    "show_train_plots(train_losses, test_losses, 'ResNet34Grayscale CrossEntropy')\n",
    "show_train_plots(train_centerloss, test_centerloss, 'ResNet34Grayscale Centerloss')"
   ]
  },
  {
   "cell_type": "code",
   "execution_count": 13,
   "metadata": {},
   "outputs": [
    {
     "name": "stderr",
     "output_type": "stream",
     "text": [
      "100%|█████████████████████████████████████████████████████████████████████████████████| 380/380 [00:58<00:00,  6.51it/s]\n"
     ]
    },
    {
     "data": {
      "text/html": [
       "Waiting for W&B process to finish... <strong style=\"color:green\">(success).</strong>"
      ],
      "text/plain": [
       "<IPython.core.display.HTML object>"
      ]
     },
     "metadata": {},
     "output_type": "display_data"
    },
    {
     "data": {
      "text/html": [
       "<style>\n",
       "    table.wandb td:nth-child(1) { padding: 0 10px; text-align: left ; width: auto;} td:nth-child(2) {text-align: left ; width: 100%}\n",
       "    .wandb-row { display: flex; flex-direction: row; flex-wrap: wrap; justify-content: flex-start; width: 100% }\n",
       "    .wandb-col { display: flex; flex-direction: column; flex-basis: 100%; flex: 1; padding: 10px; }\n",
       "    </style>\n",
       "<div class=\"wandb-row\"><div class=\"wandb-col\"><h3>Run history:</h3><br/><table class=\"wandb\"><tr><td>lr</td><td>████████████████████▁▁▁▁▁▁▁▁▁▁</td></tr></table><br/></div><div class=\"wandb-col\"><h3>Run summary:</h3><br/><table class=\"wandb\"><tr><td>lr</td><td>0.0007</td></tr><tr><td>test_accuracy</td><td>0.9283</td></tr><tr><td>test_transforms</td><td>Sequential(\n",
       "  (0): R...</td></tr></table><br/></div></div>"
      ],
      "text/plain": [
       "<IPython.core.display.HTML object>"
      ]
     },
     "metadata": {},
     "output_type": "display_data"
    },
    {
     "data": {
      "text/html": [
       " View run <strong style=\"color:#cdcd00\">ResNet18GrayscaleFeatPytorch 30 epochs with lr=0.001 no augment</strong> at: <a href='https://wandb.ai/vashchilkoav/ocr%20task%202/runs/a3mm18ww' target=\"_blank\">https://wandb.ai/vashchilkoav/ocr%20task%202/runs/a3mm18ww</a><br/>Synced 5 W&B file(s), 0 media file(s), 0 artifact file(s) and 2 other file(s)"
      ],
      "text/plain": [
       "<IPython.core.display.HTML object>"
      ]
     },
     "metadata": {},
     "output_type": "display_data"
    },
    {
     "data": {
      "text/html": [
       "Find logs at: <code>./wandb/run-20230409_091457-a3mm18ww/logs</code>"
      ],
      "text/plain": [
       "<IPython.core.display.HTML object>"
      ]
     },
     "metadata": {},
     "output_type": "display_data"
    }
   ],
   "source": [
    "from course_ocr_t2.evaluate import evaluate\n",
    "from tqdm import tqdm\n",
    "\n",
    "test_path = r'/DATA/ichuviliaeva/ocr_data/test.lmdb'\n",
    "pred_path = './pred.txt'\n",
    "\n",
    "test_reader = LMDBReader(test_path)\n",
    "test_reader.open()\n",
    "test_helper = HWDBDatasetHelper(test_reader, prefix='Test')\n",
    "\n",
    "test_transforms = nn.Sequential(\n",
    "    transforms.Resize((64, 64)),\n",
    ")\n",
    "\n",
    "test_dataset = HWDBDataset(test_helper, transforms=test_transforms)\n",
    "test_loader = DataLoader(test_dataset, batch_size=2048, shuffle=False, num_workers=8)\n",
    "\n",
    "preds = []\n",
    "trained_model.eval()\n",
    "with torch.no_grad():\n",
    "    for X, _ in tqdm(test_loader):\n",
    "        logits, _ = trained_model(X.to(torch.float32).to(device))\n",
    "        classes = torch.argmax(logits, dim=1).cpu().numpy()\n",
    "        preds.extend(classes)\n",
    "    \n",
    "with open(pred_path, 'w') as f_pred:\n",
    "    for idx, pred in enumerate(preds):\n",
    "        name = test_helper.namelist[idx]\n",
    "        cls = train_helper.vocabulary.class_by_index(pred)\n",
    "        print(name, cls, file=f_pred)\n",
    "        \n",
    "test_accuracy = evaluate('./gt.txt', './pred.txt')\n",
    "wandb.run.summary['test_accuracy'] = test_accuracy\n",
    "wandb.run.summary['test_transforms'] = test_transforms\n",
    "\n",
    "torch.save(trained_model.state_dict(), './model.pth')\n",
    "wandb.save('./model.pth')\n",
    "wandb.save('./pred.txt')\n",
    "\n",
    "wandb.finish()"
   ]
  },
  {
   "cell_type": "code",
   "execution_count": null,
   "metadata": {},
   "outputs": [],
   "source": []
  }
 ],
 "metadata": {
  "kernelspec": {
   "display_name": ".venv",
   "language": "python",
   "name": ".venv"
  },
  "language_info": {
   "codemirror_mode": {
    "name": "ipython",
    "version": 3
   },
   "file_extension": ".py",
   "mimetype": "text/x-python",
   "name": "python",
   "nbconvert_exporter": "python",
   "pygments_lexer": "ipython3",
   "version": "3.8.10"
  }
 },
 "nbformat": 4,
 "nbformat_minor": 4
}
