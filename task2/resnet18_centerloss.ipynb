{
 "cells": [
  {
   "cell_type": "code",
   "execution_count": 1,
   "metadata": {},
   "outputs": [],
   "source": [
    "from data_reader import Vocabulary, HWDBDatasetHelper, LMDBReader\n",
    "\n",
    "# your path to data\n",
    "train_path = r'/DATA/ichuviliaeva/ocr_data/train.lmdb'\n",
    "test_path = r'/DATA/ichuviliaeva/ocr_data/test.lmdb'\n",
    "gt_path = './gt.txt'"
   ]
  },
  {
   "cell_type": "code",
   "execution_count": 2,
   "metadata": {},
   "outputs": [
    {
     "name": "stderr",
     "output_type": "stream",
     "text": [
      "/home/avashchilko/abbyy9sem/course_cvdl/.venv/lib/python3.8/site-packages/tqdm/auto.py:22: TqdmWarning: IProgress not found. Please update jupyter and ipywidgets. See https://ipywidgets.readthedocs.io/en/stable/user_install.html\n",
      "  from .autonotebook import tqdm as notebook_tqdm\n"
     ]
    }
   ],
   "source": [
    "import cv2\n",
    "import numpy as np\n",
    "import torchvision\n",
    "import wandb"
   ]
  },
  {
   "cell_type": "code",
   "execution_count": 3,
   "metadata": {},
   "outputs": [],
   "source": [
    "train_reader = LMDBReader(train_path)\n",
    "train_reader.open()\n",
    "train_helper = HWDBDatasetHelper(train_reader)"
   ]
  },
  {
   "cell_type": "code",
   "execution_count": 4,
   "metadata": {},
   "outputs": [],
   "source": [
    "train_helper, val_helper = train_helper.train_val_split()"
   ]
  },
  {
   "cell_type": "code",
   "execution_count": 5,
   "metadata": {},
   "outputs": [
    {
     "data": {
      "text/plain": [
       "(2578433, 644609)"
      ]
     },
     "execution_count": 5,
     "metadata": {},
     "output_type": "execute_result"
    }
   ],
   "source": [
    "train_helper.size(), val_helper.size()"
   ]
  },
  {
   "cell_type": "code",
   "execution_count": 6,
   "metadata": {},
   "outputs": [],
   "source": [
    "import torch\n",
    "\n",
    "from torch.utils.data import Dataset, DataLoader\n",
    "from torch import nn\n",
    "\n",
    "class HWDBDataset(Dataset):\n",
    "    def __init__(self, helper: HWDBDatasetHelper):\n",
    "        self.helper = helper\n",
    "    \n",
    "    def __len__(self):\n",
    "        return self.helper.size()\n",
    "    \n",
    "    def __getitem__(self, idx):\n",
    "        img, label = self.helper.get_item(idx)\n",
    "        return torch.FloatTensor((cv2.resize(img, (32, 32)) - 127.5) / 255.)[None, ...], label"
   ]
  },
  {
   "cell_type": "code",
   "execution_count": 7,
   "metadata": {},
   "outputs": [
    {
     "data": {
      "text/plain": [
       "<torch._C.Generator at 0x7fac709443b0>"
      ]
     },
     "execution_count": 7,
     "metadata": {},
     "output_type": "execute_result"
    }
   ],
   "source": [
    "torch.manual_seed(42)"
   ]
  },
  {
   "cell_type": "code",
   "execution_count": 8,
   "metadata": {},
   "outputs": [],
   "source": [
    "train_dataset = HWDBDataset(train_helper)\n",
    "val_dataset = HWDBDataset(val_helper)"
   ]
  },
  {
   "cell_type": "code",
   "execution_count": 9,
   "metadata": {},
   "outputs": [],
   "source": [
    "from task2pack.utils.train import show_train_plots, train_with_trainable_loss\n",
    "from task2pack.models.resnet import ResNet18GrayscaleFeatPytorch\n",
    "from task2pack.models.loss import CenterLoss"
   ]
  },
  {
   "cell_type": "code",
   "execution_count": 10,
   "metadata": {},
   "outputs": [],
   "source": [
    "\"\"\"\n",
    "model = ResNet34GrayscaleFeat(train_helper.vocabulary.num_classes())\n",
    "\"\"\"\n",
    "model = ResNet18GrayscaleFeatPytorch(train_helper.vocabulary.num_classes())"
   ]
  },
  {
   "cell_type": "code",
   "execution_count": 11,
   "metadata": {},
   "outputs": [
    {
     "name": "stderr",
     "output_type": "stream",
     "text": [
      "Failed to detect the name of this notebook, you can set it manually with the WANDB_NOTEBOOK_NAME environment variable to enable code saving.\n",
      "\u001b[34m\u001b[1mwandb\u001b[0m: Currently logged in as: \u001b[33mvashchilkoav\u001b[0m. Use \u001b[1m`wandb login --relogin`\u001b[0m to force relogin\n"
     ]
    },
    {
     "data": {
      "text/html": [
       "wandb version 0.14.2 is available!  To upgrade, please run:\n",
       " $ pip install wandb --upgrade"
      ],
      "text/plain": [
       "<IPython.core.display.HTML object>"
      ]
     },
     "metadata": {},
     "output_type": "display_data"
    },
    {
     "data": {
      "text/html": [
       "Tracking run with wandb version 0.14.0"
      ],
      "text/plain": [
       "<IPython.core.display.HTML object>"
      ]
     },
     "metadata": {},
     "output_type": "display_data"
    },
    {
     "data": {
      "text/html": [
       "Run data is saved locally in <code>/home/avashchilko/abbyy10sem/course_ocr/task2/wandb/run-20230409_084411-kp5zckiq</code>"
      ],
      "text/plain": [
       "<IPython.core.display.HTML object>"
      ]
     },
     "metadata": {},
     "output_type": "display_data"
    },
    {
     "data": {
      "text/html": [
       "Syncing run <strong><a href='https://wandb.ai/vashchilkoav/ocr%20task%202/runs/kp5zckiq' target=\"_blank\">ResNet18GrayscaleFeatPytorch 30 epochs with lr=0.001 no augment</a></strong> to <a href='https://wandb.ai/vashchilkoav/ocr%20task%202' target=\"_blank\">Weights & Biases</a> (<a href='https://wandb.me/run' target=\"_blank\">docs</a>)<br/>"
      ],
      "text/plain": [
       "<IPython.core.display.HTML object>"
      ]
     },
     "metadata": {},
     "output_type": "display_data"
    },
    {
     "data": {
      "text/html": [
       " View project at <a href='https://wandb.ai/vashchilkoav/ocr%20task%202' target=\"_blank\">https://wandb.ai/vashchilkoav/ocr%20task%202</a>"
      ],
      "text/plain": [
       "<IPython.core.display.HTML object>"
      ]
     },
     "metadata": {},
     "output_type": "display_data"
    },
    {
     "data": {
      "text/html": [
       " View run at <a href='https://wandb.ai/vashchilkoav/ocr%20task%202/runs/kp5zckiq' target=\"_blank\">https://wandb.ai/vashchilkoav/ocr%20task%202/runs/kp5zckiq</a>"
      ],
      "text/plain": [
       "<IPython.core.display.HTML object>"
      ]
     },
     "metadata": {},
     "output_type": "display_data"
    },
    {
     "data": {
      "text/html": [
       "<button onClick=\"this.nextSibling.style.display='block';this.style.display='none';\">Display W&B run</button><iframe src='https://wandb.ai/vashchilkoav/ocr%20task%202/runs/kp5zckiq?jupyter=true' style='border:none;width:100%;height:420px;display:none;'></iframe>"
      ],
      "text/plain": [
       "<wandb.sdk.wandb_run.Run at 0x7fa85e1045b0>"
      ]
     },
     "execution_count": 11,
     "metadata": {},
     "output_type": "execute_result"
    }
   ],
   "source": [
    "model_name = 'ResNet18GrayscaleFeatPytorch'\n",
    "\n",
    "train_dataloader_config = {\n",
    "    'batch_size': 512,\n",
    "    'shuffle': True,\n",
    "    'drop_last': True,\n",
    "    'num_workers': 8,\n",
    "}\n",
    "\n",
    "test_dataloader_config = {\n",
    "    'batch_size': 2048,\n",
    "    'shuffle': False,\n",
    "    'num_workers': 8,\n",
    "}\n",
    "\n",
    "training_config = {\n",
    "    'lr': 1e-3,\n",
    "    'epochs': 30,\n",
    "    'milestones': [20, 50, 75],\n",
    "    'gamma': 0.7,\n",
    "    'weight_criterion': 0.5,\n",
    "    'lr_criterion': 0.5,\n",
    "}\n",
    "\n",
    "device = 'cuda:2'\n",
    "criterion = torch.nn.CrossEntropyLoss()\n",
    "centerloss = CenterLoss(num_classes=train_helper.vocabulary.num_classes(), feat_dim=512)\n",
    "\n",
    "wandb.init(\n",
    "    project='ocr task 2',\n",
    "    name='{} {} epochs with lr={} no augment'.format(model_name, training_config['epochs'], training_config['lr']),\n",
    "    config={\n",
    "        'train_dataloader_config': train_dataloader_config,\n",
    "        'test_dataloader_config': test_dataloader_config,\n",
    "        'training_config': training_config,\n",
    "\n",
    "    \"architecture\": model_name,\n",
    "    \"dataset\": \"CASIA Offline Chinese Handwriting\",\n",
    "    \"criterion\": \"Cross Entropy Loss + Centerloss\",\n",
    "    \"optimizer\": \"Adam + SGD(Centerloss)\",\n",
    "    }\n",
    ")"
   ]
  },
  {
   "cell_type": "code",
   "execution_count": 12,
   "metadata": {},
   "outputs": [
    {
     "name": "stderr",
     "output_type": "stream",
     "text": [
      "/home/avashchilko/abbyy10sem/course_ocr/task2/task2pack/models/loss.py:30: UserWarning: This overload of addmm_ is deprecated:\n",
      "\taddmm_(Number beta, Number alpha, Tensor mat1, Tensor mat2)\n",
      "Consider using one of the following signatures instead:\n",
      "\taddmm_(Tensor mat1, Tensor mat2, *, Number beta, Number alpha) (Triggered internally at ../torch/csrc/utils/python_arg_parser.cpp:1420.)\n",
      "  distmat.addmm_(1, -2, x, self.centers.t())\n"
     ]
    },
    {
     "name": "stdout",
     "output_type": "stream",
     "text": [
      "Initial val: [regular_loss: 0.004355111830815686, trainable_loss: 0.13525819649951135, accuracy: 8.066905674602744e-05]\n",
      "Epoch 1:\n",
      "Train loss: [regular: 0.012680103305972093 trainable: 0.25599788006044727]\n",
      "Epoch 2:\n",
      "Train loss: [regular: 0.0032812667295890998 trainable: 0.06638588139584557]\n",
      "Val : [regular_loss: 0.0005400030978620402, trainable_loss: 0.009081145755491713, accuracy: 0.7524064975822553]\n",
      "Epoch 3:\n",
      "Train loss: [regular: 0.0018098082883493077 trainable: 0.023418160104847215]\n",
      "Epoch 4:\n",
      "Train loss: [regular: 0.0013880399385318978 trainable: 0.010122964959155887]\n",
      "Val : [regular_loss: 0.0003051757260475859, trainable_loss: 0.001696495393416347, accuracy: 0.84620134065767]\n",
      "Epoch 5:\n",
      "Train loss: [regular: 0.0011411967463261466 trainable: 0.004919803025212289]\n",
      "Epoch 6:\n",
      "Train loss: [regular: 0.0010126460473842667 trainable: 0.0026196279175144353]\n",
      "Val : [regular_loss: 0.0002823271188398364, trainable_loss: 0.0004975907710585161, accuracy: 0.8564432082083868]\n",
      "Epoch 7:\n",
      "Train loss: [regular: 0.0009864694020530799 trainable: 0.0015486965710587366]\n",
      "Epoch 8:\n",
      "Train loss: [regular: 0.0008236462471187103 trainable: 0.0009588190419338157]\n",
      "Val : [regular_loss: 0.00021818225706492016, trainable_loss: 0.00019322346295901635, accuracy: 0.8853460004436798]\n",
      "Epoch 9:\n",
      "Train loss: [regular: 0.0007733643872203873 trainable: 0.000674209834136567]\n",
      "Epoch 10:\n",
      "Train loss: [regular: 0.0006925584418986399 trainable: 0.0004961754244667005]\n",
      "Val : [regular_loss: 0.0004164205687666267, trainable_loss: 0.00015749100810968559, accuracy: 0.789563906181887]\n",
      "Epoch 11:\n",
      "Train loss: [regular: 0.0007280986721938773 trainable: 0.0004218068500034009]\n",
      "Epoch 12:\n",
      "Train loss: [regular: 0.0007469322688766065 trainable: 0.0003697221788307628]\n",
      "Val : [regular_loss: 0.0002116571398542215, trainable_loss: 8.868343085562153e-05, accuracy: 0.8887403061390704]\n",
      "Epoch 13:\n",
      "Train loss: [regular: 0.0006021657828025814 trainable: 0.00029509636176059984]\n",
      "Epoch 14:\n",
      "Train loss: [regular: 0.0007550369690035821 trainable: 0.00031691427251007446]\n",
      "Val : [regular_loss: 0.0002826833521771524, trainable_loss: 8.584190108549664e-05, accuracy: 0.8521692995288617]\n",
      "Epoch 15:\n",
      "Train loss: [regular: 0.000682922837372108 trainable: 0.0002664437299110034]\n",
      "Epoch 16:\n",
      "Train loss: [regular: 0.0006645594295955933 trainable: 0.00025066111522461257]\n",
      "Val : [regular_loss: 0.00021209301349239628, trainable_loss: 0.00016290980465519855, accuracy: 0.8970802455441981]\n",
      "Epoch 17:\n",
      "Train loss: [regular: 0.0006066539639537955 trainable: 0.0002547554845511747]\n",
      "Epoch 18:\n",
      "Train loss: [regular: 0.0005067511661790291 trainable: 0.00019635086478544177]\n",
      "Val : [regular_loss: 0.00020344974169641316, trainable_loss: 0.00014705824804813413, accuracy: 0.9014953250730288]\n",
      "Epoch 19:\n",
      "Train loss: [regular: 0.0005145654757551961 trainable: 0.00019066405256805516]\n",
      "Epoch 20:\n",
      "Train loss: [regular: 0.0005224397725387908 trainable: 0.0001864997523177961]\n",
      "Val : [regular_loss: 0.0002462658902017681, trainable_loss: 0.0002291051365564796, accuracy: 0.8934315220544548]\n",
      "Epoch 21:\n",
      "Train loss: [regular: 0.0004488663543549301 trainable: 0.00016622213942200595]\n",
      "Epoch 22:\n",
      "Train loss: [regular: 0.00040777072163085046 trainable: 0.0001552362839522759]\n",
      "Val : [regular_loss: 0.00021031173395062966, trainable_loss: 0.00012729830794626983, accuracy: 0.9039200507594526]\n",
      "Epoch 23:\n",
      "Train loss: [regular: 0.00040232791205670236 trainable: 0.00015165603528174244]\n",
      "Epoch 24:\n",
      "Train loss: [regular: 0.000371957928463313 trainable: 0.00014494408349789465]\n",
      "Val : [regular_loss: 0.00022885389880019673, trainable_loss: 0.00029547991127888527, accuracy: 0.9073624476232879]\n",
      "Epoch 25:\n",
      "Train loss: [regular: 0.0003555936712606271 trainable: 0.00014125024591670583]\n",
      "Epoch 26:\n",
      "Train loss: [regular: 0.0003341996976435467 trainable: 0.00013630638802706525]\n",
      "Val : [regular_loss: 0.00018885259605482598, trainable_loss: 6.649480023559063e-05, accuracy: 0.9074787972243639]\n",
      "Epoch 27:\n",
      "Train loss: [regular: 0.0003116951529771618 trainable: 0.00013031730573841976]\n",
      "Epoch 28:\n",
      "Train loss: [regular: 0.0003080301290857226 trainable: 0.00012909398488849334]\n",
      "Val : [regular_loss: 0.0003325095349926946, trainable_loss: 0.00041395182376517, accuracy: 0.8547351960645911]\n",
      "Epoch 29:\n",
      "Train loss: [regular: 0.00028858639661202465 trainable: 0.00012419240232034486]\n",
      "Epoch 30:\n",
      "Train loss: [regular: 0.00030529365034797626 trainable: 0.00012529608285841764]\n",
      "Val : [regular_loss: 0.0002636260494492184, trainable_loss: 0.0002270797122600731, accuracy: 0.8892119098554317]\n"
     ]
    }
   ],
   "source": [
    "train_losses, test_losses, train_centerloss, test_centerloss, trained_model = train_with_trainable_loss(\n",
    "    train_dataset=train_dataset,\n",
    "    test_dataset=val_dataset,\n",
    "    model=model, \n",
    "    criterion=criterion,\n",
    "    trainable_criterion=centerloss,\n",
    "    train_dataloader_kwargs=train_dataloader_config,\n",
    "    test_dataloader_kwargs=test_dataloader_config,\n",
    "    training_kwargs=training_config,\n",
    "    device=device,\n",
    "    wandb_instance=wandb,\n",
    "    eval_every=2,\n",
    ")"
   ]
  },
  {
   "cell_type": "code",
   "execution_count": 13,
   "metadata": {},
   "outputs": [
    {
     "data": {
      "image/png": "[encoded data removed]",
      "text/plain": [
       "<Figure size 640x480 with 1 Axes>"
      ]
     },
     "metadata": {},
     "output_type": "display_data"
    },
    {
     "data": {
      "image/png": "[encoded data removed]",
      "text/plain": [
       "<Figure size 640x480 with 1 Axes>"
      ]
     },
     "metadata": {},
     "output_type": "display_data"
    }
   ],
   "source": [
    "show_train_plots(train_losses, test_losses, 'ResNet34Grayscale CrossEntropy')\n",
    "show_train_plots(train_centerloss, test_centerloss, 'ResNet34Grayscale Centerloss')"
   ]
  },
  {
   "cell_type": "code",
   "execution_count": 14,
   "metadata": {},
   "outputs": [
    {
     "name": "stderr",
     "output_type": "stream",
     "text": [
      "100%|█████████████████████████████████████████████████████████████████████████████████| 380/380 [00:39<00:00,  9.65it/s]\n"
     ]
    },
    {
     "data": {
      "text/html": [
       "Waiting for W&B process to finish... <strong style=\"color:green\">(success).</strong>"
      ],
      "text/plain": [
       "<IPython.core.display.HTML object>"
      ]
     },
     "metadata": {},
     "output_type": "display_data"
    },
    {
     "data": {
      "text/html": [
       "<style>\n",
       "    table.wandb td:nth-child(1) { padding: 0 10px; text-align: left ; width: auto;} td:nth-child(2) {text-align: left ; width: 100%}\n",
       "    .wandb-row { display: flex; flex-direction: row; flex-wrap: wrap; justify-content: flex-start; width: 100% }\n",
       "    .wandb-col { display: flex; flex-direction: column; flex-basis: 100%; flex: 1; padding: 10px; }\n",
       "    </style>\n",
       "<div class=\"wandb-row\"><div class=\"wandb-col\"><h3>Run history:</h3><br/><table class=\"wandb\"><tr><td>lr</td><td>████████████████████▁▁▁▁▁▁▁▁▁▁</td></tr></table><br/></div><div class=\"wandb-col\"><h3>Run summary:</h3><br/><table class=\"wandb\"><tr><td>lr</td><td>0.0007</td></tr><tr><td>test_accuracy</td><td>0.84444</td></tr></table><br/></div></div>"
      ],
      "text/plain": [
       "<IPython.core.display.HTML object>"
      ]
     },
     "metadata": {},
     "output_type": "display_data"
    },
    {
     "data": {
      "text/html": [
       " View run <strong style=\"color:#cdcd00\">ResNet18GrayscaleFeatPytorch 30 epochs with lr=0.001 no augment</strong> at: <a href='https://wandb.ai/vashchilkoav/ocr%20task%202/runs/kp5zckiq' target=\"_blank\">https://wandb.ai/vashchilkoav/ocr%20task%202/runs/kp5zckiq</a><br/>Synced 5 W&B file(s), 0 media file(s), 0 artifact file(s) and 2 other file(s)"
      ],
      "text/plain": [
       "<IPython.core.display.HTML object>"
      ]
     },
     "metadata": {},
     "output_type": "display_data"
    },
    {
     "data": {
      "text/html": [
       "Find logs at: <code>./wandb/run-20230409_084411-kp5zckiq/logs</code>"
      ],
      "text/plain": [
       "<IPython.core.display.HTML object>"
      ]
     },
     "metadata": {},
     "output_type": "display_data"
    }
   ],
   "source": [
    "from course_ocr_t2.evaluate import evaluate\n",
    "from tqdm import tqdm\n",
    "\n",
    "test_path = r'/DATA/ichuviliaeva/ocr_data/test.lmdb'\n",
    "pred_path = './pred.txt'\n",
    "\n",
    "test_reader = LMDBReader(test_path)\n",
    "test_reader.open()\n",
    "test_helper = HWDBDatasetHelper(test_reader, prefix='Test')\n",
    "\n",
    "test_dataset = HWDBDataset(test_helper)\n",
    "test_loader = DataLoader(test_dataset, batch_size=2048, shuffle=False, num_workers=8)\n",
    "\n",
    "preds = []\n",
    "trained_model.eval()\n",
    "with torch.no_grad():\n",
    "    for X, _ in tqdm(test_loader):\n",
    "        logits, _ = trained_model(X.to(torch.float32).to(device))\n",
    "        classes = torch.argmax(logits, dim=1).cpu().numpy()\n",
    "        preds.extend(classes)\n",
    "    \n",
    "with open(pred_path, 'w') as f_pred:\n",
    "    for idx, pred in enumerate(preds):\n",
    "        name = test_helper.namelist[idx]\n",
    "        cls = train_helper.vocabulary.class_by_index(pred)\n",
    "        print(name, cls, file=f_pred)\n",
    "        \n",
    "test_accuracy = evaluate('./gt.txt', './pred.txt')\n",
    "wandb.run.summary['test_accuracy'] = test_accuracy\n",
    "\n",
    "torch.save(trained_model.state_dict(), './model.pth')\n",
    "wandb.save('./model.pth')\n",
    "wandb.save('./pred.txt')\n",
    "\n",
    "wandb.finish()"
   ]
  },
  {
   "cell_type": "code",
   "execution_count": null,
   "metadata": {},
   "outputs": [],
   "source": []
  }
 ],
 "metadata": {
  "kernelspec": {
   "display_name": ".venv",
   "language": "python",
   "name": ".venv"
  },
  "language_info": {
   "codemirror_mode": {
    "name": "ipython",
    "version": 3
   },
   "file_extension": ".py",
   "mimetype": "text/x-python",
   "name": "python",
   "nbconvert_exporter": "python",
   "pygments_lexer": "ipython3",
   "version": "3.8.10"
  }
 },
 "nbformat": 4,
 "nbformat_minor": 4
}
