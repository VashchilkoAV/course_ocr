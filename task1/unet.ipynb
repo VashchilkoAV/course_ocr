{
 "cells": [
  {
   "cell_type": "code",
   "execution_count": 1,
   "metadata": {},
   "outputs": [
    {
     "name": "stderr",
     "output_type": "stream",
     "text": [
      "/home/avashchilko/abbyy9sem/course_cvdl/.venv/lib/python3.8/site-packages/tqdm/auto.py:22: TqdmWarning: IProgress not found. Please update jupyter and ipywidgets. See https://ipywidgets.readthedocs.io/en/stable/user_install.html\n",
      "  from .autonotebook import tqdm as notebook_tqdm\n",
      "Using cache found in /home/avashchilko/.cache/torch/hub/mateuszbuda_brain-segmentation-pytorch_master\n"
     ]
    }
   ],
   "source": [
    " \n",
    "import torch\n",
    "model = torch.hub.load('mateuszbuda/brain-segmentation-pytorch', 'unet',\n",
    "    in_channels=3, out_channels=1, init_features=32, pretrained=True)"
   ]
  },
  {
   "cell_type": "code",
   "execution_count": 2,
   "metadata": {},
   "outputs": [],
   "source": [
    "from task1pack.utils.data import SegmentationDataset\n",
    "\n",
    "#pip install -e .\n",
    "#pip install  abbyy_course_cvdl_t2\n",
    "\n",
    "from pathlib import Path\n",
    "from course_ocr_t1.data import MidvPackage\n",
    "from tqdm import tqdm\n",
    "from matplotlib import pyplot as plt\n",
    "import numpy as np\n",
    "import wandb\n",
    "\n",
    "import torch\n",
    "\n",
    "from task1pack.utils.data import HeatmapDataset"
   ]
  },
  {
   "cell_type": "code",
   "execution_count": 3,
   "metadata": {},
   "outputs": [
    {
     "data": {
      "text/plain": [
       "(50, course_ocr_t1.data.MidvPackage)"
      ]
     },
     "execution_count": 3,
     "metadata": {},
     "output_type": "execute_result"
    }
   ],
   "source": [
    "#DATASET_PATH = Path() / '..' / '..' / 'midv500_compressed'\n",
    "DATASET_PATH = Path() / '..' / '..' / 'data' / 'midv500_compressed'\n",
    "#DATASET_PATH = Path() / '..' / '..' / '..' / '..' / '..' / '..' / 'Downloads' / 'midv500_compressed'\n",
    "assert DATASET_PATH.exists(), DATASET_PATH.absolute()\n",
    "\n",
    "# Собираем список пакетов (MidvPackage) \n",
    "data_packs = MidvPackage.read_midv500_dataset(DATASET_PATH)\n",
    "len(data_packs), type(data_packs[0])"
   ]
  },
  {
   "cell_type": "code",
   "execution_count": 4,
   "metadata": {},
   "outputs": [
    {
     "name": "stdout",
     "output_type": "stream",
     "text": [
      "10750 4250\n",
      "torch.Size([3, 512, 512]) torch.Size([1, 512, 512])\n"
     ]
    }
   ],
   "source": [
    "from torchvision.transforms import Resize, Compose, ToTensor\n",
    "\n",
    "IMAGE_SIZE = [512, 512]\n",
    "\n",
    "image_transforms = Compose([\n",
    "    ToTensor(),\n",
    "    Resize(IMAGE_SIZE),\n",
    "])\n",
    "\n",
    "target_transforms = Compose([\n",
    "    Resize(IMAGE_SIZE),\n",
    "])\n",
    "\n",
    "train_dataset = SegmentationDataset(data_packs=data_packs, \n",
    "        split='train', image_transforms=image_transforms, target_transforms=target_transforms)\n",
    "test_dataset = SegmentationDataset(data_packs=data_packs, \n",
    "        split='test', image_transforms=image_transforms, target_transforms=target_transforms)\n",
    "\n",
    "print(len(train_dataset), len(test_dataset))\n",
    "print(train_dataset[0][0].shape, train_dataset[0][1].shape)"
   ]
  },
  {
   "cell_type": "code",
   "execution_count": 5,
   "metadata": {},
   "outputs": [],
   "source": [
    "from task1pack.utils.train import train_model, show_train_plots, train_new"
   ]
  },
  {
   "cell_type": "code",
   "execution_count": 6,
   "metadata": {},
   "outputs": [],
   "source": [
    "from torch.nn import BCELoss"
   ]
  },
  {
   "cell_type": "code",
   "execution_count": 7,
   "metadata": {},
   "outputs": [
    {
     "name": "stderr",
     "output_type": "stream",
     "text": [
      "Failed to detect the name of this notebook, you can set it manually with the WANDB_NOTEBOOK_NAME environment variable to enable code saving.\n",
      "\u001b[34m\u001b[1mwandb\u001b[0m: Currently logged in as: \u001b[33mvashchilkoav\u001b[0m. Use \u001b[1m`wandb login --relogin`\u001b[0m to force relogin\n"
     ]
    },
    {
     "data": {
      "text/html": [
       "Tracking run with wandb version 0.14.0"
      ],
      "text/plain": [
       "<IPython.core.display.HTML object>"
      ]
     },
     "metadata": {},
     "output_type": "display_data"
    },
    {
     "data": {
      "text/html": [
       "Run data is saved locally in <code>/home/avashchilko/abbyy10sem/course_ocr/task1/wandb/run-20230329_100558-s5ndka8j</code>"
      ],
      "text/plain": [
       "<IPython.core.display.HTML object>"
      ]
     },
     "metadata": {},
     "output_type": "display_data"
    },
    {
     "data": {
      "text/html": [
       "Syncing run <strong><a href='https://wandb.ai/vashchilkoav/ocr%20task%201/runs/s5ndka8j' target=\"_blank\">torch unet 100 epochs with lr=0.001 new train</a></strong> to <a href='https://wandb.ai/vashchilkoav/ocr%20task%201' target=\"_blank\">Weights & Biases</a> (<a href='https://wandb.me/run' target=\"_blank\">docs</a>)<br/>"
      ],
      "text/plain": [
       "<IPython.core.display.HTML object>"
      ]
     },
     "metadata": {},
     "output_type": "display_data"
    },
    {
     "data": {
      "text/html": [
       " View project at <a href='https://wandb.ai/vashchilkoav/ocr%20task%201' target=\"_blank\">https://wandb.ai/vashchilkoav/ocr%20task%201</a>"
      ],
      "text/plain": [
       "<IPython.core.display.HTML object>"
      ]
     },
     "metadata": {},
     "output_type": "display_data"
    },
    {
     "data": {
      "text/html": [
       " View run at <a href='https://wandb.ai/vashchilkoav/ocr%20task%201/runs/s5ndka8j' target=\"_blank\">https://wandb.ai/vashchilkoav/ocr%20task%201/runs/s5ndka8j</a>"
      ],
      "text/plain": [
       "<IPython.core.display.HTML object>"
      ]
     },
     "metadata": {},
     "output_type": "display_data"
    },
    {
     "data": {
      "text/html": [
       "<button onClick=\"this.nextSibling.style.display='block';this.style.display='none';\">Display W&B run</button><iframe src='https://wandb.ai/vashchilkoav/ocr%20task%201/runs/s5ndka8j?jupyter=true' style='border:none;width:100%;height:420px;display:none;'></iframe>"
      ],
      "text/plain": [
       "<wandb.sdk.wandb_run.Run at 0x7f3460225c70>"
      ]
     },
     "execution_count": 7,
     "metadata": {},
     "output_type": "execute_result"
    }
   ],
   "source": [
    "model_name = 'torch unet'\n",
    "\n",
    "train_dataloader_config = {\n",
    "    'batch_size': 8,\n",
    "    'shuffle': True,\n",
    "    'num_workers': 2,\n",
    "}\n",
    "\n",
    "test_dataloader_config = {\n",
    "    'batch_size': 8,\n",
    "    'shuffle': False,\n",
    "    'num_workers': 2,\n",
    "}\n",
    "\n",
    "training_config = {\n",
    "    'lr': 1e-3,\n",
    "    'epochs': 100,\n",
    "    'step_size': 25,\n",
    "    'milestones': [25, 50, 75],\n",
    "    'gamma': 0.7,\n",
    "}\n",
    "\n",
    "\n",
    "device = 'cuda:1'\n",
    "criterion = BCELoss()\n",
    "\n",
    "wandb.init(\n",
    "    project='ocr task 1',\n",
    "    name='{} {} epochs with lr={} new train'.format(model_name, training_config['epochs'], training_config['lr']),\n",
    "    config={\n",
    "        'train_dataloader_config': train_dataloader_config,\n",
    "        'test_dataloader_config': test_dataloader_config,\n",
    "        'training_config': training_config,\n",
    "\n",
    "    \"architecture\": model_name,\n",
    "    \"dataset\": \"MIDV-500\",\n",
    "    \"criterion\": \"BCELoss\",\n",
    "    \"optimizer\": \"Adam\",\n",
    "    \"image_size\": IMAGE_SIZE,  \n",
    "    }\n",
    ")"
   ]
  },
  {
   "cell_type": "code",
   "execution_count": 8,
   "metadata": {},
   "outputs": [
    {
     "name": "stdout",
     "output_type": "stream",
     "text": [
      "Initial val loss: 0.3497244417667389\n",
      "Epoch 1:\n",
      "Train loss: 0.009463250637054443\n",
      "Epoch 2:\n",
      "Train loss: 0.0027660082560032606\n",
      "Epoch 3:\n",
      "Train loss: 0.0020089864265173674\n",
      "Epoch 4:\n",
      "Train loss: 0.0017465533455833793\n",
      "Epoch 5:\n",
      "Val loss: 0.008786329999566078\n",
      "Train loss: 0.0014296903973445296\n",
      "Epoch 6:\n",
      "Train loss: 0.0012657494517043233\n",
      "Epoch 7:\n",
      "Train loss: 0.0011803817469626665\n",
      "Epoch 8:\n",
      "Train loss: 0.0010197011288255453\n",
      "Epoch 9:\n",
      "Train loss: 0.0011391111183911562\n",
      "Epoch 10:\n",
      "Val loss: 0.003814129624515772\n",
      "Train loss: 0.0011070979526266456\n",
      "Epoch 11:\n",
      "Train loss: 0.0007562668179161847\n",
      "Epoch 12:\n",
      "Train loss: 0.0008426205604337156\n",
      "Epoch 13:\n",
      "Train loss: 0.0007803894695825875\n",
      "Epoch 14:\n",
      "Train loss: 0.0007621009135618806\n",
      "Epoch 15:\n",
      "Val loss: 0.011337289586663246\n",
      "Train loss: 0.0007635108777321875\n",
      "Epoch 16:\n",
      "Train loss: 0.0008116129320114851\n",
      "Epoch 17:\n",
      "Train loss: 0.0006858967244625092\n",
      "Epoch 18:\n",
      "Train loss: 0.0006572501151822507\n",
      "Epoch 19:\n",
      "Train loss: 0.0007351592648774385\n",
      "Epoch 20:\n",
      "Val loss: 0.009270232170820236\n",
      "Train loss: 0.0006134561263024807\n",
      "Epoch 21:\n",
      "Train loss: 0.0007334272377192974\n",
      "Epoch 22:\n",
      "Train loss: 0.0006009101634845138\n",
      "Epoch 23:\n",
      "Train loss: 0.0005807836423628032\n",
      "Epoch 24:\n",
      "Train loss: 0.0006902102031745017\n",
      "Epoch 25:\n",
      "Val loss: 0.01077154278755188\n",
      "Train loss: 0.0005745154339820147\n",
      "Epoch 26:\n",
      "Train loss: 0.0005590338842011988\n",
      "Epoch 27:\n",
      "Train loss: 0.0005721511552110314\n",
      "Epoch 28:\n",
      "Train loss: 0.0005279220640659332\n",
      "Epoch 29:\n",
      "Train loss: 0.000534017279278487\n",
      "Epoch 30:\n",
      "Val loss: 0.012577387504279613\n",
      "Train loss: 0.0005408635479398072\n",
      "Epoch 31:\n",
      "Train loss: 0.0005591289373114705\n",
      "Epoch 32:\n",
      "Train loss: 0.0005164729082025588\n",
      "Epoch 33:\n",
      "Train loss: 0.000501027621794492\n",
      "Epoch 34:\n",
      "Train loss: 0.0005020924145355821\n",
      "Epoch 35:\n",
      "Val loss: 0.01005368772894144\n",
      "Train loss: 0.0005178903811611235\n",
      "Epoch 36:\n",
      "Train loss: 0.0004871573473792523\n",
      "Epoch 37:\n",
      "Train loss: 0.0004818120214622468\n",
      "Epoch 38:\n",
      "Train loss: 0.00048163445899263024\n",
      "Epoch 39:\n",
      "Train loss: 0.000534463266376406\n",
      "Epoch 40:\n",
      "Val loss: 0.009889339096844196\n",
      "Train loss: 0.0004807033692486584\n",
      "Epoch 41:\n",
      "Train loss: 0.000460443930933252\n",
      "Epoch 42:\n",
      "Train loss: 0.00046136544551700354\n",
      "Epoch 43:\n",
      "Train loss: 0.0004580578824970871\n",
      "Epoch 44:\n",
      "Train loss: 0.000485543510876596\n",
      "Epoch 45:\n",
      "Val loss: 0.010265402495861053\n",
      "Train loss: 0.0004484592645894736\n",
      "Epoch 46:\n",
      "Train loss: 0.00044057625927962363\n",
      "Epoch 47:\n",
      "Train loss: 0.00043990774429403245\n",
      "Epoch 48:\n",
      "Train loss: 0.00043912732508033514\n",
      "Epoch 49:\n",
      "Train loss: 0.0004340616287663579\n",
      "Epoch 50:\n",
      "Val loss: 0.013611732982099056\n",
      "Train loss: 0.0004604202986229211\n",
      "Epoch 51:\n",
      "Train loss: 0.00042318078340031207\n",
      "Epoch 52:\n",
      "Train loss: 0.00040884094778448343\n",
      "Epoch 53:\n",
      "Train loss: 0.0004048967093694955\n",
      "Epoch 54:\n",
      "Train loss: 0.00040184170939028263\n",
      "Epoch 55:\n",
      "Val loss: 0.013004892505705357\n",
      "Train loss: 0.00039868420572020113\n",
      "Epoch 56:\n",
      "Train loss: 0.0003941550094168633\n",
      "Epoch 57:\n",
      "Train loss: 0.0003897035785485059\n",
      "Epoch 58:\n",
      "Train loss: 0.00039213296258822083\n",
      "Epoch 59:\n",
      "Train loss: 0.0003905092307832092\n",
      "Epoch 60:\n",
      "Val loss: 0.011146406643092632\n",
      "Train loss: 0.00037684643757529557\n",
      "Epoch 61:\n",
      "Train loss: 0.00037349972990341485\n",
      "Epoch 62:\n",
      "Train loss: 0.00037222285754978657\n",
      "Epoch 63:\n",
      "Train loss: 0.0003696125349961221\n",
      "Epoch 64:\n",
      "Train loss: 0.0003654868924058974\n",
      "Epoch 65:\n",
      "Val loss: 0.01365374680608511\n",
      "Train loss: 0.00036267496761865914\n",
      "Epoch 66:\n",
      "Train loss: 0.0003599968331400305\n",
      "Epoch 67:\n",
      "Train loss: 0.0003586428065318614\n",
      "Epoch 68:\n",
      "Train loss: 0.000351690745446831\n",
      "Epoch 69:\n",
      "Train loss: 0.0003496126155368984\n",
      "Epoch 70:\n",
      "Val loss: 0.014449328184127808\n",
      "Train loss: 0.00034600545768626034\n",
      "Epoch 71:\n",
      "Train loss: 0.00035114132333546877\n",
      "Epoch 72:\n",
      "Train loss: 0.0003692166064865887\n",
      "Epoch 73:\n",
      "Train loss: 0.0003355816879775375\n",
      "Epoch 74:\n",
      "Train loss: 0.00033249639091081917\n",
      "Epoch 75:\n",
      "Val loss: 0.014216534793376923\n",
      "Train loss: 0.0003325396974105388\n",
      "Epoch 76:\n",
      "Train loss: 0.00032345548970624804\n",
      "Epoch 77:\n",
      "Train loss: 0.00031882920302450657\n",
      "Epoch 78:\n",
      "Train loss: 0.0003159511834383011\n",
      "Epoch 79:\n",
      "Train loss: 0.0003139676700811833\n",
      "Epoch 80:\n",
      "Val loss: 0.01615309715270996\n",
      "Train loss: 0.0003120779583696276\n",
      "Epoch 81:\n",
      "Train loss: 0.00030960753792896867\n",
      "Epoch 82:\n",
      "Train loss: 0.0003075989370699972\n",
      "Epoch 83:\n",
      "Train loss: 0.0003052955726161599\n",
      "Epoch 84:\n",
      "Train loss: 0.00030353438341990113\n",
      "Epoch 85:\n",
      "Val loss: 0.016148747876286507\n",
      "Train loss: 0.0003019615251105279\n",
      "Epoch 86:\n",
      "Train loss: 0.0002996010589413345\n",
      "Epoch 87:\n",
      "Train loss: 0.0003001444274559617\n",
      "Epoch 88:\n",
      "Train loss: 0.000296654412522912\n",
      "Epoch 89:\n",
      "Train loss: 0.00029590618214569986\n",
      "Epoch 90:\n",
      "Val loss: 0.01735994778573513\n",
      "Train loss: 0.000294477358693257\n",
      "Epoch 91:\n",
      "Train loss: 0.0002932434726972133\n",
      "Epoch 92:\n",
      "Train loss: 0.0002919546968769282\n",
      "Epoch 93:\n",
      "Train loss: 0.00028969725826755166\n",
      "Epoch 94:\n",
      "Train loss: 0.0002885305730160326\n",
      "Epoch 95:\n",
      "Val loss: 0.01743738353252411\n",
      "Train loss: 0.0002877090300898999\n",
      "Epoch 96:\n",
      "Train loss: 0.00028687657322734594\n",
      "Epoch 97:\n",
      "Train loss: 0.0002856251667253673\n",
      "Epoch 98:\n",
      "Train loss: 0.00028583567473106086\n",
      "Epoch 99:\n",
      "Train loss: 0.0002827432763297111\n",
      "Epoch 100:\n",
      "Val loss: 0.018556203693151474\n",
      "Train loss: 0.0002819777582772076\n"
     ]
    },
    {
     "ename": "TypeError",
     "evalue": "can't convert cuda:1 device type tensor to numpy. Use Tensor.cpu() to copy the tensor to host memory first.",
     "output_type": "error",
     "traceback": [
      "\u001b[0;31m---------------------------------------------------------------------------\u001b[0m",
      "\u001b[0;31mTypeError\u001b[0m                                 Traceback (most recent call last)",
      "Cell \u001b[0;32mIn [8], line 1\u001b[0m\n\u001b[0;32m----> 1\u001b[0m train_losses, test_losses, trained_model \u001b[38;5;241m=\u001b[39m \u001b[43mtrain_new\u001b[49m\u001b[43m(\u001b[49m\n\u001b[1;32m      2\u001b[0m \u001b[43m    \u001b[49m\u001b[43mtrain_dataset\u001b[49m\u001b[38;5;241;43m=\u001b[39;49m\u001b[43mtrain_dataset\u001b[49m\u001b[43m,\u001b[49m\u001b[43m \u001b[49m\n\u001b[1;32m      3\u001b[0m \u001b[43m    \u001b[49m\u001b[43mtest_dataset\u001b[49m\u001b[38;5;241;43m=\u001b[39;49m\u001b[43mtest_dataset\u001b[49m\u001b[43m,\u001b[49m\u001b[43m \u001b[49m\n\u001b[1;32m      4\u001b[0m \u001b[43m    \u001b[49m\u001b[43mmodel\u001b[49m\u001b[38;5;241;43m=\u001b[39;49m\u001b[43mmodel\u001b[49m\u001b[43m,\u001b[49m\u001b[43m \u001b[49m\n\u001b[1;32m      5\u001b[0m \u001b[43m    \u001b[49m\u001b[43mtrain_dataloader_kwargs\u001b[49m\u001b[38;5;241;43m=\u001b[39;49m\u001b[43mtrain_dataloader_config\u001b[49m\u001b[43m,\u001b[49m\u001b[43m \u001b[49m\n\u001b[1;32m      6\u001b[0m \u001b[43m    \u001b[49m\u001b[43mtest_dataloader_kwargs\u001b[49m\u001b[38;5;241;43m=\u001b[39;49m\u001b[43mtest_dataloader_config\u001b[49m\u001b[43m,\u001b[49m\u001b[43m \u001b[49m\n\u001b[1;32m      7\u001b[0m \u001b[43m    \u001b[49m\u001b[43mtraining_kwargs\u001b[49m\u001b[38;5;241;43m=\u001b[39;49m\u001b[43mtraining_config\u001b[49m\u001b[43m,\u001b[49m\n\u001b[1;32m      8\u001b[0m \u001b[43m    \u001b[49m\u001b[43mcriterion\u001b[49m\u001b[38;5;241;43m=\u001b[39;49m\u001b[43mcriterion\u001b[49m\u001b[43m,\u001b[49m\n\u001b[1;32m      9\u001b[0m \u001b[43m    \u001b[49m\u001b[43mdevice\u001b[49m\u001b[38;5;241;43m=\u001b[39;49m\u001b[43mdevice\u001b[49m\u001b[43m,\u001b[49m\n\u001b[1;32m     10\u001b[0m \u001b[43m    \u001b[49m\u001b[43mwandb_instance\u001b[49m\u001b[38;5;241;43m=\u001b[39;49m\u001b[43mwandb\u001b[49m\u001b[43m,\u001b[49m\n\u001b[1;32m     11\u001b[0m \u001b[43m)\u001b[49m\n",
      "File \u001b[0;32m~/abbyy10sem/course_ocr/task1/task1pack/utils/train.py:349\u001b[0m, in \u001b[0;36mtrain_new\u001b[0;34m(model, criterion, device, train_dataset, test_dataset, train_dataloader_kwargs, test_dataloader_kwargs, training_kwargs, wandb_instance, eval_every)\u001b[0m\n\u001b[1;32m    339\u001b[0m         wandb_instance\u001b[38;5;241m.\u001b[39mlog({\n\u001b[1;32m    340\u001b[0m             \u001b[38;5;124m'\u001b[39m\u001b[38;5;124mtrain\u001b[39m\u001b[38;5;124m'\u001b[39m: {\n\u001b[1;32m    341\u001b[0m                 \u001b[38;5;124m'\u001b[39m\u001b[38;5;124mloss\u001b[39m\u001b[38;5;124m'\u001b[39m: train_loss,\n\u001b[1;32m    342\u001b[0m             },\n\u001b[1;32m    343\u001b[0m             \u001b[38;5;124m'\u001b[39m\u001b[38;5;124mlr\u001b[39m\u001b[38;5;124m'\u001b[39m: scheduler\u001b[38;5;241m.\u001b[39mget_last_lr()[\u001b[38;5;241m0\u001b[39m],\n\u001b[1;32m    344\u001b[0m         }, step\u001b[38;5;241m=\u001b[39mepoch\u001b[38;5;241m+\u001b[39m\u001b[38;5;241m1\u001b[39m)\n\u001b[1;32m    347\u001b[0m     scheduler\u001b[38;5;241m.\u001b[39mstep()\n\u001b[0;32m--> 349\u001b[0m \u001b[38;5;28;01mreturn\u001b[39;00m \u001b[43mnp\u001b[49m\u001b[38;5;241;43m.\u001b[39;49m\u001b[43marray\u001b[49m\u001b[43m(\u001b[49m\u001b[43mtrain_losses\u001b[49m\u001b[43m)\u001b[49m, np\u001b[38;5;241m.\u001b[39marray(test_losses), model\n",
      "File \u001b[0;32m~/abbyy9sem/course_cvdl/.venv/lib/python3.8/site-packages/torch/_tensor.py:955\u001b[0m, in \u001b[0;36mTensor.__array__\u001b[0;34m(self, dtype)\u001b[0m\n\u001b[1;32m    953\u001b[0m     \u001b[38;5;28;01mreturn\u001b[39;00m handle_torch_function(Tensor\u001b[38;5;241m.\u001b[39m__array__, (\u001b[38;5;28mself\u001b[39m,), \u001b[38;5;28mself\u001b[39m, dtype\u001b[38;5;241m=\u001b[39mdtype)\n\u001b[1;32m    954\u001b[0m \u001b[38;5;28;01mif\u001b[39;00m dtype \u001b[38;5;129;01mis\u001b[39;00m \u001b[38;5;28;01mNone\u001b[39;00m:\n\u001b[0;32m--> 955\u001b[0m     \u001b[38;5;28;01mreturn\u001b[39;00m \u001b[38;5;28;43mself\u001b[39;49m\u001b[38;5;241;43m.\u001b[39;49m\u001b[43mnumpy\u001b[49m\u001b[43m(\u001b[49m\u001b[43m)\u001b[49m\n\u001b[1;32m    956\u001b[0m \u001b[38;5;28;01melse\u001b[39;00m:\n\u001b[1;32m    957\u001b[0m     \u001b[38;5;28;01mreturn\u001b[39;00m \u001b[38;5;28mself\u001b[39m\u001b[38;5;241m.\u001b[39mnumpy()\u001b[38;5;241m.\u001b[39mastype(dtype, copy\u001b[38;5;241m=\u001b[39m\u001b[38;5;28;01mFalse\u001b[39;00m)\n",
      "\u001b[0;31mTypeError\u001b[0m: can't convert cuda:1 device type tensor to numpy. Use Tensor.cpu() to copy the tensor to host memory first."
     ]
    }
   ],
   "source": [
    "train_losses, test_losses, trained_model = train_new(\n",
    "    train_dataset=train_dataset, \n",
    "    test_dataset=test_dataset, \n",
    "    model=model, \n",
    "    train_dataloader_kwargs=train_dataloader_config, \n",
    "    test_dataloader_kwargs=test_dataloader_config, \n",
    "    training_kwargs=training_config,\n",
    "    criterion=criterion,\n",
    "    device=device,\n",
    "    wandb_instance=wandb,\n",
    ")"
   ]
  },
  {
   "cell_type": "code",
   "execution_count": 10,
   "metadata": {},
   "outputs": [],
   "source": [
    "torch.save(model.state_dict(), './unet.pth')"
   ]
  },
  {
   "cell_type": "code",
   "execution_count": 11,
   "metadata": {},
   "outputs": [
    {
     "data": {
      "text/html": [
       "Waiting for W&B process to finish... <strong style=\"color:green\">(success).</strong>"
      ],
      "text/plain": [
       "<IPython.core.display.HTML object>"
      ]
     },
     "metadata": {},
     "output_type": "display_data"
    },
    {
     "data": {
      "text/html": [
       "<style>\n",
       "    table.wandb td:nth-child(1) { padding: 0 10px; text-align: left ; width: auto;} td:nth-child(2) {text-align: left ; width: 100%}\n",
       "    .wandb-row { display: flex; flex-direction: row; flex-wrap: wrap; justify-content: flex-start; width: 100% }\n",
       "    .wandb-col { display: flex; flex-direction: column; flex-basis: 100%; flex: 1; padding: 10px; }\n",
       "    </style>\n",
       "<div class=\"wandb-row\"><div class=\"wandb-col\"><h3>Run history:</h3><br/><table class=\"wandb\"><tr><td>lr</td><td>██████████▅▅▅▅▅▅▅▅▅▅▃▃▃▃▃▃▃▃▃▃▁▁▁▁▁▁▁▁▁▁</td></tr></table><br/></div><div class=\"wandb-col\"><h3>Run summary:</h3><br/><table class=\"wandb\"><tr><td>lr</td><td>0.00034</td></tr></table><br/></div></div>"
      ],
      "text/plain": [
       "<IPython.core.display.HTML object>"
      ]
     },
     "metadata": {},
     "output_type": "display_data"
    },
    {
     "data": {
      "text/html": [
       " View run <strong style=\"color:#cdcd00\">torch unet 100 epochs with lr=0.001 new train</strong> at: <a href='https://wandb.ai/vashchilkoav/ocr%20task%201/runs/s5ndka8j' target=\"_blank\">https://wandb.ai/vashchilkoav/ocr%20task%201/runs/s5ndka8j</a><br/>Synced 5 W&B file(s), 0 media file(s), 0 artifact file(s) and 0 other file(s)"
      ],
      "text/plain": [
       "<IPython.core.display.HTML object>"
      ]
     },
     "metadata": {},
     "output_type": "display_data"
    },
    {
     "data": {
      "text/html": [
       "Find logs at: <code>./wandb/run-20230329_100558-s5ndka8j/logs</code>"
      ],
      "text/plain": [
       "<IPython.core.display.HTML object>"
      ]
     },
     "metadata": {},
     "output_type": "display_data"
    }
   ],
   "source": [
    "wandb.finish()"
   ]
  },
  {
   "cell_type": "code",
   "execution_count": null,
   "metadata": {},
   "outputs": [],
   "source": []
  }
 ],
 "metadata": {
  "kernelspec": {
   "display_name": ".venv",
   "language": "python",
   "name": ".venv"
  },
  "language_info": {
   "codemirror_mode": {
    "name": "ipython",
    "version": 3
   },
   "file_extension": ".py",
   "mimetype": "text/x-python",
   "name": "python",
   "nbconvert_exporter": "python",
   "pygments_lexer": "ipython3",
   "version": "3.8.10"
  }
 },
 "nbformat": 4,
 "nbformat_minor": 2
}
