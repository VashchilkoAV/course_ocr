{
 "cells": [
  {
   "cell_type": "markdown",
   "metadata": {},
   "source": [
    "## Dataset preparation"
   ]
  },
  {
   "cell_type": "code",
   "execution_count": 1,
   "metadata": {},
   "outputs": [
    {
     "name": "stderr",
     "output_type": "stream",
     "text": [
      "/home/avashchilko/abbyy9sem/course_cvdl/.venv/lib/python3.8/site-packages/tqdm/auto.py:22: TqdmWarning: IProgress not found. Please update jupyter and ipywidgets. See https://ipywidgets.readthedocs.io/en/stable/user_install.html\n",
      "  from .autonotebook import tqdm as notebook_tqdm\n"
     ]
    }
   ],
   "source": [
    "#pip install -e .\n",
    "#pip install  abbyy_course_cvdl_t2\n",
    "\n",
    "from pathlib import Path\n",
    "from course_ocr_t1.data import MidvPackage\n",
    "from tqdm import tqdm\n",
    "from matplotlib import pyplot as plt\n",
    "import numpy as np\n",
    "import wandb\n",
    "\n",
    "import torch\n",
    "\n",
    "from task1pack.utils.data import HeatmapDataset"
   ]
  },
  {
   "cell_type": "code",
   "execution_count": 2,
   "metadata": {},
   "outputs": [
    {
     "data": {
      "text/plain": [
       "<torch._C.Generator at 0x7f650c9b92d0>"
      ]
     },
     "execution_count": 2,
     "metadata": {},
     "output_type": "execute_result"
    }
   ],
   "source": [
    "torch.manual_seed(42)"
   ]
  },
  {
   "cell_type": "code",
   "execution_count": 3,
   "metadata": {},
   "outputs": [
    {
     "data": {
      "text/plain": [
       "(50, course_ocr_t1.data.MidvPackage)"
      ]
     },
     "execution_count": 3,
     "metadata": {},
     "output_type": "execute_result"
    }
   ],
   "source": [
    "DATASET_PATH = Path() / '..' / '..' / 'data' / 'midv500_compressed'\n",
    "#DATASET_PATH = Path() / '..' / '..' / '..' / '..' / '..' / '..' / 'Downloads' / 'midv500_compressed'\n",
    "assert DATASET_PATH.exists(), DATASET_PATH.absolute()\n",
    "\n",
    "# Собираем список пакетов (MidvPackage) \n",
    "data_packs = MidvPackage.read_midv500_dataset(DATASET_PATH)\n",
    "len(data_packs), type(data_packs[0])"
   ]
  },
  {
   "cell_type": "code",
   "execution_count": 4,
   "metadata": {},
   "outputs": [
    {
     "name": "stdout",
     "output_type": "stream",
     "text": [
      "10750 4250\n",
      "torch.Size([3, 416, 416]) torch.Size([4, 2])\n"
     ]
    }
   ],
   "source": [
    "from torchvision.transforms import Resize, Compose, ToTensor\n",
    "\n",
    "IMAGE_SIZE = [416, 416]\n",
    "HEATMAP_SIZE = [104, 104]\n",
    "\n",
    "transforms = Compose([\n",
    "    ToTensor(),\n",
    "    Resize(IMAGE_SIZE),\n",
    "])\n",
    "\n",
    "train_dataset = HeatmapDataset(data_packs=data_packs, split='train', transforms=transforms, output_size=HEATMAP_SIZE)\n",
    "test_dataset = HeatmapDataset(data_packs=data_packs, split='test', transforms=transforms, output_size=HEATMAP_SIZE)\n",
    "\n",
    "print(len(train_dataset), len(test_dataset))\n",
    "print(train_dataset[0][0].shape, train_dataset[0][1].shape)"
   ]
  },
  {
   "cell_type": "markdown",
   "metadata": {},
   "source": [
    "## Experiment"
   ]
  },
  {
   "cell_type": "code",
   "execution_count": 5,
   "metadata": {},
   "outputs": [],
   "source": [
    "from task1pack.models.centernet import CenterNet\n",
    "\n",
    "from task1pack.utils.train import train_model, show_train_plots\n",
    "\n",
    "from torch.nn import MSELoss"
   ]
  },
  {
   "cell_type": "code",
   "execution_count": 6,
   "metadata": {},
   "outputs": [
    {
     "name": "stderr",
     "output_type": "stream",
     "text": [
      "/home/avashchilko/abbyy9sem/course_cvdl/.venv/lib/python3.8/site-packages/torchvision/models/_utils.py:208: UserWarning: The parameter 'pretrained' is deprecated since 0.13 and may be removed in the future, please use 'weights' instead.\n",
      "  warnings.warn(\n",
      "/home/avashchilko/abbyy9sem/course_cvdl/.venv/lib/python3.8/site-packages/torchvision/models/_utils.py:223: UserWarning: Arguments other than a weight enum or `None` for 'weights' are deprecated since 0.13 and may be removed in the future. The current behavior is equivalent to passing `weights=ResNet34_Weights.IMAGENET1K_V1`. You can also use `weights=ResNet34_Weights.DEFAULT` to get the most up-to-date weights.\n",
      "  warnings.warn(msg)\n"
     ]
    }
   ],
   "source": [
    "centernet = CenterNet(pretrained=\"resnet34\", head_kwargs={'c_classes': 4})"
   ]
  },
  {
   "cell_type": "code",
   "execution_count": 9,
   "metadata": {},
   "outputs": [
    {
     "name": "stderr",
     "output_type": "stream",
     "text": [
      "Failed to detect the name of this notebook, you can set it manually with the WANDB_NOTEBOOK_NAME environment variable to enable code saving.\n",
      "\u001b[34m\u001b[1mwandb\u001b[0m: Currently logged in as: \u001b[33mvashchilkoav\u001b[0m. Use \u001b[1m`wandb login --relogin`\u001b[0m to force relogin\n"
     ]
    },
    {
     "data": {
      "text/html": [
       "Tracking run with wandb version 0.14.0"
      ],
      "text/plain": [
       "<IPython.core.display.HTML object>"
      ]
     },
     "metadata": {},
     "output_type": "display_data"
    },
    {
     "data": {
      "text/html": [
       "Run data is saved locally in <code>/home/avashchilko/abbyy10sem/course_ocr/task1/wandb/run-20230325_231858-361ytsab</code>"
      ],
      "text/plain": [
       "<IPython.core.display.HTML object>"
      ]
     },
     "metadata": {},
     "output_type": "display_data"
    },
    {
     "data": {
      "text/html": [
       "Syncing run <strong><a href='https://wandb.ai/vashchilkoav/ocr%20task%201/runs/361ytsab' target=\"_blank\">CenterNet 100 epochs with lr=0.001</a></strong> to <a href='https://wandb.ai/vashchilkoav/ocr%20task%201' target=\"_blank\">Weights & Biases</a> (<a href='https://wandb.me/run' target=\"_blank\">docs</a>)<br/>"
      ],
      "text/plain": [
       "<IPython.core.display.HTML object>"
      ]
     },
     "metadata": {},
     "output_type": "display_data"
    },
    {
     "data": {
      "text/html": [
       " View project at <a href='https://wandb.ai/vashchilkoav/ocr%20task%201' target=\"_blank\">https://wandb.ai/vashchilkoav/ocr%20task%201</a>"
      ],
      "text/plain": [
       "<IPython.core.display.HTML object>"
      ]
     },
     "metadata": {},
     "output_type": "display_data"
    },
    {
     "data": {
      "text/html": [
       " View run at <a href='https://wandb.ai/vashchilkoav/ocr%20task%201/runs/361ytsab' target=\"_blank\">https://wandb.ai/vashchilkoav/ocr%20task%201/runs/361ytsab</a>"
      ],
      "text/plain": [
       "<IPython.core.display.HTML object>"
      ]
     },
     "metadata": {},
     "output_type": "display_data"
    },
    {
     "data": {
      "text/html": [
       "<button onClick=\"this.nextSibling.style.display='block';this.style.display='none';\">Display W&B run</button><iframe src='https://wandb.ai/vashchilkoav/ocr%20task%201/runs/361ytsab?jupyter=true' style='border:none;width:100%;height:420px;display:none;'></iframe>"
      ],
      "text/plain": [
       "<wandb.sdk.wandb_run.Run at 0x7f64ca078670>"
      ]
     },
     "execution_count": 9,
     "metadata": {},
     "output_type": "execute_result"
    }
   ],
   "source": [
    "model_name = 'CenterNet'\n",
    "\n",
    "train_dataloader_config = {\n",
    "    'batch_size': 8,\n",
    "    'shuffle': True,\n",
    "}\n",
    "\n",
    "test_dataloader_config = {\n",
    "    'batch_size': 8,\n",
    "    'shuffle': False,\n",
    "}\n",
    "\n",
    "training_config = {\n",
    "    'lr': 1e-3,\n",
    "    'epochs': 100,\n",
    "    'step_size': 15,\n",
    "    'gamma': 0.1,\n",
    "}\n",
    "\n",
    "device = 'cuda:0'\n",
    "criterion = MSELoss()\n",
    "\n",
    "wandb.init(\n",
    "    project='ocr task 1',\n",
    "    name='{} {} epochs with lr={}'.format(model_name, training_config['epochs'], training_config['lr']),\n",
    "    config={\n",
    "        'train_dataloader_config': train_dataloader_config,\n",
    "        'test_dataloader_config': test_dataloader_config,\n",
    "        'training_config': training_config,\n",
    "\n",
    "    \"architecture\": model_name,\n",
    "    \"dataset\": \"MIDV-500\",\n",
    "    \"criterion\": \"MSELoss\",\n",
    "    \"optimizer\": \"Adam\",\n",
    "    \"image_size\": IMAGE_SIZE,\n",
    "    \"heatmap_size\": HEATMAP_SIZE,    \n",
    "    }\n",
    ")"
   ]
  },
  {
   "cell_type": "code",
   "execution_count": 10,
   "metadata": {},
   "outputs": [
    {
     "name": "stderr",
     "output_type": "stream",
     "text": [
      "/home/avashchilko/abbyy9sem/course_cvdl/.venv/lib/python3.8/site-packages/torch/functional.py:504: UserWarning: torch.meshgrid: in an upcoming release, it will be required to pass the indexing argument. (Triggered internally at ../aten/src/ATen/native/TensorShape.cpp:3190.)\n",
      "  return _VF.meshgrid(tensors, **kwargs)  # type: ignore[attr-defined]\n"
     ]
    },
    {
     "name": "stdout",
     "output_type": "stream",
     "text": [
      "initial loss 0.11510152369737625\n",
      "epoch 0 started\n",
      "train loss: 0.02921081917641762, test_loss: 0.01933412067592144\n",
      "epoch 1 started\n",
      "train loss: 0.02009017217919574, test_loss: 0.010490831919014454\n",
      "epoch 2 started\n",
      "train loss: 0.016959983885715787, test_loss: 0.00954030454158783\n",
      "epoch 3 started\n",
      "train loss: 0.016453158198817704, test_loss: 0.010955075733363628\n",
      "epoch 4 started\n",
      "train loss: 0.016638709820697494, test_loss: 0.08316659927368164\n",
      "epoch 5 started\n",
      "train loss: 0.018109165780818632, test_loss: 0.009095562621951103\n",
      "epoch 6 started\n",
      "train loss: 0.014321827599165513, test_loss: 0.008373656310141087\n",
      "epoch 7 started\n",
      "train loss: 0.01442148016914351, test_loss: 0.010506569407880306\n",
      "epoch 8 started\n",
      "train loss: 0.013657078226970043, test_loss: 0.008272064849734306\n",
      "epoch 9 started\n",
      "train loss: 0.013508215816121568, test_loss: 0.009018531069159508\n",
      "epoch 10 started\n",
      "train loss: 0.013125118097074543, test_loss: 0.00816868245601654\n",
      "epoch 11 started\n",
      "train loss: 0.012850391745641468, test_loss: 0.007310622837394476\n",
      "epoch 12 started\n",
      "train loss: 0.012680593417826458, test_loss: 0.007404659409075975\n",
      "epoch 13 started\n",
      "train loss: 0.011761196923587357, test_loss: 0.006956509780138731\n",
      "epoch 14 started\n",
      "train loss: 0.011508871592057057, test_loss: 0.007560424972325563\n",
      "epoch 15 started\n",
      "train loss: 0.010434567348662918, test_loss: 0.006824058014899492\n",
      "epoch 16 started\n",
      "train loss: 0.010290614832618823, test_loss: 0.007544641848653555\n",
      "epoch 17 started\n",
      "train loss: 0.010155688201740261, test_loss: 0.00730940094217658\n",
      "epoch 18 started\n",
      "train loss: 0.010052465924109995, test_loss: 0.0073863435536623\n",
      "epoch 19 started\n",
      "train loss: 0.009961053723881855, test_loss: 0.007235341239720583\n",
      "epoch 20 started\n",
      "train loss: 0.009881933986889635, test_loss: 0.007518931291997433\n",
      "epoch 21 started\n",
      "train loss: 0.009829922525460418, test_loss: 0.0069162920117378235\n",
      "epoch 22 started\n",
      "train loss: 0.009870560435263628, test_loss: 0.006695528049021959\n",
      "epoch 23 started\n",
      "train loss: 0.009697356654496184, test_loss: 0.006869470700621605\n",
      "epoch 24 started\n",
      "train loss: 0.00961315035486959, test_loss: 0.006605920381844044\n",
      "epoch 25 started\n",
      "train loss: 0.009517179445364968, test_loss: 0.007297310046851635\n",
      "epoch 26 started\n",
      "train loss: 0.009530886452856586, test_loss: 0.007318226620554924\n",
      "epoch 27 started\n",
      "train loss: 0.009457527125267092, test_loss: 0.006848969031125307\n",
      "epoch 28 started\n",
      "train loss: 0.00947950771842443, test_loss: 0.00669383630156517\n",
      "epoch 29 started\n",
      "train loss: 0.009393600483928736, test_loss: 0.007123084738850594\n",
      "epoch 30 started\n",
      "train loss: 0.00935531176472588, test_loss: 0.007099311798810959\n",
      "epoch 31 started\n",
      "train loss: 0.009350274519333436, test_loss: 0.0071550761349499226\n",
      "epoch 32 started\n",
      "train loss: 0.009342752928032064, test_loss: 0.007046911865472794\n",
      "epoch 33 started\n",
      "train loss: 0.009335137574583183, test_loss: 0.007168634328991175\n",
      "epoch 34 started\n",
      "train loss: 0.009333864853596467, test_loss: 0.007133085280656815\n",
      "epoch 35 started\n",
      "train loss: 0.009328758975395127, test_loss: 0.007114178501069546\n",
      "epoch 36 started\n",
      "train loss: 0.009333675396646868, test_loss: 0.007122706156224012\n",
      "epoch 37 started\n",
      "train loss: 0.009332141424736273, test_loss: 0.0071246265433728695\n",
      "epoch 38 started\n",
      "train loss: 0.009317279134003391, test_loss: 0.007077896501868963\n",
      "epoch 39 started\n",
      "train loss: 0.00931535472346652, test_loss: 0.00709380442276597\n",
      "epoch 40 started\n",
      "train loss: 0.009312978257531497, test_loss: 0.007120059337466955\n",
      "epoch 41 started\n",
      "train loss: 0.009317943928246157, test_loss: 0.007090517319738865\n",
      "epoch 42 started\n",
      "train loss: 0.009309955450286603, test_loss: 0.007159401662647724\n",
      "epoch 43 started\n",
      "train loss: 0.009304983828076815, test_loss: 0.007181381341069937\n",
      "epoch 44 started\n",
      "train loss: 0.009309067948401034, test_loss: 0.007151289843022823\n",
      "epoch 45 started\n",
      "train loss: 0.009301345590236971, test_loss: 0.0071427724324166775\n",
      "epoch 46 started\n",
      "train loss: 0.009295238763960307, test_loss: 0.007099134847521782\n",
      "epoch 47 started\n",
      "train loss: 0.009303390656549752, test_loss: 0.007134749088436365\n",
      "epoch 48 started\n",
      "train loss: 0.009296808619572923, test_loss: 0.007211062591522932\n",
      "epoch 49 started\n",
      "train loss: 0.009297340183582577, test_loss: 0.00707394490018487\n",
      "epoch 50 started\n",
      "train loss: 0.009297213151166077, test_loss: 0.007192340213805437\n",
      "epoch 51 started\n",
      "train loss: 0.009296297555941973, test_loss: 0.007189024705439806\n",
      "epoch 52 started\n",
      "train loss: 0.009300553600713187, test_loss: 0.00714266300201416\n",
      "epoch 53 started\n",
      "train loss: 0.009293692114711337, test_loss: 0.007085180375725031\n",
      "epoch 54 started\n",
      "train loss: 0.009294750790212717, test_loss: 0.007140791043639183\n",
      "epoch 55 started\n",
      "train loss: 0.009303414675720151, test_loss: 0.007150957360863686\n",
      "epoch 56 started\n",
      "train loss: 0.00929263838001827, test_loss: 0.00720079243183136\n",
      "epoch 57 started\n",
      "train loss: 0.009295882215350762, test_loss: 0.007161416113376617\n",
      "epoch 58 started\n",
      "train loss: 0.009292968465832104, test_loss: 0.00701974518597126\n",
      "epoch 59 started\n",
      "train loss: 0.009291997771405087, test_loss: 0.007148049771785736\n",
      "epoch 60 started\n",
      "train loss: 0.009296197606155536, test_loss: 0.007129161152988672\n",
      "epoch 61 started\n",
      "train loss: 0.009294677636522206, test_loss: 0.0071428148075938225\n",
      "epoch 62 started\n",
      "train loss: 0.009324814831286079, test_loss: 0.007130997255444527\n",
      "epoch 63 started\n",
      "train loss: 0.009296499749498685, test_loss: 0.007005383726209402\n",
      "epoch 64 started\n",
      "train loss: 0.009293325958077773, test_loss: 0.007155013736337423\n",
      "epoch 65 started\n",
      "train loss: 0.009290286971203645, test_loss: 0.007192870136350393\n",
      "epoch 66 started\n",
      "train loss: 0.009293633988536817, test_loss: 0.007118103560060263\n",
      "epoch 67 started\n",
      "train loss: 0.009294576392026752, test_loss: 0.007159912958741188\n",
      "epoch 68 started\n",
      "train loss: 0.00929287513606271, test_loss: 0.006990870926529169\n",
      "epoch 69 started\n",
      "train loss: 0.009294379795868562, test_loss: 0.007131608668714762\n",
      "epoch 70 started\n",
      "train loss: 0.009311042826972144, test_loss: 0.007170957047492266\n",
      "epoch 71 started\n",
      "train loss: 0.009296151843348829, test_loss: 0.007172104902565479\n",
      "epoch 72 started\n",
      "train loss: 0.009290414528636791, test_loss: 0.007156567648053169\n",
      "epoch 73 started\n",
      "train loss: 0.009293312755549519, test_loss: 0.007151447236537933\n",
      "epoch 74 started\n",
      "train loss: 0.009293598804712625, test_loss: 0.007165722083300352\n",
      "epoch 75 started\n",
      "train loss: 0.009290718616457957, test_loss: 0.007085432298481464\n",
      "epoch 76 started\n",
      "train loss: 0.009289418337456959, test_loss: 0.007031948771327734\n",
      "epoch 77 started\n",
      "train loss: 0.009291582329318598, test_loss: 0.007161303889006376\n",
      "epoch 78 started\n",
      "train loss: 0.009291062622477989, test_loss: 0.007158706430345774\n",
      "epoch 79 started\n",
      "train loss: 0.009293367285971769, test_loss: 0.007142154034227133\n",
      "epoch 80 started\n",
      "train loss: 0.009293015408816462, test_loss: 0.0070799775421619415\n",
      "epoch 81 started\n",
      "train loss: 0.009295507648814583, test_loss: 0.00711556663736701\n",
      "epoch 82 started\n",
      "train loss: 0.009301129690919922, test_loss: 0.007060659117996693\n",
      "epoch 83 started\n",
      "train loss: 0.00929858681718629, test_loss: 0.0071962932124733925\n",
      "epoch 84 started\n",
      "train loss: 0.009292645737462277, test_loss: 0.0070735737681388855\n",
      "epoch 85 started\n",
      "train loss: 0.009291561544679488, test_loss: 0.0071326252073049545\n",
      "epoch 86 started\n",
      "train loss: 0.009293891664670116, test_loss: 0.007149610202759504\n",
      "epoch 87 started\n",
      "train loss: 0.009293562263077806, test_loss: 0.007088357582688332\n",
      "epoch 88 started\n",
      "train loss: 0.0093022717037673, test_loss: 0.0071468953974545\n",
      "epoch 89 started\n",
      "train loss: 0.009293111088330383, test_loss: 0.007094183471053839\n",
      "epoch 90 started\n",
      "train loss: 0.009300475914577484, test_loss: 0.007118668407201767\n",
      "epoch 91 started\n",
      "train loss: 0.009307336343335052, test_loss: 0.007003048434853554\n",
      "epoch 92 started\n",
      "train loss: 0.009295329731273904, test_loss: 0.007129868026822805\n",
      "epoch 93 started\n",
      "train loss: 0.009291185879755219, test_loss: 0.007099358830600977\n",
      "epoch 94 started\n",
      "train loss: 0.00929204128284428, test_loss: 0.0071440283209085464\n",
      "epoch 95 started\n",
      "train loss: 0.009293421596263821, test_loss: 0.007163541857153177\n",
      "epoch 96 started\n",
      "train loss: 0.009289774675575504, test_loss: 0.007174408063292503\n",
      "epoch 97 started\n",
      "train loss: 0.009292558180017554, test_loss: 0.007147175259888172\n",
      "epoch 98 started\n",
      "train loss: 0.009290459437027363, test_loss: 0.00711308978497982\n",
      "epoch 99 started\n"
     ]
    },
    {
     "name": "stdout",
     "output_type": "stream",
     "text": [
      "train loss: 0.009290513406973505, test_loss: 0.0071427891962230206\n"
     ]
    }
   ],
   "source": [
    "train_losses, test_losses, trained_model = train_model(\n",
    "    train_dataset=train_dataset, \n",
    "    test_dataset=test_dataset, \n",
    "    model=centernet, \n",
    "    train_dataloader_kwargs=train_dataloader_config, \n",
    "    test_dataloader_kwargs=test_dataloader_config, \n",
    "    training_kwargs=training_config,\n",
    "    criterion=criterion,\n",
    "    device=device,\n",
    "    wandb_instance=wandb,\n",
    ")"
   ]
  },
  {
   "cell_type": "code",
   "execution_count": 11,
   "metadata": {},
   "outputs": [
    {
     "data": {
      "image/png": "[encoded data removed]",
      "text/plain": [
       "<Figure size 640x480 with 1 Axes>"
      ]
     },
     "metadata": {},
     "output_type": "display_data"
    }
   ],
   "source": [
    "show_train_plots(train_losses, test_losses, 'Centernet')"
   ]
  },
  {
   "cell_type": "markdown",
   "metadata": {},
   "source": [
    "### Сохраним результаты и измерим точность\n",
    "Результаты - словарь с ключем DataItem.unique_key() и значением предсказанным quadrangle в относительных единицах."
   ]
  },
  {
   "cell_type": "code",
   "execution_count": 12,
   "metadata": {},
   "outputs": [
    {
     "name": "stderr",
     "output_type": "stream",
     "text": [
      "4250it [02:09, 32.78it/s]\n",
      "/home/avashchilko/abbyy9sem/course_cvdl/.venv/lib/python3.8/site-packages/shapely/set_operations.py:133: RuntimeWarning: invalid value encountered in intersection\n",
      "  return lib.intersection(a, b, **kwargs)\n",
      "/home/avashchilko/abbyy9sem/course_cvdl/.venv/lib/python3.8/site-packages/shapely/set_operations.py:133: RuntimeWarning: invalid value encountered in intersection\n",
      "  return lib.intersection(a, b, **kwargs)\n",
      "/home/avashchilko/abbyy9sem/course_cvdl/.venv/lib/python3.8/site-packages/shapely/set_operations.py:133: RuntimeWarning: invalid value encountered in intersection\n",
      "  return lib.intersection(a, b, **kwargs)\n",
      "/home/avashchilko/abbyy9sem/course_cvdl/.venv/lib/python3.8/site-packages/shapely/set_operations.py:133: RuntimeWarning: invalid value encountered in intersection\n",
      "  return lib.intersection(a, b, **kwargs)\n",
      "/home/avashchilko/abbyy9sem/course_cvdl/.venv/lib/python3.8/site-packages/shapely/set_operations.py:133: RuntimeWarning: invalid value encountered in intersection\n",
      "  return lib.intersection(a, b, **kwargs)\n",
      "/home/avashchilko/abbyy9sem/course_cvdl/.venv/lib/python3.8/site-packages/shapely/set_operations.py:133: RuntimeWarning: invalid value encountered in intersection\n",
      "  return lib.intersection(a, b, **kwargs)\n",
      "/home/avashchilko/abbyy9sem/course_cvdl/.venv/lib/python3.8/site-packages/shapely/set_operations.py:133: RuntimeWarning: invalid value encountered in intersection\n",
      "  return lib.intersection(a, b, **kwargs)\n",
      "/home/avashchilko/abbyy9sem/course_cvdl/.venv/lib/python3.8/site-packages/shapely/set_operations.py:133: RuntimeWarning: invalid value encountered in intersection\n",
      "  return lib.intersection(a, b, **kwargs)\n",
      "/home/avashchilko/abbyy9sem/course_cvdl/.venv/lib/python3.8/site-packages/shapely/set_operations.py:133: RuntimeWarning: invalid value encountered in intersection\n",
      "  return lib.intersection(a, b, **kwargs)\n",
      "/home/avashchilko/abbyy9sem/course_cvdl/.venv/lib/python3.8/site-packages/shapely/set_operations.py:133: RuntimeWarning: invalid value encountered in intersection\n",
      "  return lib.intersection(a, b, **kwargs)\n",
      "/home/avashchilko/abbyy9sem/course_cvdl/.venv/lib/python3.8/site-packages/shapely/set_operations.py:133: RuntimeWarning: invalid value encountered in intersection\n",
      "  return lib.intersection(a, b, **kwargs)\n",
      "/home/avashchilko/abbyy9sem/course_cvdl/.venv/lib/python3.8/site-packages/shapely/set_operations.py:133: RuntimeWarning: invalid value encountered in intersection\n",
      "  return lib.intersection(a, b, **kwargs)\n",
      "/home/avashchilko/abbyy9sem/course_cvdl/.venv/lib/python3.8/site-packages/shapely/set_operations.py:133: RuntimeWarning: invalid value encountered in intersection\n",
      "  return lib.intersection(a, b, **kwargs)\n",
      "/home/avashchilko/abbyy9sem/course_cvdl/.venv/lib/python3.8/site-packages/shapely/set_operations.py:133: RuntimeWarning: invalid value encountered in intersection\n",
      "  return lib.intersection(a, b, **kwargs)\n",
      "/home/avashchilko/abbyy9sem/course_cvdl/.venv/lib/python3.8/site-packages/shapely/set_operations.py:133: RuntimeWarning: invalid value encountered in intersection\n",
      "  return lib.intersection(a, b, **kwargs)\n",
      "/home/avashchilko/abbyy9sem/course_cvdl/.venv/lib/python3.8/site-packages/shapely/set_operations.py:133: RuntimeWarning: invalid value encountered in intersection\n",
      "  return lib.intersection(a, b, **kwargs)\n",
      "/home/avashchilko/abbyy9sem/course_cvdl/.venv/lib/python3.8/site-packages/shapely/set_operations.py:133: RuntimeWarning: invalid value encountered in intersection\n",
      "  return lib.intersection(a, b, **kwargs)\n",
      "/home/avashchilko/abbyy9sem/course_cvdl/.venv/lib/python3.8/site-packages/shapely/set_operations.py:133: RuntimeWarning: invalid value encountered in intersection\n",
      "  return lib.intersection(a, b, **kwargs)\n",
      "/home/avashchilko/abbyy9sem/course_cvdl/.venv/lib/python3.8/site-packages/shapely/set_operations.py:133: RuntimeWarning: invalid value encountered in intersection\n",
      "  return lib.intersection(a, b, **kwargs)\n",
      "/home/avashchilko/abbyy9sem/course_cvdl/.venv/lib/python3.8/site-packages/shapely/set_operations.py:133: RuntimeWarning: invalid value encountered in intersection\n",
      "  return lib.intersection(a, b, **kwargs)\n",
      "/home/avashchilko/abbyy9sem/course_cvdl/.venv/lib/python3.8/site-packages/shapely/set_operations.py:133: RuntimeWarning: invalid value encountered in intersection\n",
      "  return lib.intersection(a, b, **kwargs)\n",
      "/home/avashchilko/abbyy9sem/course_cvdl/.venv/lib/python3.8/site-packages/shapely/set_operations.py:133: RuntimeWarning: invalid value encountered in intersection\n",
      "  return lib.intersection(a, b, **kwargs)\n",
      "/home/avashchilko/abbyy9sem/course_cvdl/.venv/lib/python3.8/site-packages/shapely/set_operations.py:133: RuntimeWarning: invalid value encountered in intersection\n",
      "  return lib.intersection(a, b, **kwargs)\n",
      "/home/avashchilko/abbyy9sem/course_cvdl/.venv/lib/python3.8/site-packages/shapely/set_operations.py:133: RuntimeWarning: invalid value encountered in intersection\n",
      "  return lib.intersection(a, b, **kwargs)\n",
      "/home/avashchilko/abbyy9sem/course_cvdl/.venv/lib/python3.8/site-packages/shapely/set_operations.py:133: RuntimeWarning: invalid value encountered in intersection\n",
      "  return lib.intersection(a, b, **kwargs)\n",
      "/home/avashchilko/abbyy9sem/course_cvdl/.venv/lib/python3.8/site-packages/shapely/set_operations.py:133: RuntimeWarning: invalid value encountered in intersection\n",
      "  return lib.intersection(a, b, **kwargs)\n",
      "/home/avashchilko/abbyy9sem/course_cvdl/.venv/lib/python3.8/site-packages/shapely/set_operations.py:133: RuntimeWarning: invalid value encountered in intersection\n",
      "  return lib.intersection(a, b, **kwargs)\n",
      "/home/avashchilko/abbyy9sem/course_cvdl/.venv/lib/python3.8/site-packages/shapely/set_operations.py:133: RuntimeWarning: invalid value encountered in intersection\n",
      "  return lib.intersection(a, b, **kwargs)\n",
      "/home/avashchilko/abbyy9sem/course_cvdl/.venv/lib/python3.8/site-packages/shapely/set_operations.py:133: RuntimeWarning: invalid value encountered in intersection\n",
      "  return lib.intersection(a, b, **kwargs)\n",
      "/home/avashchilko/abbyy9sem/course_cvdl/.venv/lib/python3.8/site-packages/shapely/set_operations.py:133: RuntimeWarning: invalid value encountered in intersection\n",
      "  return lib.intersection(a, b, **kwargs)\n",
      "/home/avashchilko/abbyy9sem/course_cvdl/.venv/lib/python3.8/site-packages/shapely/set_operations.py:133: RuntimeWarning: invalid value encountered in intersection\n",
      "  return lib.intersection(a, b, **kwargs)\n",
      "/home/avashchilko/abbyy9sem/course_cvdl/.venv/lib/python3.8/site-packages/shapely/set_operations.py:133: RuntimeWarning: invalid value encountered in intersection\n",
      "  return lib.intersection(a, b, **kwargs)\n",
      "/home/avashchilko/abbyy9sem/course_cvdl/.venv/lib/python3.8/site-packages/shapely/set_operations.py:133: RuntimeWarning: invalid value encountered in intersection\n",
      "  return lib.intersection(a, b, **kwargs)\n",
      "/home/avashchilko/abbyy9sem/course_cvdl/.venv/lib/python3.8/site-packages/shapely/set_operations.py:133: RuntimeWarning: invalid value encountered in intersection\n",
      "  return lib.intersection(a, b, **kwargs)\n",
      "/home/avashchilko/abbyy9sem/course_cvdl/.venv/lib/python3.8/site-packages/shapely/set_operations.py:133: RuntimeWarning: invalid value encountered in intersection\n",
      "  return lib.intersection(a, b, **kwargs)\n",
      "/home/avashchilko/abbyy9sem/course_cvdl/.venv/lib/python3.8/site-packages/shapely/set_operations.py:133: RuntimeWarning: invalid value encountered in intersection\n",
      "  return lib.intersection(a, b, **kwargs)\n",
      "/home/avashchilko/abbyy9sem/course_cvdl/.venv/lib/python3.8/site-packages/shapely/set_operations.py:133: RuntimeWarning: invalid value encountered in intersection\n",
      "  return lib.intersection(a, b, **kwargs)\n",
      "/home/avashchilko/abbyy9sem/course_cvdl/.venv/lib/python3.8/site-packages/shapely/set_operations.py:133: RuntimeWarning: invalid value encountered in intersection\n",
      "  return lib.intersection(a, b, **kwargs)\n",
      "/home/avashchilko/abbyy9sem/course_cvdl/.venv/lib/python3.8/site-packages/shapely/set_operations.py:133: RuntimeWarning: invalid value encountered in intersection\n",
      "  return lib.intersection(a, b, **kwargs)\n",
      "/home/avashchilko/abbyy9sem/course_cvdl/.venv/lib/python3.8/site-packages/shapely/set_operations.py:133: RuntimeWarning: invalid value encountered in intersection\n",
      "  return lib.intersection(a, b, **kwargs)\n",
      "/home/avashchilko/abbyy9sem/course_cvdl/.venv/lib/python3.8/site-packages/shapely/set_operations.py:133: RuntimeWarning: invalid value encountered in intersection\n",
      "  return lib.intersection(a, b, **kwargs)\n",
      "/home/avashchilko/abbyy9sem/course_cvdl/.venv/lib/python3.8/site-packages/shapely/set_operations.py:133: RuntimeWarning: invalid value encountered in intersection\n",
      "  return lib.intersection(a, b, **kwargs)\n",
      "/home/avashchilko/abbyy9sem/course_cvdl/.venv/lib/python3.8/site-packages/shapely/set_operations.py:133: RuntimeWarning: invalid value encountered in intersection\n",
      "  return lib.intersection(a, b, **kwargs)\n",
      "/home/avashchilko/abbyy9sem/course_cvdl/.venv/lib/python3.8/site-packages/shapely/set_operations.py:133: RuntimeWarning: invalid value encountered in intersection\n",
      "  return lib.intersection(a, b, **kwargs)\n",
      "/home/avashchilko/abbyy9sem/course_cvdl/.venv/lib/python3.8/site-packages/shapely/set_operations.py:133: RuntimeWarning: invalid value encountered in intersection\n",
      "  return lib.intersection(a, b, **kwargs)\n",
      "/home/avashchilko/abbyy9sem/course_cvdl/.venv/lib/python3.8/site-packages/shapely/set_operations.py:133: RuntimeWarning: invalid value encountered in intersection\n",
      "  return lib.intersection(a, b, **kwargs)\n",
      "/home/avashchilko/abbyy9sem/course_cvdl/.venv/lib/python3.8/site-packages/shapely/set_operations.py:133: RuntimeWarning: invalid value encountered in intersection\n",
      "  return lib.intersection(a, b, **kwargs)\n",
      "/home/avashchilko/abbyy9sem/course_cvdl/.venv/lib/python3.8/site-packages/shapely/set_operations.py:133: RuntimeWarning: invalid value encountered in intersection\n",
      "  return lib.intersection(a, b, **kwargs)\n",
      "/home/avashchilko/abbyy9sem/course_cvdl/.venv/lib/python3.8/site-packages/shapely/set_operations.py:133: RuntimeWarning: invalid value encountered in intersection\n",
      "  return lib.intersection(a, b, **kwargs)\n",
      "/home/avashchilko/abbyy9sem/course_cvdl/.venv/lib/python3.8/site-packages/shapely/set_operations.py:133: RuntimeWarning: invalid value encountered in intersection\n",
      "  return lib.intersection(a, b, **kwargs)\n",
      "/home/avashchilko/abbyy9sem/course_cvdl/.venv/lib/python3.8/site-packages/shapely/set_operations.py:133: RuntimeWarning: invalid value encountered in intersection\n",
      "  return lib.intersection(a, b, **kwargs)\n",
      "/home/avashchilko/abbyy9sem/course_cvdl/.venv/lib/python3.8/site-packages/shapely/set_operations.py:133: RuntimeWarning: invalid value encountered in intersection\n",
      "  return lib.intersection(a, b, **kwargs)\n",
      "/home/avashchilko/abbyy9sem/course_cvdl/.venv/lib/python3.8/site-packages/shapely/set_operations.py:133: RuntimeWarning: invalid value encountered in intersection\n",
      "  return lib.intersection(a, b, **kwargs)\n"
     ]
    },
    {
     "name": "stderr",
     "output_type": "stream",
     "text": [
      "/home/avashchilko/abbyy9sem/course_cvdl/.venv/lib/python3.8/site-packages/shapely/set_operations.py:133: RuntimeWarning: invalid value encountered in intersection\n",
      "  return lib.intersection(a, b, **kwargs)\n",
      "/home/avashchilko/abbyy9sem/course_cvdl/.venv/lib/python3.8/site-packages/shapely/set_operations.py:133: RuntimeWarning: invalid value encountered in intersection\n",
      "  return lib.intersection(a, b, **kwargs)\n",
      "/home/avashchilko/abbyy9sem/course_cvdl/.venv/lib/python3.8/site-packages/shapely/set_operations.py:133: RuntimeWarning: invalid value encountered in intersection\n",
      "  return lib.intersection(a, b, **kwargs)\n",
      "/home/avashchilko/abbyy9sem/course_cvdl/.venv/lib/python3.8/site-packages/shapely/set_operations.py:133: RuntimeWarning: invalid value encountered in intersection\n",
      "  return lib.intersection(a, b, **kwargs)\n",
      "/home/avashchilko/abbyy9sem/course_cvdl/.venv/lib/python3.8/site-packages/shapely/set_operations.py:133: RuntimeWarning: invalid value encountered in intersection\n",
      "  return lib.intersection(a, b, **kwargs)\n",
      "/home/avashchilko/abbyy9sem/course_cvdl/.venv/lib/python3.8/site-packages/shapely/set_operations.py:133: RuntimeWarning: invalid value encountered in intersection\n",
      "  return lib.intersection(a, b, **kwargs)\n",
      "/home/avashchilko/abbyy9sem/course_cvdl/.venv/lib/python3.8/site-packages/shapely/set_operations.py:133: RuntimeWarning: invalid value encountered in intersection\n",
      "  return lib.intersection(a, b, **kwargs)\n",
      "/home/avashchilko/abbyy9sem/course_cvdl/.venv/lib/python3.8/site-packages/shapely/set_operations.py:133: RuntimeWarning: invalid value encountered in intersection\n",
      "  return lib.intersection(a, b, **kwargs)\n",
      "/home/avashchilko/abbyy9sem/course_cvdl/.venv/lib/python3.8/site-packages/shapely/set_operations.py:133: RuntimeWarning: invalid value encountered in intersection\n",
      "  return lib.intersection(a, b, **kwargs)\n",
      "/home/avashchilko/abbyy9sem/course_cvdl/.venv/lib/python3.8/site-packages/shapely/set_operations.py:133: RuntimeWarning: invalid value encountered in intersection\n",
      "  return lib.intersection(a, b, **kwargs)\n",
      "/home/avashchilko/abbyy9sem/course_cvdl/.venv/lib/python3.8/site-packages/shapely/set_operations.py:133: RuntimeWarning: invalid value encountered in intersection\n",
      "  return lib.intersection(a, b, **kwargs)\n",
      "/home/avashchilko/abbyy9sem/course_cvdl/.venv/lib/python3.8/site-packages/shapely/set_operations.py:133: RuntimeWarning: invalid value encountered in intersection\n",
      "  return lib.intersection(a, b, **kwargs)\n",
      "/home/avashchilko/abbyy9sem/course_cvdl/.venv/lib/python3.8/site-packages/shapely/set_operations.py:133: RuntimeWarning: invalid value encountered in intersection\n",
      "  return lib.intersection(a, b, **kwargs)\n",
      "/home/avashchilko/abbyy9sem/course_cvdl/.venv/lib/python3.8/site-packages/shapely/set_operations.py:133: RuntimeWarning: invalid value encountered in intersection\n",
      "  return lib.intersection(a, b, **kwargs)\n",
      "/home/avashchilko/abbyy9sem/course_cvdl/.venv/lib/python3.8/site-packages/shapely/set_operations.py:133: RuntimeWarning: invalid value encountered in intersection\n",
      "  return lib.intersection(a, b, **kwargs)\n",
      "/home/avashchilko/abbyy9sem/course_cvdl/.venv/lib/python3.8/site-packages/shapely/set_operations.py:133: RuntimeWarning: invalid value encountered in intersection\n",
      "  return lib.intersection(a, b, **kwargs)\n",
      "/home/avashchilko/abbyy9sem/course_cvdl/.venv/lib/python3.8/site-packages/shapely/set_operations.py:133: RuntimeWarning: invalid value encountered in intersection\n",
      "  return lib.intersection(a, b, **kwargs)\n"
     ]
    },
    {
     "data": {
      "text/html": [
       "Waiting for W&B process to finish... <strong style=\"color:green\">(success).</strong>"
      ],
      "text/plain": [
       "<IPython.core.display.HTML object>"
      ]
     },
     "metadata": {},
     "output_type": "display_data"
    },
    {
     "data": {
      "text/html": [
       "<style>\n",
       "    table.wandb td:nth-child(1) { padding: 0 10px; text-align: left ; width: auto;} td:nth-child(2) {text-align: left ; width: 100%}\n",
       "    .wandb-row { display: flex; flex-direction: row; flex-wrap: wrap; justify-content: flex-start; width: 100% }\n",
       "    .wandb-col { display: flex; flex-direction: column; flex-basis: 100%; flex: 1; padding: 10px; }\n",
       "    </style>\n",
       "<div class=\"wandb-row\"><div class=\"wandb-col\"><h3>Run summary:</h3><br/><table class=\"wandb\"><tr><td>acc@80</td><td>0.83953</td></tr><tr><td>acc@95</td><td>0.08306</td></tr></table><br/></div></div>"
      ],
      "text/plain": [
       "<IPython.core.display.HTML object>"
      ]
     },
     "metadata": {},
     "output_type": "display_data"
    },
    {
     "data": {
      "text/html": [
       " View run <strong style=\"color:#cdcd00\">CenterNet 100 epochs with lr=0.001</strong> at: <a href='https://wandb.ai/vashchilkoav/ocr%20task%201/runs/361ytsab' target=\"_blank\">https://wandb.ai/vashchilkoav/ocr%20task%201/runs/361ytsab</a><br/>Synced 5 W&B file(s), 0 media file(s), 0 artifact file(s) and 2 other file(s)"
      ],
      "text/plain": [
       "<IPython.core.display.HTML object>"
      ]
     },
     "metadata": {},
     "output_type": "display_data"
    },
    {
     "data": {
      "text/html": [
       "Find logs at: <code>./wandb/run-20230325_231858-361ytsab/logs</code>"
      ],
      "text/plain": [
       "<IPython.core.display.HTML object>"
      ]
     },
     "metadata": {},
     "output_type": "display_data"
    }
   ],
   "source": [
    "from course_ocr_t1.metrics import dump_results_dict, measure_crop_accuracy\n",
    "\n",
    "results_dict = {}\n",
    "\n",
    "trained_model.eval()\n",
    "\n",
    "with torch.no_grad():\n",
    "    for i, (x, _) in tqdm(enumerate(test_dataset)):\n",
    "        result = trained_model(x[None, ...].to(device))[0]\n",
    "        key = test_dataset.get_key(i)\n",
    "        results_dict[key] = result.cpu().tolist()\n",
    "\n",
    "dump_results_dict(results_dict, Path() / 'pred.json')\n",
    "\n",
    "acc_95 = measure_crop_accuracy(\n",
    "    Path() / 'pred.json',\n",
    "    Path() / 'gt.json'\n",
    ")\n",
    "\n",
    "acc_80 = measure_crop_accuracy(\n",
    "    Path() / 'pred.json',\n",
    "    Path() / 'gt.json',\n",
    "    iou_thr=0.8\n",
    ")\n",
    "\n",
    "wandb.run.summary['acc@95'] = acc_95\n",
    "wandb.run.summary['acc@80'] = acc_80\n",
    "\n",
    "torch.save(trained_model.state_dict(), Path() / 'model.pth')\n",
    "wandb.save(str(Path() / 'model.pth'))\n",
    "wandb.save(str(Path() / 'pred.json'))\n",
    "\n",
    "wandb.finish()"
   ]
  },
  {
   "cell_type": "code",
   "execution_count": null,
   "metadata": {},
   "outputs": [],
   "source": []
  }
 ],
 "metadata": {
  "kernelspec": {
   "display_name": ".venv",
   "language": "python",
   "name": ".venv"
  },
  "language_info": {
   "codemirror_mode": {
    "name": "ipython",
    "version": 3
   },
   "file_extension": ".py",
   "mimetype": "text/x-python",
   "name": "python",
   "nbconvert_exporter": "python",
   "pygments_lexer": "ipython3",
   "version": "3.8.10"
  }
 },
 "nbformat": 4,
 "nbformat_minor": 5
}
