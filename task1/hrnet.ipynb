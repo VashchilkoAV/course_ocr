{
 "cells": [
  {
   "cell_type": "code",
   "execution_count": 1,
   "metadata": {},
   "outputs": [
    {
     "name": "stderr",
     "output_type": "stream",
     "text": [
      "/home/avashchilko/abbyy9sem/course_cvdl/.venv/lib/python3.8/site-packages/tqdm/auto.py:22: TqdmWarning: IProgress not found. Please update jupyter and ipywidgets. See https://ipywidgets.readthedocs.io/en/stable/user_install.html\n",
      "  from .autonotebook import tqdm as notebook_tqdm\n"
     ]
    }
   ],
   "source": [
    "#pip install -e .\n",
    "#pip install  abbyy_course_cvdl_t2\n",
    "\n",
    "from pathlib import Path\n",
    "from course_ocr_t1.data import MidvPackage\n",
    "from tqdm import tqdm\n",
    "from matplotlib import pyplot as plt\n",
    "import numpy as np\n",
    "\n",
    "import torch\n",
    "\n",
    "from task1pack.utils.data import HeatmapDataset"
   ]
  },
  {
   "cell_type": "code",
   "execution_count": 2,
   "metadata": {},
   "outputs": [],
   "source": [
    "DATASET_PATH = Path() / '..' / '..' / 'data' / 'midv500_compressed'\n",
    "#DATASET_PATH = Path() / '..' / '..' / '..' / '..' / '..' / '..' / 'Downloads' / 'midv500_compressed'\n",
    "assert DATASET_PATH.exists(), DATASET_PATH.absolute()"
   ]
  },
  {
   "cell_type": "code",
   "execution_count": 3,
   "metadata": {},
   "outputs": [
    {
     "data": {
      "text/plain": [
       "(50, course_ocr_t1.data.MidvPackage)"
      ]
     },
     "execution_count": 3,
     "metadata": {},
     "output_type": "execute_result"
    }
   ],
   "source": [
    "# Собираем список пакетов (MidvPackage) \n",
    "data_packs = MidvPackage.read_midv500_dataset(DATASET_PATH)\n",
    "len(data_packs), type(data_packs[0])"
   ]
  },
  {
   "cell_type": "code",
   "execution_count": 4,
   "metadata": {},
   "outputs": [],
   "source": [
    "from torchvision.transforms import Resize, Compose, ToTensor\n",
    "\n",
    "IMAGE_SIZE = [512, 512]\n",
    "HEATMAP_SIZE = [128, 128]\n",
    "\n",
    "transforms = Compose([\n",
    "    ToTensor(),\n",
    "    Resize(IMAGE_SIZE),\n",
    "])"
   ]
  },
  {
   "cell_type": "code",
   "execution_count": 5,
   "metadata": {},
   "outputs": [
    {
     "data": {
      "text/plain": [
       "(10750, 4250)"
      ]
     },
     "execution_count": 5,
     "metadata": {},
     "output_type": "execute_result"
    }
   ],
   "source": [
    "train_dataset = HeatmapDataset(data_packs=data_packs, split='train', transforms=transforms, output_size=HEATMAP_SIZE)\n",
    "test_dataset = HeatmapDataset(data_packs=data_packs, split='test', transforms=transforms, output_size=HEATMAP_SIZE)\n",
    "\n",
    "len(train_dataset), len(test_dataset)"
   ]
  },
  {
   "cell_type": "code",
   "execution_count": 6,
   "metadata": {},
   "outputs": [
    {
     "data": {
      "text/plain": [
       "(torch.Size([3, 512, 512]), torch.Size([4, 2]))"
      ]
     },
     "execution_count": 6,
     "metadata": {},
     "output_type": "execute_result"
    }
   ],
   "source": [
    "train_dataset[0][0].shape, train_dataset[0][1].shape"
   ]
  },
  {
   "cell_type": "code",
   "execution_count": 7,
   "metadata": {},
   "outputs": [
    {
     "data": {
      "text/plain": [
       "<torch._C.Generator at 0x7fbea336e530>"
      ]
     },
     "execution_count": 7,
     "metadata": {},
     "output_type": "execute_result"
    }
   ],
   "source": [
    "torch.manual_seed(42)"
   ]
  },
  {
   "cell_type": "code",
   "execution_count": 8,
   "metadata": {},
   "outputs": [],
   "source": [
    "from task1pack.models.hrnet import get_pose_net\n",
    "from task1pack.models.hrnet_config import cfg"
   ]
  },
  {
   "cell_type": "code",
   "execution_count": 9,
   "metadata": {},
   "outputs": [],
   "source": [
    "cfg['MODEL']['IMAGE_SIZE'] = IMAGE_SIZE\n",
    "cfg['MODEL']['HEATMAP_SIZE'] = HEATMAP_SIZE\n",
    "\n",
    "hrnet = get_pose_net(is_train=True, cfg=cfg)"
   ]
  },
  {
   "cell_type": "code",
   "execution_count": 10,
   "metadata": {},
   "outputs": [],
   "source": [
    "from task1pack.utils.train import train_model, show_train_plots, train_old, train_loop\n",
    "from torch.nn import MSELoss\n",
    "import wandb"
   ]
  },
  {
   "cell_type": "code",
   "execution_count": 11,
   "metadata": {},
   "outputs": [
    {
     "name": "stderr",
     "output_type": "stream",
     "text": [
      "Failed to detect the name of this notebook, you can set it manually with the WANDB_NOTEBOOK_NAME environment variable to enable code saving.\n",
      "\u001b[34m\u001b[1mwandb\u001b[0m: Currently logged in as: \u001b[33mvashchilkoav\u001b[0m. Use \u001b[1m`wandb login --relogin`\u001b[0m to force relogin\n"
     ]
    },
    {
     "data": {
      "text/html": [
       "Tracking run with wandb version 0.14.0"
      ],
      "text/plain": [
       "<IPython.core.display.HTML object>"
      ]
     },
     "metadata": {},
     "output_type": "display_data"
    },
    {
     "data": {
      "text/html": [
       "Run data is saved locally in <code>/home/avashchilko/abbyy10sem/course_ocr/task1/wandb/run-20230327_222351-m3o13nb6</code>"
      ],
      "text/plain": [
       "<IPython.core.display.HTML object>"
      ]
     },
     "metadata": {},
     "output_type": "display_data"
    },
    {
     "data": {
      "text/html": [
       "Syncing run <strong><a href='https://wandb.ai/vashchilkoav/ocr%20task%201/runs/m3o13nb6' target=\"_blank\">HRNet 100 epochs with lr=0.001 new train</a></strong> to <a href='https://wandb.ai/vashchilkoav/ocr%20task%201' target=\"_blank\">Weights & Biases</a> (<a href='https://wandb.me/run' target=\"_blank\">docs</a>)<br/>"
      ],
      "text/plain": [
       "<IPython.core.display.HTML object>"
      ]
     },
     "metadata": {},
     "output_type": "display_data"
    },
    {
     "data": {
      "text/html": [
       " View project at <a href='https://wandb.ai/vashchilkoav/ocr%20task%201' target=\"_blank\">https://wandb.ai/vashchilkoav/ocr%20task%201</a>"
      ],
      "text/plain": [
       "<IPython.core.display.HTML object>"
      ]
     },
     "metadata": {},
     "output_type": "display_data"
    },
    {
     "data": {
      "text/html": [
       " View run at <a href='https://wandb.ai/vashchilkoav/ocr%20task%201/runs/m3o13nb6' target=\"_blank\">https://wandb.ai/vashchilkoav/ocr%20task%201/runs/m3o13nb6</a>"
      ],
      "text/plain": [
       "<IPython.core.display.HTML object>"
      ]
     },
     "metadata": {},
     "output_type": "display_data"
    },
    {
     "data": {
      "text/html": [
       "<button onClick=\"this.nextSibling.style.display='block';this.style.display='none';\">Display W&B run</button><iframe src='https://wandb.ai/vashchilkoav/ocr%20task%201/runs/m3o13nb6?jupyter=true' style='border:none;width:100%;height:420px;display:none;'></iframe>"
      ],
      "text/plain": [
       "<wandb.sdk.wandb_run.Run at 0x7fbfa4e88b80>"
      ]
     },
     "execution_count": 11,
     "metadata": {},
     "output_type": "execute_result"
    }
   ],
   "source": [
    "model_name = 'HRNet'\n",
    "\n",
    "device = 'cuda:1'\n",
    "criterion = MSELoss()\n",
    "\n",
    "num_epochs = 100\n",
    "\n",
    "wandb.init(\n",
    "    project='ocr task 1',\n",
    "    name='{} {} epochs with lr={} new train'.format(\n",
    "        model_name, \n",
    "        num_epochs, \n",
    "        0.001,),\n",
    "    config={\n",
    "        \"batch_size\": 16,\n",
    "        \"architecture\": model_name,\n",
    "        \"dataset\": \"MIDV-500\",\n",
    "        \"criterion\": \"MSELoss\",\n",
    "        \"optimizer\": \"Adam\",\n",
    "        \"image_size\": IMAGE_SIZE,\n",
    "        \"heatmap_size\": HEATMAP_SIZE,    \n",
    "    }\n",
    ")"
   ]
  },
  {
   "cell_type": "code",
   "execution_count": 12,
   "metadata": {},
   "outputs": [],
   "source": [
    "from torch.utils.data import DataLoader\n",
    "\n",
    "train_dataloader = DataLoader(train_dataset, batch_size=16, shuffle=True)\n",
    "test_dataloader = DataLoader(test_dataset, batch_size=128, shuffle=False)"
   ]
  },
  {
   "cell_type": "code",
   "execution_count": null,
   "metadata": {},
   "outputs": [
    {
     "name": "stderr",
     "output_type": "stream",
     "text": [
      "/home/avashchilko/abbyy9sem/course_cvdl/.venv/lib/python3.8/site-packages/torch/functional.py:504: UserWarning: torch.meshgrid: in an upcoming release, it will be required to pass the indexing argument. (Triggered internally at ../aten/src/ATen/native/TensorShape.cpp:3190.)\n",
      "  return _VF.meshgrid(tensors, **kwargs)  # type: ignore[attr-defined]\n"
     ]
    },
    {
     "name": "stdout",
     "output_type": "stream",
     "text": [
      "Initital test loss: 0.1179849989414215\n",
      "Epoch 1:\n",
      "training\n",
      "evaluating\n",
      "train loss: 0.12619503806496776\n",
      "Epoch 2:\n",
      "training\n",
      "evaluating\n",
      "train loss: 0.06315144538810087\n",
      "Epoch 3:\n",
      "training\n",
      "evaluating\n",
      "train loss: 0.03188177799831989\n",
      "Epoch 4:\n",
      "training\n",
      "evaluating\n",
      "train loss: 0.029259758943388628\n",
      "Epoch 5:\n",
      "training\n",
      "evaluating\n",
      "train loss: 0.03064972708876743\n",
      "Epoch 6:\n",
      "training\n",
      "evaluating\n",
      "train loss: 0.029986520093540813\n",
      "Epoch 7:\n",
      "training\n",
      "evaluating\n",
      "train loss: 0.03142129924789418\n",
      "Epoch 8:\n",
      "training\n",
      "evaluating\n",
      "train loss: 0.028698820101140544\n",
      "Epoch 9:\n",
      "training\n",
      "evaluating\n",
      "train loss: 0.029037454853917278\n",
      "Epoch 10:\n",
      "training\n",
      "evaluating\n",
      "test loss: 0.0163924969301066\n",
      "train loss: 0.027585797032124774\n",
      "Epoch 11:\n",
      "training\n",
      "evaluating\n",
      "train loss: 0.027476341903382957\n",
      "Epoch 12:\n",
      "training\n",
      "evaluating\n",
      "train loss: 0.027490562621244163\n",
      "Epoch 13:\n",
      "training\n",
      "evaluating\n",
      "train loss: 0.02775467951075975\n",
      "Epoch 14:\n",
      "training\n",
      "evaluating\n",
      "train loss: 0.026987099145214227\n",
      "Epoch 15:\n",
      "training\n",
      "evaluating\n",
      "train loss: 0.0264021323576223\n",
      "Epoch 16:\n",
      "training\n",
      "evaluating\n",
      "train loss: 0.026381871563750645\n",
      "Epoch 17:\n",
      "training\n",
      "evaluating\n",
      "train loss: 0.02782372969562231\n",
      "Epoch 18:\n",
      "training\n",
      "evaluating\n",
      "train loss: 0.02697253009538318\n",
      "Epoch 19:\n",
      "training\n",
      "evaluating\n",
      "train loss: 0.02996427003103633\n",
      "Epoch 20:\n",
      "training\n",
      "evaluating\n",
      "test loss: 0.014802671244696659\n",
      "train loss: 0.02633089983272691\n",
      "Epoch 21:\n",
      "training\n",
      "evaluating\n",
      "train loss: 0.026425165608178737\n",
      "Epoch 22:\n",
      "training\n",
      "evaluating\n",
      "train loss: 0.02594364073941874\n",
      "Epoch 23:\n",
      "training\n",
      "evaluating\n",
      "train loss: 0.02582676406031431\n",
      "Epoch 24:\n",
      "training\n",
      "evaluating\n",
      "train loss: 0.026086556810885668\n",
      "Epoch 25:\n",
      "training\n",
      "evaluating\n",
      "train loss: 0.0280547586225493\n",
      "Epoch 26:\n",
      "training\n",
      "evaluating\n",
      "train loss: 0.027178825265446373\n",
      "Epoch 27:\n",
      "training\n",
      "evaluating\n",
      "train loss: 0.027475369684917983\n",
      "Epoch 28:\n",
      "training\n",
      "evaluating\n",
      "train loss: 0.02706831774947255\n",
      "Epoch 29:\n",
      "training\n",
      "evaluating\n",
      "train loss: 0.02623756071162778\n",
      "Epoch 30:\n",
      "training\n",
      "evaluating\n",
      "test loss: 0.014871402454069432\n",
      "train loss: 0.026223496421825053\n",
      "Epoch 31:\n",
      "training\n",
      "evaluating\n",
      "train loss: 0.02622287809987401\n",
      "Epoch 32:\n",
      "training\n",
      "evaluating\n",
      "train loss: 0.026142689616874208\n",
      "Epoch 33:\n",
      "training\n",
      "evaluating\n",
      "train loss: 0.02608456841145837\n",
      "Epoch 34:\n",
      "training\n",
      "evaluating\n",
      "train loss: 0.027901657819747926\n",
      "Epoch 35:\n",
      "training\n",
      "evaluating\n",
      "train loss: 0.025820847703966983\n",
      "Epoch 36:\n",
      "training\n",
      "evaluating\n",
      "train loss: 0.02614675879339839\n",
      "Epoch 37:\n",
      "training\n",
      "evaluating\n",
      "train loss: 0.025746717730233834\n",
      "Epoch 38:\n",
      "training\n",
      "evaluating\n",
      "train loss: 0.025477558254156003\n",
      "Epoch 39:\n",
      "training\n",
      "evaluating\n",
      "train loss: 0.025369830846786498\n",
      "Epoch 40:\n",
      "training\n",
      "evaluating\n",
      "test loss: 0.014809852897463475\n",
      "train loss: 0.025477363151693067\n",
      "Epoch 41:\n",
      "training\n",
      "evaluating\n",
      "train loss: 0.02703383492695731\n",
      "Epoch 42:\n",
      "training\n",
      "evaluating\n",
      "train loss: 0.027315015765123588\n",
      "Epoch 43:\n",
      "training\n",
      "evaluating\n",
      "train loss: 0.02701210589429667\n",
      "Epoch 44:\n",
      "training\n",
      "evaluating\n",
      "train loss: 0.027130682889458746\n",
      "Epoch 45:\n",
      "training\n",
      "evaluating\n",
      "train loss: 0.026835262598166633\n",
      "Epoch 46:\n",
      "training\n",
      "evaluating\n",
      "train loss: 0.026772196422655915\n",
      "Epoch 47:\n",
      "training\n",
      "evaluating\n",
      "train loss: 0.026640299205083488\n",
      "Epoch 48:\n",
      "training\n",
      "evaluating\n",
      "train loss: 0.026678950147919878\n",
      "Epoch 49:\n",
      "training\n",
      "evaluating\n",
      "train loss: 0.027366160477663194\n",
      "Epoch 50:\n",
      "training\n",
      "evaluating\n",
      "test loss: 0.014698430746793747\n",
      "train loss: 0.026576201023750527\n",
      "Epoch 51:\n",
      "training\n",
      "evaluating\n",
      "train loss: 0.025931623417277668\n",
      "Epoch 52:\n",
      "training\n"
     ]
    }
   ],
   "source": [
    "train_losses, test_losses, trained_model = train_loop(\n",
    "    epochs=num_epochs,\n",
    "    train_dataloader=train_dataloader, \n",
    "    test_dataloader=test_dataloader, \n",
    "    model=hrnet, \n",
    "    criterion=criterion, \n",
    "    device=device,\n",
    "    wandb_instance=wandb,\n",
    "    step_size=35,\n",
    ")"
   ]
  },
  {
   "cell_type": "code",
   "execution_count": null,
   "metadata": {},
   "outputs": [],
   "source": [
    "show_train_plots(train_losses, test_losses, 'HRNet')"
   ]
  },
  {
   "cell_type": "code",
   "execution_count": null,
   "metadata": {},
   "outputs": [],
   "source": [
    "from course_ocr_t1.metrics import dump_results_dict, measure_crop_accuracy\n",
    "\n",
    "results_dict = {}\n",
    "\n",
    "trained_model.eval()\n",
    "\n",
    "with torch.no_grad():\n",
    "    for i, (x, _) in tqdm(enumerate(test_dataset)):\n",
    "        result = trained_model(x[None, ...].to(device))[0]\n",
    "        key = test_dataset.get_key(i)\n",
    "        results_dict[key] = result.cpu().tolist()\n",
    "\n",
    "dump_results_dict(results_dict, Path() / 'pred1.json')\n",
    "\n",
    "acc_95 = measure_crop_accuracy(\n",
    "    Path() / 'pred1.json',\n",
    "    Path() / 'gt.json'\n",
    ")\n",
    "\n",
    "acc_80 = measure_crop_accuracy(\n",
    "    Path() / 'pred1.json',\n",
    "    Path() / 'gt.json',\n",
    "    iou_thr=0.8\n",
    ")\n",
    "\n",
    "wandb.run.summary['acc@95'] = acc_95\n",
    "wandb.run.summary['acc@80'] = acc_80\n",
    "\n",
    "torch.save(trained_model.state_dict(), Path() / 'model1.pth')\n",
    "wandb.save(str(Path() / 'model1.pth'))\n",
    "wandb.save(str(Path() / 'pred1.json'))\n",
    "\n",
    "wandb.finish()\n",
    "\n",
    "print(acc_95)"
   ]
  }
 ],
 "metadata": {
  "kernelspec": {
   "display_name": ".venv",
   "language": "python",
   "name": ".venv"
  },
  "language_info": {
   "codemirror_mode": {
    "name": "ipython",
    "version": 3
   },
   "file_extension": ".py",
   "mimetype": "text/x-python",
   "name": "python",
   "nbconvert_exporter": "python",
   "pygments_lexer": "ipython3",
   "version": "3.8.10"
  }
 },
 "nbformat": 4,
 "nbformat_minor": 4
}
