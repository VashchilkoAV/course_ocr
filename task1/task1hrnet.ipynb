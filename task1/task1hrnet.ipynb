{
 "cells": [
  {
   "cell_type": "markdown",
   "metadata": {},
   "source": [
    "## Dataset preparation"
   ]
  },
  {
   "cell_type": "code",
   "execution_count": 1,
   "metadata": {},
   "outputs": [
    {
     "name": "stderr",
     "output_type": "stream",
     "text": [
      "/home/avashchilko/abbyy9sem/course_cvdl/.venv/lib/python3.8/site-packages/tqdm/auto.py:22: TqdmWarning: IProgress not found. Please update jupyter and ipywidgets. See https://ipywidgets.readthedocs.io/en/stable/user_install.html\n",
      "  from .autonotebook import tqdm as notebook_tqdm\n"
     ]
    }
   ],
   "source": [
    "#pip install -e .\n",
    "#pip install  abbyy_course_cvdl_t2\n",
    "\n",
    "from pathlib import Path\n",
    "from course_ocr_t1.data import MidvPackage\n",
    "from tqdm import tqdm\n",
    "from matplotlib import pyplot as plt\n",
    "import numpy as np\n",
    "\n",
    "import torch\n",
    "\n",
    "from task1pack.utils.data import HeatmapDataset"
   ]
  },
  {
   "cell_type": "code",
   "execution_count": 2,
   "metadata": {},
   "outputs": [],
   "source": [
    "DATASET_PATH = Path() / '..' / '..' / 'data' / 'midv500_compressed'\n",
    "#DATASET_PATH = Path() / '..' / '..' / '..' / '..' / '..' / '..' / 'Downloads' / 'midv500_compressed'\n",
    "assert DATASET_PATH.exists(), DATASET_PATH.absolute()"
   ]
  },
  {
   "cell_type": "code",
   "execution_count": 3,
   "metadata": {},
   "outputs": [
    {
     "data": {
      "text/plain": [
       "(50, course_ocr_t1.data.MidvPackage)"
      ]
     },
     "execution_count": 3,
     "metadata": {},
     "output_type": "execute_result"
    }
   ],
   "source": [
    "# Собираем список пакетов (MidvPackage) \n",
    "data_packs = MidvPackage.read_midv500_dataset(DATASET_PATH)\n",
    "len(data_packs), type(data_packs[0])"
   ]
  },
  {
   "cell_type": "code",
   "execution_count": 4,
   "metadata": {},
   "outputs": [],
   "source": [
    "from torchvision.transforms import Resize, Compose, ToTensor\n",
    "\n",
    "IMAGE_SIZE = [512, 512]\n",
    "HEATMAP_SIZE = [128, 128]\n",
    "\n",
    "transforms = Compose([\n",
    "    ToTensor(),\n",
    "    Resize(IMAGE_SIZE),\n",
    "])"
   ]
  },
  {
   "cell_type": "code",
   "execution_count": 5,
   "metadata": {},
   "outputs": [
    {
     "data": {
      "text/plain": [
       "(10750, 4250)"
      ]
     },
     "execution_count": 5,
     "metadata": {},
     "output_type": "execute_result"
    }
   ],
   "source": [
    "train_dataset = HeatmapDataset(data_packs=data_packs, split='train', transforms=transforms, output_size=HEATMAP_SIZE)\n",
    "test_dataset = HeatmapDataset(data_packs=data_packs, split='test', transforms=transforms, output_size=HEATMAP_SIZE)\n",
    "\n",
    "len(train_dataset), len(test_dataset)"
   ]
  },
  {
   "cell_type": "code",
   "execution_count": 6,
   "metadata": {},
   "outputs": [
    {
     "data": {
      "text/plain": [
       "(torch.Size([3, 512, 512]), torch.Size([4, 2]))"
      ]
     },
     "execution_count": 6,
     "metadata": {},
     "output_type": "execute_result"
    }
   ],
   "source": [
    "train_dataset[0][0].shape, train_dataset[0][1].shape"
   ]
  },
  {
   "cell_type": "code",
   "execution_count": 7,
   "metadata": {},
   "outputs": [
    {
     "data": {
      "text/plain": [
       "<torch._C.Generator at 0x7fc168009530>"
      ]
     },
     "execution_count": 7,
     "metadata": {},
     "output_type": "execute_result"
    }
   ],
   "source": [
    "torch.manual_seed(42)"
   ]
  },
  {
   "cell_type": "code",
   "execution_count": 8,
   "metadata": {},
   "outputs": [],
   "source": [
    "device = 'cuda:2'"
   ]
  },
  {
   "cell_type": "markdown",
   "metadata": {},
   "source": [
    "## Model"
   ]
  },
  {
   "cell_type": "code",
   "execution_count": 9,
   "metadata": {},
   "outputs": [],
   "source": [
    "from task1pack.models.hrnet import get_pose_net\n",
    "from task1pack.models.hrnet_config import cfg"
   ]
  },
  {
   "cell_type": "code",
   "execution_count": 10,
   "metadata": {},
   "outputs": [],
   "source": [
    "cfg['MODEL']['IMAGE_SIZE'] = IMAGE_SIZE\n",
    "cfg['MODEL']['HEATMAP_SIZE'] = HEATMAP_SIZE"
   ]
  },
  {
   "cell_type": "code",
   "execution_count": 11,
   "metadata": {},
   "outputs": [],
   "source": [
    "hrnet = get_pose_net(is_train=True, cfg=cfg)"
   ]
  },
  {
   "cell_type": "markdown",
   "metadata": {},
   "source": [
    "### Train"
   ]
  },
  {
   "cell_type": "code",
   "execution_count": 12,
   "metadata": {},
   "outputs": [],
   "source": [
    "from task1pack.utils.train import train_model, show_train_plots, train_old\n",
    "from torch.nn import MSELoss\n",
    "import wandb"
   ]
  },
  {
   "cell_type": "code",
   "execution_count": 13,
   "metadata": {},
   "outputs": [
    {
     "name": "stderr",
     "output_type": "stream",
     "text": [
      "Failed to detect the name of this notebook, you can set it manually with the WANDB_NOTEBOOK_NAME environment variable to enable code saving.\n",
      "\u001b[34m\u001b[1mwandb\u001b[0m: Currently logged in as: \u001b[33mvashchilkoav\u001b[0m. Use \u001b[1m`wandb login --relogin`\u001b[0m to force relogin\n"
     ]
    },
    {
     "data": {
      "text/html": [
       "Tracking run with wandb version 0.14.0"
      ],
      "text/plain": [
       "<IPython.core.display.HTML object>"
      ]
     },
     "metadata": {},
     "output_type": "display_data"
    },
    {
     "data": {
      "text/html": [
       "Run data is saved locally in <code>/home/avashchilko/abbyy10sem/course_ocr/task1/wandb/run-20230326_141548-vzgmi7pz</code>"
      ],
      "text/plain": [
       "<IPython.core.display.HTML object>"
      ]
     },
     "metadata": {},
     "output_type": "display_data"
    },
    {
     "data": {
      "text/html": [
       "Syncing run <strong><a href='https://wandb.ai/vashchilkoav/ocr%20task%201/runs/vzgmi7pz' target=\"_blank\">HRNet 100 epochs with lr=0.001</a></strong> to <a href='https://wandb.ai/vashchilkoav/ocr%20task%201' target=\"_blank\">Weights & Biases</a> (<a href='https://wandb.me/run' target=\"_blank\">docs</a>)<br/>"
      ],
      "text/plain": [
       "<IPython.core.display.HTML object>"
      ]
     },
     "metadata": {},
     "output_type": "display_data"
    },
    {
     "data": {
      "text/html": [
       " View project at <a href='https://wandb.ai/vashchilkoav/ocr%20task%201' target=\"_blank\">https://wandb.ai/vashchilkoav/ocr%20task%201</a>"
      ],
      "text/plain": [
       "<IPython.core.display.HTML object>"
      ]
     },
     "metadata": {},
     "output_type": "display_data"
    },
    {
     "data": {
      "text/html": [
       " View run at <a href='https://wandb.ai/vashchilkoav/ocr%20task%201/runs/vzgmi7pz' target=\"_blank\">https://wandb.ai/vashchilkoav/ocr%20task%201/runs/vzgmi7pz</a>"
      ],
      "text/plain": [
       "<IPython.core.display.HTML object>"
      ]
     },
     "metadata": {},
     "output_type": "display_data"
    },
    {
     "data": {
      "text/html": [
       "<button onClick=\"this.nextSibling.style.display='block';this.style.display='none';\">Display W&B run</button><iframe src='https://wandb.ai/vashchilkoav/ocr%20task%201/runs/vzgmi7pz?jupyter=true' style='border:none;width:100%;height:420px;display:none;'></iframe>"
      ],
      "text/plain": [
       "<wandb.sdk.wandb_run.Run at 0x7fc25788d5b0>"
      ]
     },
     "execution_count": 13,
     "metadata": {},
     "output_type": "execute_result"
    }
   ],
   "source": [
    "model_name = 'HRNet'\n",
    "\n",
    "train_dataloader_config = {\n",
    "    'batch_size': 8,\n",
    "    'shuffle': True,\n",
    "}\n",
    "\n",
    "test_dataloader_config = {\n",
    "    'batch_size': 8,\n",
    "    'shuffle': False,\n",
    "}\n",
    "\n",
    "training_config = {\n",
    "    'lr': 1e-3,\n",
    "    'epochs': 100,\n",
    "    'step_size': 15,\n",
    "    'gamma': 0.1,\n",
    "}\n",
    "\n",
    "device = 'cuda:2'\n",
    "criterion = MSELoss()\n",
    "\n",
    "wandb.init(\n",
    "    project='ocr task 1',\n",
    "    name='{} {} epochs with lr={}'.format(model_name, training_config['epochs'], training_config['lr']),\n",
    "    config={\n",
    "        'train_dataloader_config': train_dataloader_config,\n",
    "        'test_dataloader_config': test_dataloader_config,\n",
    "        'training_config': training_config,\n",
    "\n",
    "    \"architecture\": model_name,\n",
    "    \"dataset\": \"MIDV-500\",\n",
    "    \"criterion\": \"MSELoss\",\n",
    "    \"optimizer\": \"Adam\",\n",
    "    \"image_size\": IMAGE_SIZE,\n",
    "    \"heatmap_size\": HEATMAP_SIZE,    \n",
    "    }\n",
    ")"
   ]
  },
  {
   "cell_type": "code",
   "execution_count": 14,
   "metadata": {},
   "outputs": [
    {
     "name": "stderr",
     "output_type": "stream",
     "text": [
      "/home/avashchilko/abbyy9sem/course_cvdl/.venv/lib/python3.8/site-packages/torch/functional.py:504: UserWarning: torch.meshgrid: in an upcoming release, it will be required to pass the indexing argument. (Triggered internally at ../aten/src/ATen/native/TensorShape.cpp:3190.)\n",
      "  return _VF.meshgrid(tensors, **kwargs)  # type: ignore[attr-defined]\n"
     ]
    },
    {
     "name": "stdout",
     "output_type": "stream",
     "text": [
      "initial loss 0.11798489093780518\n",
      "epoch 0 started\n",
      "train loss: 0.11378882543344628, test_loss: 0.062713623046875\n",
      "epoch 1 started\n",
      "train loss: 0.0510371891134474, test_loss: 0.052372951060533524\n",
      "epoch 2 started\n",
      "train loss: 0.04165005045381674, test_loss: 0.020432356745004654\n",
      "epoch 3 started\n",
      "train loss: 0.03158309994268209, test_loss: 0.016394417732954025\n",
      "epoch 4 started\n",
      "train loss: 0.027990504541992863, test_loss: 0.019451584666967392\n",
      "epoch 5 started\n",
      "train loss: 0.034902603600563624, test_loss: 0.01999414525926113\n",
      "epoch 6 started\n",
      "train loss: 0.029374893404262064, test_loss: 0.015446779318153858\n",
      "epoch 7 started\n",
      "train loss: 0.02697539211970122, test_loss: 0.014563276432454586\n",
      "epoch 8 started\n",
      "train loss: 0.03471335854694536, test_loss: 0.025932764634490013\n",
      "epoch 9 started\n",
      "train loss: 0.03254344650468695, test_loss: 0.015359996818006039\n",
      "epoch 10 started\n",
      "train loss: 0.03360020659203569, test_loss: 0.015497403219342232\n",
      "epoch 11 started\n",
      "train loss: 0.02666540662886248, test_loss: 0.014519371092319489\n",
      "epoch 12 started\n",
      "train loss: 0.028583749549441217, test_loss: 0.015144014731049538\n",
      "epoch 13 started\n",
      "train loss: 0.027028566310729644, test_loss: 0.016727464273571968\n",
      "epoch 14 started\n",
      "train loss: 0.03144624691153045, test_loss: 0.014515802264213562\n",
      "epoch 15 started\n",
      "train loss: 0.02629239723665662, test_loss: 0.014534126035869122\n",
      "epoch 16 started\n",
      "train loss: 0.026245226434444442, test_loss: 0.014378183521330357\n",
      "epoch 17 started\n",
      "train loss: 0.02618403243018076, test_loss: 0.014383498579263687\n",
      "epoch 18 started\n",
      "train loss: 0.02616055228784154, test_loss: 0.014369269832968712\n",
      "epoch 19 started\n",
      "train loss: 0.026110460971159183, test_loss: 0.014302637428045273\n",
      "epoch 20 started\n",
      "train loss: 0.026070895790499413, test_loss: 0.014322063885629177\n",
      "epoch 21 started\n",
      "train loss: 0.026018069900428167, test_loss: 0.01430792547762394\n",
      "epoch 22 started\n",
      "train loss: 0.025954200369077234, test_loss: 0.014132139272987843\n",
      "epoch 23 started\n",
      "train loss: 0.0257672066616665, test_loss: 0.014040878973901272\n",
      "epoch 24 started\n",
      "train loss: 0.025721971064957046, test_loss: 0.01408260315656662\n",
      "epoch 25 started\n",
      "train loss: 0.025737377301647074, test_loss: 0.014028459787368774\n",
      "epoch 26 started\n",
      "train loss: 0.025630839132645633, test_loss: 0.013789626769721508\n",
      "epoch 27 started\n",
      "train loss: 0.02544078556838074, test_loss: 0.013665415346622467\n",
      "epoch 28 started\n",
      "train loss: 0.025443050252458004, test_loss: 0.013688607141375542\n",
      "epoch 29 started\n",
      "train loss: 0.025350548643473303, test_loss: 0.013560830615460873\n",
      "epoch 30 started\n",
      "train loss: 0.02525054007942561, test_loss: 0.013543599285185337\n",
      "epoch 31 started\n",
      "train loss: 0.025227426618498396, test_loss: 0.013528941199183464\n",
      "epoch 32 started\n",
      "train loss: 0.02523179404756991, test_loss: 0.013537460006773472\n",
      "epoch 33 started\n",
      "train loss: 0.025200580670224598, test_loss: 0.013553842902183533\n",
      "epoch 34 started\n",
      "train loss: 0.02520819476436979, test_loss: 0.013530773110687733\n",
      "epoch 35 started\n",
      "train loss: 0.025177903366749802, test_loss: 0.013512440025806427\n",
      "epoch 36 started\n",
      "train loss: 0.025179956642681474, test_loss: 0.013517850078642368\n",
      "epoch 37 started\n",
      "train loss: 0.025172687992467434, test_loss: 0.013524484820663929\n",
      "epoch 38 started\n",
      "train loss: 0.02517480815645069, test_loss: 0.013525035232305527\n",
      "epoch 39 started\n",
      "train loss: 0.025154164343499968, test_loss: 0.01352145615965128\n",
      "epoch 40 started\n",
      "train loss: 0.025168732375580777, test_loss: 0.013511022552847862\n",
      "epoch 41 started\n",
      "train loss: 0.0251640549524295, test_loss: 0.013482136651873589\n",
      "epoch 42 started\n",
      "train loss: 0.025139956166423786, test_loss: 0.013503080233931541\n",
      "epoch 43 started\n",
      "train loss: 0.025169818775230807, test_loss: 0.013517750427126884\n",
      "epoch 44 started\n",
      "train loss: 0.025131307135043676, test_loss: 0.013516739010810852\n",
      "epoch 45 started\n",
      "train loss: 0.025123224130809484, test_loss: 0.013519417494535446\n",
      "epoch 46 started\n",
      "train loss: 0.025136248989015474, test_loss: 0.013493143022060394\n",
      "epoch 47 started\n",
      "train loss: 0.025118464426971816, test_loss: 0.013514374382793903\n",
      "epoch 48 started\n",
      "train loss: 0.025132943215534657, test_loss: 0.01353555265814066\n",
      "epoch 49 started\n",
      "train loss: 0.02510917901781795, test_loss: 0.013501303270459175\n",
      "epoch 50 started\n",
      "train loss: 0.02512186094723542, test_loss: 0.013498848304152489\n",
      "epoch 51 started\n",
      "train loss: 0.025131149696660162, test_loss: 0.013498973101377487\n",
      "epoch 52 started\n",
      "train loss: 0.0251381042232554, test_loss: 0.013485346920788288\n",
      "epoch 53 started\n",
      "train loss: 0.02513860538497933, test_loss: 0.01350061222910881\n",
      "epoch 54 started\n",
      "train loss: 0.025139431559398958, test_loss: 0.01347933616489172\n",
      "epoch 55 started\n",
      "train loss: 0.025114913362596695, test_loss: 0.013488322496414185\n",
      "epoch 56 started\n",
      "train loss: 0.025116536293440038, test_loss: 0.013500142842531204\n",
      "epoch 57 started\n",
      "train loss: 0.025136220490042303, test_loss: 0.013508545234799385\n",
      "epoch 58 started\n",
      "train loss: 0.025112318694785547, test_loss: 0.013505415059626102\n",
      "epoch 59 started\n",
      "train loss: 0.025102781154471034, test_loss: 0.013481865637004375\n",
      "epoch 60 started\n",
      "train loss: 0.025120437890499097, test_loss: 0.01348191499710083\n",
      "epoch 61 started\n",
      "train loss: 0.02509618903015854, test_loss: 0.01348086353391409\n",
      "epoch 62 started\n",
      "train loss: 0.025125033092384303, test_loss: 0.013497406616806984\n",
      "epoch 63 started\n",
      "train loss: 0.025109582781321176, test_loss: 0.01348751038312912\n",
      "epoch 64 started\n",
      "train loss: 0.025127253510055153, test_loss: 0.013504544273018837\n",
      "epoch 65 started\n",
      "train loss: 0.025102053634674076, test_loss: 0.013493582606315613\n",
      "epoch 66 started\n",
      "train loss: 0.025109063537456677, test_loss: 0.013491658493876457\n",
      "epoch 67 started\n",
      "train loss: 0.025120550635966493, test_loss: 0.013475470244884491\n",
      "epoch 68 started\n",
      "train loss: 0.02510314701205408, test_loss: 0.013496579602360725\n",
      "epoch 69 started\n",
      "train loss: 0.025120233789147323, test_loss: 0.013514406979084015\n",
      "epoch 70 started\n",
      "train loss: 0.02512461988035717, test_loss: 0.013500746339559555\n",
      "epoch 71 started\n",
      "train loss: 0.025125441958152805, test_loss: 0.013514681719243526\n",
      "epoch 72 started\n",
      "train loss: 0.025108673144391754, test_loss: 0.013469411060214043\n",
      "epoch 73 started\n",
      "train loss: 0.025089763321375358, test_loss: 0.01348791178315878\n",
      "epoch 74 started\n",
      "train loss: 0.025105878205240947, test_loss: 0.013483124785125256\n",
      "epoch 75 started\n",
      "train loss: 0.02510656102458597, test_loss: 0.013481969945132732\n",
      "epoch 76 started\n",
      "train loss: 0.025104586219424078, test_loss: 0.013464814983308315\n",
      "epoch 77 started\n",
      "train loss: 0.025123155912643552, test_loss: 0.013500948436558247\n",
      "epoch 78 started\n",
      "train loss: 0.0251149424148025, test_loss: 0.013536635786294937\n",
      "epoch 79 started\n",
      "train loss: 0.025116263829615838, test_loss: 0.013476426713168621\n",
      "epoch 80 started\n",
      "train loss: 0.025102889731940758, test_loss: 0.01349691767245531\n",
      "epoch 81 started\n",
      "train loss: 0.02512294125075901, test_loss: 0.013477965258061886\n",
      "epoch 82 started\n",
      "train loss: 0.025121759893019253, test_loss: 0.013506133109331131\n",
      "epoch 83 started\n",
      "train loss: 0.025114797162002236, test_loss: 0.013471992686390877\n",
      "epoch 84 started\n",
      "train loss: 0.02509558486642726, test_loss: 0.013484425842761993\n",
      "epoch 85 started\n",
      "train loss: 0.025113895952883814, test_loss: 0.013483988121151924\n",
      "epoch 86 started\n",
      "train loss: 0.025124773468719684, test_loss: 0.013478042557835579\n",
      "epoch 87 started\n",
      "train loss: 0.025120370227211555, test_loss: 0.013479179702699184\n",
      "epoch 88 started\n",
      "train loss: 0.0251222517306035, test_loss: 0.013500288128852844\n",
      "epoch 89 started\n",
      "train loss: 0.02511120176980815, test_loss: 0.013486570678651333\n",
      "epoch 90 started\n",
      "train loss: 0.02512443154609216, test_loss: 0.013501840643584728\n",
      "epoch 91 started\n",
      "train loss: 0.02509910753187363, test_loss: 0.01347972359508276\n",
      "epoch 92 started\n",
      "train loss: 0.025106821835357722, test_loss: 0.013498282991349697\n",
      "epoch 93 started\n",
      "train loss: 0.025118902358025524, test_loss: 0.013500602915883064\n",
      "epoch 94 started\n",
      "train loss: 0.025109954166206688, test_loss: 0.013511020690202713\n",
      "epoch 95 started\n",
      "train loss: 0.02511096523708797, test_loss: 0.013473434373736382\n",
      "epoch 96 started\n",
      "train loss: 0.025117899524567684, test_loss: 0.013492344878613949\n",
      "epoch 97 started\n",
      "train loss: 0.0251081014765597, test_loss: 0.013468488119542599\n",
      "epoch 98 started\n",
      "train loss: 0.025121916432129052, test_loss: 0.013477019965648651\n",
      "epoch 99 started\n"
     ]
    },
    {
     "name": "stdout",
     "output_type": "stream",
     "text": [
      "train loss: 0.025108236406335242, test_loss: 0.01352549996227026\n"
     ]
    }
   ],
   "source": [
    "train_losses, test_losses, trained_model = train_model(\n",
    "    train_dataset=train_dataset, \n",
    "    test_dataset=test_dataset, \n",
    "    model=hrnet, \n",
    "    train_dataloader_kwargs=train_dataloader_config, \n",
    "    test_dataloader_kwargs=test_dataloader_config, \n",
    "    training_kwargs=training_config,\n",
    "    criterion=criterion,\n",
    "    device=device,\n",
    "    wandb_instance=wandb,\n",
    ")"
   ]
  },
  {
   "cell_type": "code",
   "execution_count": 15,
   "metadata": {},
   "outputs": [
    {
     "data": {
      "image/png": "[encoded data removed]",
      "text/plain": [
       "<Figure size 640x480 with 1 Axes>"
      ]
     },
     "metadata": {},
     "output_type": "display_data"
    }
   ],
   "source": [
    "show_train_plots(train_losses, test_losses, 'HRNet')"
   ]
  },
  {
   "cell_type": "markdown",
   "metadata": {},
   "source": [
    "### Сохраним результаты и измерим точность\n",
    "Результаты - словарь с ключем DataItem.unique_key() и значением предсказанным quadrangle в относительных единицах."
   ]
  },
  {
   "cell_type": "code",
   "execution_count": 16,
   "metadata": {},
   "outputs": [
    {
     "name": "stderr",
     "output_type": "stream",
     "text": [
      "4250it [02:33, 27.76it/s]\n",
      "/home/avashchilko/abbyy9sem/course_cvdl/.venv/lib/python3.8/site-packages/shapely/set_operations.py:133: RuntimeWarning: invalid value encountered in intersection\n",
      "  return lib.intersection(a, b, **kwargs)\n",
      "/home/avashchilko/abbyy9sem/course_cvdl/.venv/lib/python3.8/site-packages/shapely/set_operations.py:133: RuntimeWarning: invalid value encountered in intersection\n",
      "  return lib.intersection(a, b, **kwargs)\n",
      "/home/avashchilko/abbyy9sem/course_cvdl/.venv/lib/python3.8/site-packages/shapely/set_operations.py:133: RuntimeWarning: invalid value encountered in intersection\n",
      "  return lib.intersection(a, b, **kwargs)\n",
      "/home/avashchilko/abbyy9sem/course_cvdl/.venv/lib/python3.8/site-packages/shapely/set_operations.py:133: RuntimeWarning: invalid value encountered in intersection\n",
      "  return lib.intersection(a, b, **kwargs)\n",
      "/home/avashchilko/abbyy9sem/course_cvdl/.venv/lib/python3.8/site-packages/shapely/set_operations.py:133: RuntimeWarning: invalid value encountered in intersection\n",
      "  return lib.intersection(a, b, **kwargs)\n",
      "/home/avashchilko/abbyy9sem/course_cvdl/.venv/lib/python3.8/site-packages/shapely/set_operations.py:133: RuntimeWarning: invalid value encountered in intersection\n",
      "  return lib.intersection(a, b, **kwargs)\n",
      "/home/avashchilko/abbyy9sem/course_cvdl/.venv/lib/python3.8/site-packages/shapely/set_operations.py:133: RuntimeWarning: invalid value encountered in intersection\n",
      "  return lib.intersection(a, b, **kwargs)\n",
      "/home/avashchilko/abbyy9sem/course_cvdl/.venv/lib/python3.8/site-packages/shapely/set_operations.py:133: RuntimeWarning: invalid value encountered in intersection\n",
      "  return lib.intersection(a, b, **kwargs)\n",
      "/home/avashchilko/abbyy9sem/course_cvdl/.venv/lib/python3.8/site-packages/shapely/set_operations.py:133: RuntimeWarning: invalid value encountered in intersection\n",
      "  return lib.intersection(a, b, **kwargs)\n",
      "/home/avashchilko/abbyy9sem/course_cvdl/.venv/lib/python3.8/site-packages/shapely/set_operations.py:133: RuntimeWarning: invalid value encountered in intersection\n",
      "  return lib.intersection(a, b, **kwargs)\n",
      "/home/avashchilko/abbyy9sem/course_cvdl/.venv/lib/python3.8/site-packages/shapely/set_operations.py:133: RuntimeWarning: invalid value encountered in intersection\n",
      "  return lib.intersection(a, b, **kwargs)\n",
      "/home/avashchilko/abbyy9sem/course_cvdl/.venv/lib/python3.8/site-packages/shapely/set_operations.py:133: RuntimeWarning: invalid value encountered in intersection\n",
      "  return lib.intersection(a, b, **kwargs)\n",
      "/home/avashchilko/abbyy9sem/course_cvdl/.venv/lib/python3.8/site-packages/shapely/set_operations.py:133: RuntimeWarning: invalid value encountered in intersection\n",
      "  return lib.intersection(a, b, **kwargs)\n",
      "/home/avashchilko/abbyy9sem/course_cvdl/.venv/lib/python3.8/site-packages/shapely/set_operations.py:133: RuntimeWarning: invalid value encountered in intersection\n",
      "  return lib.intersection(a, b, **kwargs)\n",
      "/home/avashchilko/abbyy9sem/course_cvdl/.venv/lib/python3.8/site-packages/shapely/set_operations.py:133: RuntimeWarning: invalid value encountered in intersection\n",
      "  return lib.intersection(a, b, **kwargs)\n",
      "/home/avashchilko/abbyy9sem/course_cvdl/.venv/lib/python3.8/site-packages/shapely/set_operations.py:133: RuntimeWarning: invalid value encountered in intersection\n",
      "  return lib.intersection(a, b, **kwargs)\n",
      "/home/avashchilko/abbyy9sem/course_cvdl/.venv/lib/python3.8/site-packages/shapely/set_operations.py:133: RuntimeWarning: invalid value encountered in intersection\n",
      "  return lib.intersection(a, b, **kwargs)\n",
      "/home/avashchilko/abbyy9sem/course_cvdl/.venv/lib/python3.8/site-packages/shapely/set_operations.py:133: RuntimeWarning: invalid value encountered in intersection\n",
      "  return lib.intersection(a, b, **kwargs)\n",
      "/home/avashchilko/abbyy9sem/course_cvdl/.venv/lib/python3.8/site-packages/shapely/set_operations.py:133: RuntimeWarning: invalid value encountered in intersection\n",
      "  return lib.intersection(a, b, **kwargs)\n",
      "/home/avashchilko/abbyy9sem/course_cvdl/.venv/lib/python3.8/site-packages/shapely/set_operations.py:133: RuntimeWarning: invalid value encountered in intersection\n",
      "  return lib.intersection(a, b, **kwargs)\n",
      "/home/avashchilko/abbyy9sem/course_cvdl/.venv/lib/python3.8/site-packages/shapely/set_operations.py:133: RuntimeWarning: invalid value encountered in intersection\n",
      "  return lib.intersection(a, b, **kwargs)\n",
      "/home/avashchilko/abbyy9sem/course_cvdl/.venv/lib/python3.8/site-packages/shapely/set_operations.py:133: RuntimeWarning: invalid value encountered in intersection\n",
      "  return lib.intersection(a, b, **kwargs)\n",
      "/home/avashchilko/abbyy9sem/course_cvdl/.venv/lib/python3.8/site-packages/shapely/set_operations.py:133: RuntimeWarning: invalid value encountered in intersection\n",
      "  return lib.intersection(a, b, **kwargs)\n",
      "/home/avashchilko/abbyy9sem/course_cvdl/.venv/lib/python3.8/site-packages/shapely/set_operations.py:133: RuntimeWarning: invalid value encountered in intersection\n",
      "  return lib.intersection(a, b, **kwargs)\n",
      "/home/avashchilko/abbyy9sem/course_cvdl/.venv/lib/python3.8/site-packages/shapely/set_operations.py:133: RuntimeWarning: invalid value encountered in intersection\n",
      "  return lib.intersection(a, b, **kwargs)\n",
      "/home/avashchilko/abbyy9sem/course_cvdl/.venv/lib/python3.8/site-packages/shapely/set_operations.py:133: RuntimeWarning: invalid value encountered in intersection\n",
      "  return lib.intersection(a, b, **kwargs)\n",
      "/home/avashchilko/abbyy9sem/course_cvdl/.venv/lib/python3.8/site-packages/shapely/set_operations.py:133: RuntimeWarning: invalid value encountered in intersection\n",
      "  return lib.intersection(a, b, **kwargs)\n",
      "/home/avashchilko/abbyy9sem/course_cvdl/.venv/lib/python3.8/site-packages/shapely/set_operations.py:133: RuntimeWarning: invalid value encountered in intersection\n",
      "  return lib.intersection(a, b, **kwargs)\n",
      "/home/avashchilko/abbyy9sem/course_cvdl/.venv/lib/python3.8/site-packages/shapely/set_operations.py:133: RuntimeWarning: invalid value encountered in intersection\n",
      "  return lib.intersection(a, b, **kwargs)\n",
      "/home/avashchilko/abbyy9sem/course_cvdl/.venv/lib/python3.8/site-packages/shapely/set_operations.py:133: RuntimeWarning: invalid value encountered in intersection\n",
      "  return lib.intersection(a, b, **kwargs)\n",
      "/home/avashchilko/abbyy9sem/course_cvdl/.venv/lib/python3.8/site-packages/shapely/set_operations.py:133: RuntimeWarning: invalid value encountered in intersection\n",
      "  return lib.intersection(a, b, **kwargs)\n",
      "/home/avashchilko/abbyy9sem/course_cvdl/.venv/lib/python3.8/site-packages/shapely/set_operations.py:133: RuntimeWarning: invalid value encountered in intersection\n",
      "  return lib.intersection(a, b, **kwargs)\n",
      "/home/avashchilko/abbyy9sem/course_cvdl/.venv/lib/python3.8/site-packages/shapely/set_operations.py:133: RuntimeWarning: invalid value encountered in intersection\n",
      "  return lib.intersection(a, b, **kwargs)\n",
      "/home/avashchilko/abbyy9sem/course_cvdl/.venv/lib/python3.8/site-packages/shapely/set_operations.py:133: RuntimeWarning: invalid value encountered in intersection\n",
      "  return lib.intersection(a, b, **kwargs)\n",
      "/home/avashchilko/abbyy9sem/course_cvdl/.venv/lib/python3.8/site-packages/shapely/set_operations.py:133: RuntimeWarning: invalid value encountered in intersection\n",
      "  return lib.intersection(a, b, **kwargs)\n",
      "/home/avashchilko/abbyy9sem/course_cvdl/.venv/lib/python3.8/site-packages/shapely/set_operations.py:133: RuntimeWarning: invalid value encountered in intersection\n",
      "  return lib.intersection(a, b, **kwargs)\n",
      "/home/avashchilko/abbyy9sem/course_cvdl/.venv/lib/python3.8/site-packages/shapely/set_operations.py:133: RuntimeWarning: invalid value encountered in intersection\n",
      "  return lib.intersection(a, b, **kwargs)\n",
      "/home/avashchilko/abbyy9sem/course_cvdl/.venv/lib/python3.8/site-packages/shapely/set_operations.py:133: RuntimeWarning: invalid value encountered in intersection\n",
      "  return lib.intersection(a, b, **kwargs)\n",
      "/home/avashchilko/abbyy9sem/course_cvdl/.venv/lib/python3.8/site-packages/shapely/set_operations.py:133: RuntimeWarning: invalid value encountered in intersection\n",
      "  return lib.intersection(a, b, **kwargs)\n",
      "/home/avashchilko/abbyy9sem/course_cvdl/.venv/lib/python3.8/site-packages/shapely/set_operations.py:133: RuntimeWarning: invalid value encountered in intersection\n",
      "  return lib.intersection(a, b, **kwargs)\n",
      "/home/avashchilko/abbyy9sem/course_cvdl/.venv/lib/python3.8/site-packages/shapely/set_operations.py:133: RuntimeWarning: invalid value encountered in intersection\n",
      "  return lib.intersection(a, b, **kwargs)\n",
      "/home/avashchilko/abbyy9sem/course_cvdl/.venv/lib/python3.8/site-packages/shapely/set_operations.py:133: RuntimeWarning: invalid value encountered in intersection\n",
      "  return lib.intersection(a, b, **kwargs)\n",
      "/home/avashchilko/abbyy9sem/course_cvdl/.venv/lib/python3.8/site-packages/shapely/set_operations.py:133: RuntimeWarning: invalid value encountered in intersection\n",
      "  return lib.intersection(a, b, **kwargs)\n",
      "/home/avashchilko/abbyy9sem/course_cvdl/.venv/lib/python3.8/site-packages/shapely/set_operations.py:133: RuntimeWarning: invalid value encountered in intersection\n",
      "  return lib.intersection(a, b, **kwargs)\n"
     ]
    },
    {
     "name": "stderr",
     "output_type": "stream",
     "text": [
      "/home/avashchilko/abbyy9sem/course_cvdl/.venv/lib/python3.8/site-packages/shapely/set_operations.py:133: RuntimeWarning: invalid value encountered in intersection\n",
      "  return lib.intersection(a, b, **kwargs)\n",
      "/home/avashchilko/abbyy9sem/course_cvdl/.venv/lib/python3.8/site-packages/shapely/set_operations.py:133: RuntimeWarning: invalid value encountered in intersection\n",
      "  return lib.intersection(a, b, **kwargs)\n",
      "/home/avashchilko/abbyy9sem/course_cvdl/.venv/lib/python3.8/site-packages/shapely/set_operations.py:133: RuntimeWarning: invalid value encountered in intersection\n",
      "  return lib.intersection(a, b, **kwargs)\n",
      "/home/avashchilko/abbyy9sem/course_cvdl/.venv/lib/python3.8/site-packages/shapely/set_operations.py:133: RuntimeWarning: invalid value encountered in intersection\n",
      "  return lib.intersection(a, b, **kwargs)\n",
      "/home/avashchilko/abbyy9sem/course_cvdl/.venv/lib/python3.8/site-packages/shapely/set_operations.py:133: RuntimeWarning: invalid value encountered in intersection\n",
      "  return lib.intersection(a, b, **kwargs)\n",
      "/home/avashchilko/abbyy9sem/course_cvdl/.venv/lib/python3.8/site-packages/shapely/set_operations.py:133: RuntimeWarning: invalid value encountered in intersection\n",
      "  return lib.intersection(a, b, **kwargs)\n",
      "/home/avashchilko/abbyy9sem/course_cvdl/.venv/lib/python3.8/site-packages/shapely/set_operations.py:133: RuntimeWarning: invalid value encountered in intersection\n",
      "  return lib.intersection(a, b, **kwargs)\n",
      "/home/avashchilko/abbyy9sem/course_cvdl/.venv/lib/python3.8/site-packages/shapely/set_operations.py:133: RuntimeWarning: invalid value encountered in intersection\n",
      "  return lib.intersection(a, b, **kwargs)\n",
      "/home/avashchilko/abbyy9sem/course_cvdl/.venv/lib/python3.8/site-packages/shapely/set_operations.py:133: RuntimeWarning: invalid value encountered in intersection\n",
      "  return lib.intersection(a, b, **kwargs)\n",
      "/home/avashchilko/abbyy9sem/course_cvdl/.venv/lib/python3.8/site-packages/shapely/set_operations.py:133: RuntimeWarning: invalid value encountered in intersection\n",
      "  return lib.intersection(a, b, **kwargs)\n",
      "/home/avashchilko/abbyy9sem/course_cvdl/.venv/lib/python3.8/site-packages/shapely/set_operations.py:133: RuntimeWarning: invalid value encountered in intersection\n",
      "  return lib.intersection(a, b, **kwargs)\n",
      "/home/avashchilko/abbyy9sem/course_cvdl/.venv/lib/python3.8/site-packages/shapely/set_operations.py:133: RuntimeWarning: invalid value encountered in intersection\n",
      "  return lib.intersection(a, b, **kwargs)\n",
      "/home/avashchilko/abbyy9sem/course_cvdl/.venv/lib/python3.8/site-packages/shapely/set_operations.py:133: RuntimeWarning: invalid value encountered in intersection\n",
      "  return lib.intersection(a, b, **kwargs)\n",
      "/home/avashchilko/abbyy9sem/course_cvdl/.venv/lib/python3.8/site-packages/shapely/set_operations.py:133: RuntimeWarning: invalid value encountered in intersection\n",
      "  return lib.intersection(a, b, **kwargs)\n",
      "/home/avashchilko/abbyy9sem/course_cvdl/.venv/lib/python3.8/site-packages/shapely/set_operations.py:133: RuntimeWarning: invalid value encountered in intersection\n",
      "  return lib.intersection(a, b, **kwargs)\n",
      "/home/avashchilko/abbyy9sem/course_cvdl/.venv/lib/python3.8/site-packages/shapely/set_operations.py:133: RuntimeWarning: invalid value encountered in intersection\n",
      "  return lib.intersection(a, b, **kwargs)\n",
      "/home/avashchilko/abbyy9sem/course_cvdl/.venv/lib/python3.8/site-packages/shapely/set_operations.py:133: RuntimeWarning: invalid value encountered in intersection\n",
      "  return lib.intersection(a, b, **kwargs)\n",
      "/home/avashchilko/abbyy9sem/course_cvdl/.venv/lib/python3.8/site-packages/shapely/set_operations.py:133: RuntimeWarning: invalid value encountered in intersection\n",
      "  return lib.intersection(a, b, **kwargs)\n",
      "/home/avashchilko/abbyy9sem/course_cvdl/.venv/lib/python3.8/site-packages/shapely/set_operations.py:133: RuntimeWarning: invalid value encountered in intersection\n",
      "  return lib.intersection(a, b, **kwargs)\n",
      "/home/avashchilko/abbyy9sem/course_cvdl/.venv/lib/python3.8/site-packages/shapely/set_operations.py:133: RuntimeWarning: invalid value encountered in intersection\n",
      "  return lib.intersection(a, b, **kwargs)\n",
      "/home/avashchilko/abbyy9sem/course_cvdl/.venv/lib/python3.8/site-packages/shapely/set_operations.py:133: RuntimeWarning: invalid value encountered in intersection\n",
      "  return lib.intersection(a, b, **kwargs)\n",
      "/home/avashchilko/abbyy9sem/course_cvdl/.venv/lib/python3.8/site-packages/shapely/set_operations.py:133: RuntimeWarning: invalid value encountered in intersection\n",
      "  return lib.intersection(a, b, **kwargs)\n",
      "/home/avashchilko/abbyy9sem/course_cvdl/.venv/lib/python3.8/site-packages/shapely/set_operations.py:133: RuntimeWarning: invalid value encountered in intersection\n",
      "  return lib.intersection(a, b, **kwargs)\n",
      "/home/avashchilko/abbyy9sem/course_cvdl/.venv/lib/python3.8/site-packages/shapely/set_operations.py:133: RuntimeWarning: invalid value encountered in intersection\n",
      "  return lib.intersection(a, b, **kwargs)\n",
      "/home/avashchilko/abbyy9sem/course_cvdl/.venv/lib/python3.8/site-packages/shapely/set_operations.py:133: RuntimeWarning: invalid value encountered in intersection\n",
      "  return lib.intersection(a, b, **kwargs)\n",
      "/home/avashchilko/abbyy9sem/course_cvdl/.venv/lib/python3.8/site-packages/shapely/set_operations.py:133: RuntimeWarning: invalid value encountered in intersection\n",
      "  return lib.intersection(a, b, **kwargs)\n",
      "/home/avashchilko/abbyy9sem/course_cvdl/.venv/lib/python3.8/site-packages/shapely/set_operations.py:133: RuntimeWarning: invalid value encountered in intersection\n",
      "  return lib.intersection(a, b, **kwargs)\n",
      "/home/avashchilko/abbyy9sem/course_cvdl/.venv/lib/python3.8/site-packages/shapely/set_operations.py:133: RuntimeWarning: invalid value encountered in intersection\n",
      "  return lib.intersection(a, b, **kwargs)\n",
      "/home/avashchilko/abbyy9sem/course_cvdl/.venv/lib/python3.8/site-packages/shapely/set_operations.py:133: RuntimeWarning: invalid value encountered in intersection\n",
      "  return lib.intersection(a, b, **kwargs)\n",
      "/home/avashchilko/abbyy9sem/course_cvdl/.venv/lib/python3.8/site-packages/shapely/set_operations.py:133: RuntimeWarning: invalid value encountered in intersection\n",
      "  return lib.intersection(a, b, **kwargs)\n",
      "/home/avashchilko/abbyy9sem/course_cvdl/.venv/lib/python3.8/site-packages/shapely/set_operations.py:133: RuntimeWarning: invalid value encountered in intersection\n",
      "  return lib.intersection(a, b, **kwargs)\n",
      "/home/avashchilko/abbyy9sem/course_cvdl/.venv/lib/python3.8/site-packages/shapely/set_operations.py:133: RuntimeWarning: invalid value encountered in intersection\n",
      "  return lib.intersection(a, b, **kwargs)\n",
      "/home/avashchilko/abbyy9sem/course_cvdl/.venv/lib/python3.8/site-packages/shapely/set_operations.py:133: RuntimeWarning: invalid value encountered in intersection\n",
      "  return lib.intersection(a, b, **kwargs)\n",
      "/home/avashchilko/abbyy9sem/course_cvdl/.venv/lib/python3.8/site-packages/shapely/set_operations.py:133: RuntimeWarning: invalid value encountered in intersection\n",
      "  return lib.intersection(a, b, **kwargs)\n",
      "/home/avashchilko/abbyy9sem/course_cvdl/.venv/lib/python3.8/site-packages/shapely/set_operations.py:133: RuntimeWarning: invalid value encountered in intersection\n",
      "  return lib.intersection(a, b, **kwargs)\n",
      "/home/avashchilko/abbyy9sem/course_cvdl/.venv/lib/python3.8/site-packages/shapely/set_operations.py:133: RuntimeWarning: invalid value encountered in intersection\n",
      "  return lib.intersection(a, b, **kwargs)\n",
      "/home/avashchilko/abbyy9sem/course_cvdl/.venv/lib/python3.8/site-packages/shapely/set_operations.py:133: RuntimeWarning: invalid value encountered in intersection\n",
      "  return lib.intersection(a, b, **kwargs)\n",
      "/home/avashchilko/abbyy9sem/course_cvdl/.venv/lib/python3.8/site-packages/shapely/set_operations.py:133: RuntimeWarning: invalid value encountered in intersection\n",
      "  return lib.intersection(a, b, **kwargs)\n",
      "/home/avashchilko/abbyy9sem/course_cvdl/.venv/lib/python3.8/site-packages/shapely/set_operations.py:133: RuntimeWarning: invalid value encountered in intersection\n",
      "  return lib.intersection(a, b, **kwargs)\n",
      "/home/avashchilko/abbyy9sem/course_cvdl/.venv/lib/python3.8/site-packages/shapely/set_operations.py:133: RuntimeWarning: invalid value encountered in intersection\n",
      "  return lib.intersection(a, b, **kwargs)\n",
      "/home/avashchilko/abbyy9sem/course_cvdl/.venv/lib/python3.8/site-packages/shapely/set_operations.py:133: RuntimeWarning: invalid value encountered in intersection\n",
      "  return lib.intersection(a, b, **kwargs)\n",
      "/home/avashchilko/abbyy9sem/course_cvdl/.venv/lib/python3.8/site-packages/shapely/set_operations.py:133: RuntimeWarning: invalid value encountered in intersection\n",
      "  return lib.intersection(a, b, **kwargs)\n",
      "/home/avashchilko/abbyy9sem/course_cvdl/.venv/lib/python3.8/site-packages/shapely/set_operations.py:133: RuntimeWarning: invalid value encountered in intersection\n",
      "  return lib.intersection(a, b, **kwargs)\n",
      "/home/avashchilko/abbyy9sem/course_cvdl/.venv/lib/python3.8/site-packages/shapely/set_operations.py:133: RuntimeWarning: invalid value encountered in intersection\n",
      "  return lib.intersection(a, b, **kwargs)\n"
     ]
    },
    {
     "data": {
      "text/html": [
       "Waiting for W&B process to finish... <strong style=\"color:green\">(success).</strong>"
      ],
      "text/plain": [
       "<IPython.core.display.HTML object>"
      ]
     },
     "metadata": {},
     "output_type": "display_data"
    },
    {
     "data": {
      "text/html": [
       "<style>\n",
       "    table.wandb td:nth-child(1) { padding: 0 10px; text-align: left ; width: auto;} td:nth-child(2) {text-align: left ; width: 100%}\n",
       "    .wandb-row { display: flex; flex-direction: row; flex-wrap: wrap; justify-content: flex-start; width: 100% }\n",
       "    .wandb-col { display: flex; flex-direction: column; flex-basis: 100%; flex: 1; padding: 10px; }\n",
       "    </style>\n",
       "<div class=\"wandb-row\"><div class=\"wandb-col\"><h3>Run history:</h3><br/><table class=\"wandb\"><tr><td>lr</td><td>██████▂▂▂▂▂▂▁▁▁▁▁▁▁▁▁▁▁▁▁▁▁▁▁▁▁▁▁▁▁▁▁▁▁▁</td></tr></table><br/></div><div class=\"wandb-col\"><h3>Run summary:</h3><br/><table class=\"wandb\"><tr><td>acc@80</td><td>0.16235</td></tr><tr><td>acc@95</td><td>0.00094</td></tr><tr><td>lr</td><td>0.0</td></tr></table><br/></div></div>"
      ],
      "text/plain": [
       "<IPython.core.display.HTML object>"
      ]
     },
     "metadata": {},
     "output_type": "display_data"
    },
    {
     "data": {
      "text/html": [
       " View run <strong style=\"color:#cdcd00\">HRNet 100 epochs with lr=0.001</strong> at: <a href='https://wandb.ai/vashchilkoav/ocr%20task%201/runs/vzgmi7pz' target=\"_blank\">https://wandb.ai/vashchilkoav/ocr%20task%201/runs/vzgmi7pz</a><br/>Synced 5 W&B file(s), 0 media file(s), 0 artifact file(s) and 2 other file(s)"
      ],
      "text/plain": [
       "<IPython.core.display.HTML object>"
      ]
     },
     "metadata": {},
     "output_type": "display_data"
    },
    {
     "data": {
      "text/html": [
       "Find logs at: <code>./wandb/run-20230326_141548-vzgmi7pz/logs</code>"
      ],
      "text/plain": [
       "<IPython.core.display.HTML object>"
      ]
     },
     "metadata": {},
     "output_type": "display_data"
    },
    {
     "name": "stdout",
     "output_type": "stream",
     "text": [
      "0.0009411764705882353\n"
     ]
    }
   ],
   "source": [
    "from course_ocr_t1.metrics import dump_results_dict, measure_crop_accuracy\n",
    "\n",
    "results_dict = {}\n",
    "\n",
    "trained_model.eval()\n",
    "\n",
    "with torch.no_grad():\n",
    "    for i, (x, _) in tqdm(enumerate(test_dataset)):\n",
    "        result = trained_model(x[None, ...].to(device))[0]\n",
    "        key = test_dataset.get_key(i)\n",
    "        results_dict[key] = result.cpu().tolist()\n",
    "\n",
    "dump_results_dict(results_dict, Path() / 'pred1.json')\n",
    "\n",
    "acc_95 = measure_crop_accuracy(\n",
    "    Path() / 'pred1.json',\n",
    "    Path() / 'gt.json'\n",
    ")\n",
    "\n",
    "acc_80 = measure_crop_accuracy(\n",
    "    Path() / 'pred1.json',\n",
    "    Path() / 'gt.json',\n",
    "    iou_thr=0.8\n",
    ")\n",
    "\n",
    "wandb.run.summary['acc@95'] = acc_95\n",
    "wandb.run.summary['acc@80'] = acc_80\n",
    "\n",
    "torch.save(trained_model.state_dict(), Path() / 'model1.pth')\n",
    "wandb.save(str(Path() / 'model1.pth'))\n",
    "wandb.save(str(Path() / 'pred1.json'))\n",
    "\n",
    "wandb.finish()\n",
    "\n",
    "print(acc_95)"
   ]
  }
 ],
 "metadata": {
  "kernelspec": {
   "display_name": ".venv",
   "language": "python",
   "name": ".venv"
  },
  "language_info": {
   "codemirror_mode": {
    "name": "ipython",
    "version": 3
   },
   "file_extension": ".py",
   "mimetype": "text/x-python",
   "name": "python",
   "nbconvert_exporter": "python",
   "pygments_lexer": "ipython3",
   "version": "3.8.10"
  }
 },
 "nbformat": 4,
 "nbformat_minor": 5
}
