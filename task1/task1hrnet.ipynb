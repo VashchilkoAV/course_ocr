{
 "cells": [
  {
   "cell_type": "markdown",
   "metadata": {},
   "source": [
    "## Dataset preparation"
   ]
  },
  {
   "cell_type": "code",
   "execution_count": 1,
   "metadata": {},
   "outputs": [
    {
     "name": "stderr",
     "output_type": "stream",
     "text": [
      "/home/avashchilko/abbyy9sem/course_cvdl/.venv/lib/python3.8/site-packages/tqdm/auto.py:22: TqdmWarning: IProgress not found. Please update jupyter and ipywidgets. See https://ipywidgets.readthedocs.io/en/stable/user_install.html\n",
      "  from .autonotebook import tqdm as notebook_tqdm\n"
     ]
    }
   ],
   "source": [
    "#pip install -e .\n",
    "#pip install  abbyy_course_cvdl_t2\n",
    "\n",
    "from pathlib import Path\n",
    "from course_ocr_t1.data import MidvPackage\n",
    "from tqdm import tqdm\n",
    "from matplotlib import pyplot as plt\n",
    "import numpy as np\n",
    "\n",
    "import torch\n",
    "\n",
    "from task1pack.utils.data import HeatmapDataset"
   ]
  },
  {
   "cell_type": "code",
   "execution_count": 2,
   "metadata": {},
   "outputs": [],
   "source": [
    "DATASET_PATH = Path() / '..' / '..' / 'data' / 'midv500_compressed'\n",
    "#DATASET_PATH = Path() / '..' / '..' / '..' / '..' / '..' / '..' / 'Downloads' / 'midv500_compressed'\n",
    "assert DATASET_PATH.exists(), DATASET_PATH.absolute()"
   ]
  },
  {
   "cell_type": "code",
   "execution_count": 3,
   "metadata": {},
   "outputs": [
    {
     "data": {
      "text/plain": [
       "(50, course_ocr_t1.data.MidvPackage)"
      ]
     },
     "execution_count": 3,
     "metadata": {},
     "output_type": "execute_result"
    }
   ],
   "source": [
    "# Собираем список пакетов (MidvPackage) \n",
    "data_packs = MidvPackage.read_midv500_dataset(DATASET_PATH)\n",
    "len(data_packs), type(data_packs[0])"
   ]
  },
  {
   "cell_type": "code",
   "execution_count": 4,
   "metadata": {},
   "outputs": [],
   "source": [
    "from torchvision.transforms import Resize, Compose, ToTensor\n",
    "\n",
    "IMAGE_SIZE = [512, 512]\n",
    "HEATMAP_SIZE = [128, 128]\n",
    "\n",
    "transforms = Compose([\n",
    "    ToTensor(),\n",
    "    Resize(IMAGE_SIZE),\n",
    "])"
   ]
  },
  {
   "cell_type": "code",
   "execution_count": 5,
   "metadata": {},
   "outputs": [
    {
     "data": {
      "text/plain": [
       "(10750, 4250)"
      ]
     },
     "execution_count": 5,
     "metadata": {},
     "output_type": "execute_result"
    }
   ],
   "source": [
    "train_dataset = HeatmapDataset(data_packs=data_packs, split='train', transforms=transforms, output_size=HEATMAP_SIZE)\n",
    "test_dataset = HeatmapDataset(data_packs=data_packs, split='test', transforms=transforms, output_size=HEATMAP_SIZE)\n",
    "\n",
    "len(train_dataset), len(test_dataset)"
   ]
  },
  {
   "cell_type": "code",
   "execution_count": 6,
   "metadata": {},
   "outputs": [
    {
     "data": {
      "text/plain": [
       "(torch.Size([3, 512, 512]), torch.Size([4, 2]))"
      ]
     },
     "execution_count": 6,
     "metadata": {},
     "output_type": "execute_result"
    }
   ],
   "source": [
    "train_dataset[0][0].shape, train_dataset[0][1].shape"
   ]
  },
  {
   "cell_type": "code",
   "execution_count": 7,
   "metadata": {},
   "outputs": [
    {
     "data": {
      "text/plain": [
       "<torch._C.Generator at 0x7f2d1c8fb530>"
      ]
     },
     "execution_count": 7,
     "metadata": {},
     "output_type": "execute_result"
    }
   ],
   "source": [
    "torch.manual_seed(42)"
   ]
  },
  {
   "cell_type": "code",
   "execution_count": 8,
   "metadata": {},
   "outputs": [],
   "source": [
    "device = 'cuda:2'"
   ]
  },
  {
   "cell_type": "markdown",
   "metadata": {},
   "source": [
    "## Model"
   ]
  },
  {
   "cell_type": "code",
   "execution_count": 9,
   "metadata": {},
   "outputs": [],
   "source": [
    "from task1pack.models.hrnet import get_pose_net\n",
    "from task1pack.models.hrnet_config import cfg"
   ]
  },
  {
   "cell_type": "code",
   "execution_count": 10,
   "metadata": {},
   "outputs": [],
   "source": [
    "cfg['MODEL']['IMAGE_SIZE'] = IMAGE_SIZE\n",
    "cfg['MODEL']['HEATMAP_SIZE'] = HEATMAP_SIZE"
   ]
  },
  {
   "cell_type": "code",
   "execution_count": 11,
   "metadata": {},
   "outputs": [],
   "source": [
    "hrnet = get_pose_net(is_train=True, cfg=cfg)"
   ]
  },
  {
   "cell_type": "markdown",
   "metadata": {},
   "source": [
    "### Train"
   ]
  },
  {
   "cell_type": "code",
   "execution_count": 12,
   "metadata": {},
   "outputs": [],
   "source": [
    "from task1pack.utils.train import train_model, show_train_plots, train_old\n",
    "from torch.nn import MSELoss\n",
    "import wandb"
   ]
  },
  {
   "cell_type": "code",
   "execution_count": 14,
   "metadata": {},
   "outputs": [
    {
     "data": {
      "text/html": [
       "Finishing last run (ID:hzzsz5cq) before initializing another..."
      ],
      "text/plain": [
       "<IPython.core.display.HTML object>"
      ]
     },
     "metadata": {},
     "output_type": "display_data"
    },
    {
     "data": {
      "text/html": [
       "Waiting for W&B process to finish... <strong style=\"color:green\">(success).</strong>"
      ],
      "text/plain": [
       "<IPython.core.display.HTML object>"
      ]
     },
     "metadata": {},
     "output_type": "display_data"
    },
    {
     "data": {
      "text/html": [
       " View run <strong style=\"color:#cdcd00\">HRNet 100 epochs with lr=0.001, step=5, gamma=0.8</strong> at: <a href='https://wandb.ai/vashchilkoav/ocr%20task%201/runs/hzzsz5cq' target=\"_blank\">https://wandb.ai/vashchilkoav/ocr%20task%201/runs/hzzsz5cq</a><br/>Synced 4 W&B file(s), 0 media file(s), 0 artifact file(s) and 0 other file(s)"
      ],
      "text/plain": [
       "<IPython.core.display.HTML object>"
      ]
     },
     "metadata": {},
     "output_type": "display_data"
    },
    {
     "data": {
      "text/html": [
       "Find logs at: <code>./wandb/run-20230327_082838-hzzsz5cq/logs</code>"
      ],
      "text/plain": [
       "<IPython.core.display.HTML object>"
      ]
     },
     "metadata": {},
     "output_type": "display_data"
    },
    {
     "data": {
      "text/html": [
       "Successfully finished last run (ID:hzzsz5cq). Initializing new run:<br/>"
      ],
      "text/plain": [
       "<IPython.core.display.HTML object>"
      ]
     },
     "metadata": {},
     "output_type": "display_data"
    },
    {
     "data": {
      "text/html": [
       "Tracking run with wandb version 0.14.0"
      ],
      "text/plain": [
       "<IPython.core.display.HTML object>"
      ]
     },
     "metadata": {},
     "output_type": "display_data"
    },
    {
     "data": {
      "text/html": [
       "Run data is saved locally in <code>/home/avashchilko/abbyy10sem/course_ocr/task1/wandb/run-20230327_082853-hxqvxo4l</code>"
      ],
      "text/plain": [
       "<IPython.core.display.HTML object>"
      ]
     },
     "metadata": {},
     "output_type": "display_data"
    },
    {
     "data": {
      "text/html": [
       "Syncing run <strong><a href='https://wandb.ai/vashchilkoav/ocr%20task%201/runs/hxqvxo4l' target=\"_blank\">HRNet 150 epochs with lr=0.001, step=5, gamma=0.8</a></strong> to <a href='https://wandb.ai/vashchilkoav/ocr%20task%201' target=\"_blank\">Weights & Biases</a> (<a href='https://wandb.me/run' target=\"_blank\">docs</a>)<br/>"
      ],
      "text/plain": [
       "<IPython.core.display.HTML object>"
      ]
     },
     "metadata": {},
     "output_type": "display_data"
    },
    {
     "data": {
      "text/html": [
       " View project at <a href='https://wandb.ai/vashchilkoav/ocr%20task%201' target=\"_blank\">https://wandb.ai/vashchilkoav/ocr%20task%201</a>"
      ],
      "text/plain": [
       "<IPython.core.display.HTML object>"
      ]
     },
     "metadata": {},
     "output_type": "display_data"
    },
    {
     "data": {
      "text/html": [
       " View run at <a href='https://wandb.ai/vashchilkoav/ocr%20task%201/runs/hxqvxo4l' target=\"_blank\">https://wandb.ai/vashchilkoav/ocr%20task%201/runs/hxqvxo4l</a>"
      ],
      "text/plain": [
       "<IPython.core.display.HTML object>"
      ]
     },
     "metadata": {},
     "output_type": "display_data"
    },
    {
     "data": {
      "text/html": [
       "<button onClick=\"this.nextSibling.style.display='block';this.style.display='none';\">Display W&B run</button><iframe src='https://wandb.ai/vashchilkoav/ocr%20task%201/runs/hxqvxo4l?jupyter=true' style='border:none;width:100%;height:420px;display:none;'></iframe>"
      ],
      "text/plain": [
       "<wandb.sdk.wandb_run.Run at 0x7f2e14267d60>"
      ]
     },
     "execution_count": 14,
     "metadata": {},
     "output_type": "execute_result"
    }
   ],
   "source": [
    "model_name = 'HRNet'\n",
    "\n",
    "train_dataloader_config = {\n",
    "    'batch_size': 24,\n",
    "    'shuffle': True,\n",
    "}\n",
    "\n",
    "test_dataloader_config = {\n",
    "    'batch_size': 24,\n",
    "    'shuffle': False,\n",
    "}\n",
    "\n",
    "training_config = {\n",
    "    'lr': 1e-3,\n",
    "    'epochs': 150,\n",
    "    'step_size': 5,\n",
    "    'gamma': 0.8,\n",
    "}\n",
    "\n",
    "device = 'cuda:2'\n",
    "criterion = MSELoss()\n",
    "\n",
    "wandb.init(\n",
    "    project='ocr task 1',\n",
    "    name='{} {} epochs with lr={}, step={}, gamma={}'.format(\n",
    "        model_name, \n",
    "        training_config['epochs'], \n",
    "        training_config['lr'],\n",
    "        training_config['step_size'],\n",
    "        training_config['gamma']),\n",
    "    config={\n",
    "        'train_dataloader_config': train_dataloader_config,\n",
    "        'test_dataloader_config': test_dataloader_config,\n",
    "        'training_config': training_config,\n",
    "\n",
    "        \"architecture\": model_name,\n",
    "        \"dataset\": \"MIDV-500\",\n",
    "        \"criterion\": \"MSELoss\",\n",
    "        \"optimizer\": \"Adam\",\n",
    "        \"image_size\": IMAGE_SIZE,\n",
    "        \"heatmap_size\": HEATMAP_SIZE,    \n",
    "    }\n",
    ")"
   ]
  },
  {
   "cell_type": "code",
   "execution_count": null,
   "metadata": {},
   "outputs": [
    {
     "name": "stderr",
     "output_type": "stream",
     "text": [
      "/home/avashchilko/abbyy9sem/course_cvdl/.venv/lib/python3.8/site-packages/torch/functional.py:504: UserWarning: torch.meshgrid: in an upcoming release, it will be required to pass the indexing argument. (Triggered internally at ../aten/src/ATen/native/TensorShape.cpp:3190.)\n",
      "  return _VF.meshgrid(tensors, **kwargs)  # type: ignore[attr-defined]\n"
     ]
    },
    {
     "name": "stdout",
     "output_type": "stream",
     "text": [
      "initial loss 0.11798501759767532\n",
      "epoch 0 started\n",
      "train loss: 0.09071443165885285, test_loss: 0.03943267837166786\n",
      "epoch 1 started\n",
      "train loss: 0.04286523360808912, test_loss: 0.03320856764912605\n",
      "epoch 2 started\n",
      "train loss: 0.034160545933575905, test_loss: 0.020600154995918274\n",
      "epoch 3 started\n",
      "train loss: 0.03310414993445322, test_loss: 0.02037038467824459\n",
      "epoch 4 started\n",
      "train loss: 0.0305620129926995, test_loss: 0.018872443586587906\n",
      "epoch 5 started\n",
      "train loss: 0.029854524065740407, test_loss: 0.02701779268682003\n",
      "epoch 6 started\n",
      "train loss: 0.029651124821352175, test_loss: 0.016731442883610725\n",
      "epoch 7 started\n",
      "train loss: 0.028705439138450726, test_loss: 0.0161683838814497\n",
      "epoch 8 started\n",
      "train loss: 0.02777562563070595, test_loss: 0.015711860731244087\n",
      "epoch 9 started\n",
      "train loss: 0.02767496287976558, test_loss: 0.015464113093912601\n",
      "epoch 10 started\n",
      "train loss: 0.027442775009798685, test_loss: 0.015191293321549892\n",
      "epoch 11 started\n",
      "train loss: 0.027644856061669998, test_loss: 0.01821034774184227\n",
      "epoch 12 started\n",
      "train loss: 0.028738887086676965, test_loss: 0.015623673796653748\n",
      "epoch 13 started\n",
      "train loss: 0.02971998597682354, test_loss: 0.01880822516977787\n",
      "epoch 14 started\n",
      "train loss: 0.03072915479216525, test_loss: 0.016776978969573975\n",
      "epoch 15 started\n",
      "train loss: 0.02938457931200641, test_loss: 0.016886070370674133\n",
      "epoch 16 started\n",
      "train loss: 0.029371125921898056, test_loss: 0.016554713249206543\n",
      "epoch 17 started\n",
      "train loss: 0.02870033702700831, test_loss: 0.0161738358438015\n",
      "epoch 18 started\n",
      "train loss: 0.028335029330004806, test_loss: 0.016289692372083664\n",
      "epoch 19 started\n",
      "train loss: 0.027886860721212412, test_loss: 0.01605185680091381\n",
      "epoch 20 started\n",
      "train loss: 0.027549326747248415, test_loss: 0.015458025969564915\n",
      "epoch 21 started\n",
      "train loss: 0.027196778279695927, test_loss: 0.015162511728703976\n",
      "epoch 22 started\n",
      "train loss: 0.027202318321672334, test_loss: 0.01523741427809\n",
      "epoch 23 started\n",
      "train loss: 0.026903414975095075, test_loss: 0.015335365198552608\n",
      "epoch 24 started\n",
      "train loss: 0.026788256842077578, test_loss: 0.015356111340224743\n",
      "epoch 25 started\n",
      "train loss: 0.028024946062942035, test_loss: 0.015231043100357056\n",
      "epoch 26 started\n",
      "train loss: 0.027172791640623473, test_loss: 0.014884955249726772\n",
      "epoch 27 started\n",
      "train loss: 0.027711710818818704, test_loss: 0.0296127088367939\n",
      "epoch 28 started\n",
      "train loss: 0.02797973068975677, test_loss: 0.015083780512213707\n",
      "epoch 29 started\n",
      "train loss: 0.02689484400200724, test_loss: 0.014774219132959843\n",
      "epoch 30 started\n",
      "train loss: 0.02672677338601456, test_loss: 0.01471028570085764\n",
      "epoch 31 started\n",
      "train loss: 0.02667572540459722, test_loss: 0.01496078446507454\n",
      "epoch 32 started\n",
      "train loss: 0.026971088992598067, test_loss: 0.015807269141077995\n",
      "epoch 33 started\n",
      "train loss: 0.026692360566812567, test_loss: 0.014668254181742668\n",
      "epoch 34 started\n",
      "train loss: 0.026358872422341455, test_loss: 0.014517610892653465\n",
      "epoch 35 started\n",
      "train loss: 0.026177303728348176, test_loss: 0.014603917486965656\n",
      "epoch 36 started\n",
      "train loss: 0.02652372553295988, test_loss: 0.014570307917892933\n",
      "epoch 37 started\n",
      "train loss: 0.02619899047983511, test_loss: 0.014479818753898144\n",
      "epoch 38 started\n",
      "train loss: 0.026210466778138652, test_loss: 0.014405719004571438\n",
      "epoch 39 started\n",
      "train loss: 0.02593683020365591, test_loss: 0.014239141717553139\n",
      "epoch 40 started\n",
      "train loss: 0.025707313842888522, test_loss: 0.014262205921113491\n",
      "epoch 41 started\n",
      "train loss: 0.025602261086792817, test_loss: 0.014169215224683285\n",
      "epoch 42 started\n",
      "train loss: 0.02566950521889209, test_loss: 0.014127612113952637\n",
      "epoch 43 started\n",
      "train loss: 0.02555638604202873, test_loss: 0.01419370248913765\n",
      "epoch 44 started\n",
      "train loss: 0.02539143226230018, test_loss: 0.014120543375611305\n",
      "epoch 45 started\n",
      "train loss: 0.025252107744953328, test_loss: 0.015193368308246136\n",
      "epoch 46 started\n",
      "train loss: 0.025284703265372497, test_loss: 0.014065026305615902\n",
      "epoch 47 started\n",
      "train loss: 0.02522916851843807, test_loss: 0.013814027421176434\n",
      "epoch 48 started\n",
      "train loss: 0.024982973183276563, test_loss: 0.013890611939132214\n",
      "epoch 49 started\n",
      "train loss: 0.024989006542974885, test_loss: 0.01388175506144762\n",
      "epoch 50 started\n",
      "train loss: 0.024863610932308284, test_loss: 0.013817118480801582\n",
      "epoch 51 started\n",
      "train loss: 0.024889584704526766, test_loss: 0.013914603739976883\n",
      "epoch 52 started\n",
      "train loss: 0.024661762331171695, test_loss: 0.01396683044731617\n",
      "epoch 53 started\n",
      "train loss: 0.02461936991312541, test_loss: 0.014479340985417366\n",
      "epoch 54 started\n",
      "train loss: 0.024714760143459507, test_loss: 0.013741930015385151\n",
      "epoch 55 started\n",
      "train loss: 0.02451214104075916, test_loss: 0.01399938203394413\n",
      "epoch 56 started\n",
      "train loss: 0.02438919553242158, test_loss: 0.013667714782059193\n",
      "epoch 57 started\n",
      "train loss: 0.024310198024198013, test_loss: 0.013763666152954102\n",
      "epoch 58 started\n",
      "train loss: 0.024338684114419657, test_loss: 0.013579828664660454\n",
      "epoch 59 started\n",
      "train loss: 0.024197173127114575, test_loss: 0.013608763925731182\n",
      "epoch 60 started\n",
      "train loss: 0.024198032985233504, test_loss: 0.013567735441029072\n",
      "epoch 61 started\n",
      "train loss: 0.024093194787773036, test_loss: 0.013549493625760078\n",
      "epoch 62 started\n",
      "train loss: 0.024078818233517398, test_loss: 0.013520426116883755\n",
      "epoch 63 started\n",
      "train loss: 0.024047166382453206, test_loss: 0.013894174247980118\n",
      "epoch 64 started\n",
      "train loss: 0.02430220580468553, test_loss: 0.01357155479490757\n",
      "epoch 65 started\n",
      "train loss: 0.023968804292962886, test_loss: 0.01350837480276823\n",
      "epoch 66 started\n",
      "train loss: 0.023904844850871347, test_loss: 0.013395899906754494\n",
      "epoch 67 started\n",
      "train loss: 0.023875406438102282, test_loss: 0.013430170714855194\n",
      "epoch 68 started\n",
      "train loss: 0.02389056368026234, test_loss: 0.013629063963890076\n",
      "epoch 69 started\n",
      "train loss: 0.023814695609741778, test_loss: 0.01346626877784729\n",
      "epoch 70 started\n",
      "train loss: 0.023770917919007064, test_loss: 0.013288545422255993\n",
      "epoch 71 started\n",
      "train loss: 0.02373923015849349, test_loss: 0.013195420615375042\n",
      "epoch 72 started\n",
      "train loss: 0.02371818553261359, test_loss: 0.013342234306037426\n",
      "epoch 73 started\n",
      "train loss: 0.02370951012354843, test_loss: 0.013351533561944962\n",
      "epoch 74 started\n",
      "train loss: 0.023675130822604324, test_loss: 0.013266717083752155\n",
      "epoch 75 started\n",
      "train loss: 0.023670329244591164, test_loss: 0.013303440064191818\n",
      "epoch 76 started\n",
      "train loss: 0.02366630637646137, test_loss: 0.013230971060693264\n",
      "epoch 77 started\n",
      "train loss: 0.023717533698800253, test_loss: 0.01331248041242361\n",
      "epoch 78 started\n",
      "train loss: 0.023601149272248483, test_loss: 0.013292977586388588\n",
      "epoch 79 started\n",
      "train loss: 0.02357117022516572, test_loss: 0.013347439467906952\n",
      "epoch 80 started\n",
      "train loss: 0.02354251265309618, test_loss: 0.013227776624262333\n",
      "epoch 81 started\n",
      "train loss: 0.023580543946341743, test_loss: 0.013288806192576885\n",
      "epoch 82 started\n",
      "train loss: 0.02352642177720554, test_loss: 0.013209836557507515\n",
      "epoch 83 started\n",
      "train loss: 0.023505402067842494, test_loss: 0.013313842006027699\n",
      "epoch 84 started\n",
      "train loss: 0.023534228802288584, test_loss: 0.013182586058974266\n",
      "epoch 85 started\n",
      "train loss: 0.023486154800463867, test_loss: 0.013188667595386505\n",
      "epoch 86 started\n",
      "train loss: 0.023469088973277912, test_loss: 0.013214124366641045\n",
      "epoch 87 started\n",
      "train loss: 0.023455375108564373, test_loss: 0.01326524093747139\n",
      "epoch 88 started\n",
      "train loss: 0.02344106621084003, test_loss: 0.013202193193137646\n",
      "epoch 89 started\n",
      "train loss: 0.02344552963768365, test_loss: 0.013339098542928696\n",
      "epoch 90 started\n",
      "train loss: 0.023423422492799415, test_loss: 0.01330908015370369\n",
      "epoch 91 started\n",
      "train loss: 0.02345095857994498, test_loss: 0.01327061653137207\n",
      "epoch 92 started\n",
      "train loss: 0.02339320318476114, test_loss: 0.01327572949230671\n",
      "epoch 93 started\n",
      "train loss: 0.023394853060121283, test_loss: 0.013168234378099442\n",
      "epoch 94 started\n",
      "train loss: 0.02343078666204487, test_loss: 0.01320947427302599\n",
      "epoch 95 started\n",
      "train loss: 0.023373615856274097, test_loss: 0.013190553523600101\n",
      "epoch 96 started\n",
      "train loss: 0.023372681796380284, test_loss: 0.013223942369222641\n",
      "epoch 97 started\n",
      "train loss: 0.023356555289085788, test_loss: 0.01317400112748146\n",
      "epoch 98 started\n",
      "train loss: 0.023347364059840663, test_loss: 0.013142681680619717\n",
      "epoch 99 started\n",
      "train loss: 0.02337525217444636, test_loss: 0.013175603933632374\n",
      "epoch 100 started\n"
     ]
    },
    {
     "name": "stdout",
     "output_type": "stream",
     "text": [
      "train loss: 0.02334445499582216, test_loss: 0.013192914426326752\n",
      "epoch 101 started\n",
      "train loss: 0.023329666327689274, test_loss: 0.013147114776074886\n",
      "epoch 102 started\n",
      "train loss: 0.023321263215621002, test_loss: 0.013166457414627075\n",
      "epoch 103 started\n",
      "train loss: 0.0233368974212291, test_loss: 0.013154039159417152\n",
      "epoch 104 started\n",
      "train loss: 0.023311204430293792, test_loss: 0.013146907091140747\n",
      "epoch 105 started\n",
      "train loss: 0.023304629970620487, test_loss: 0.013104657642543316\n",
      "epoch 106 started\n",
      "train loss: 0.02329524804528254, test_loss: 0.013165564276278019\n",
      "epoch 107 started\n",
      "train loss: 0.023301054065086646, test_loss: 0.013151533901691437\n",
      "epoch 108 started\n",
      "train loss: 0.02328776390485083, test_loss: 0.013109005056321621\n",
      "epoch 109 started\n",
      "train loss: 0.023287986124030016, test_loss: 0.013178983703255653\n",
      "epoch 110 started\n",
      "train loss: 0.023282732241308883, test_loss: 0.013176748529076576\n",
      "epoch 111 started\n",
      "train loss: 0.023274950843707693, test_loss: 0.013122167438268661\n",
      "epoch 112 started\n",
      "train loss: 0.023274110495549394, test_loss: 0.013063852675259113\n",
      "epoch 113 started\n",
      "train loss: 0.02326857884483096, test_loss: 0.013131819665431976\n",
      "epoch 114 started\n",
      "train loss: 0.023266569185320156, test_loss: 0.013099975883960724\n",
      "epoch 115 started\n",
      "train loss: 0.023246268248580497, test_loss: 0.013119000010192394\n",
      "epoch 116 started\n",
      "train loss: 0.023249496782747365, test_loss: 0.013207186944782734\n",
      "epoch 117 started\n",
      "train loss: 0.0232449925965089, test_loss: 0.013188915327191353\n",
      "epoch 118 started\n",
      "train loss: 0.023251544807862956, test_loss: 0.013121647760272026\n",
      "epoch 119 started\n",
      "train loss: 0.023242583337248237, test_loss: 0.013162393122911453\n",
      "epoch 120 started\n",
      "train loss: 0.023239979065173038, test_loss: 0.013163955882191658\n",
      "epoch 121 started\n",
      "train loss: 0.023247069441172892, test_loss: 0.01321022491902113\n",
      "epoch 122 started\n",
      "train loss: 0.023231744120753968, test_loss: 0.013143557123839855\n",
      "epoch 123 started\n",
      "train loss: 0.02323855116472779, test_loss: 0.013123217038810253\n",
      "epoch 124 started\n",
      "train loss: 0.023227617631554103, test_loss: 0.013190421275794506\n",
      "epoch 125 started\n",
      "train loss: 0.023230307737581564, test_loss: 0.013155573047697544\n",
      "epoch 126 started\n"
     ]
    }
   ],
   "source": [
    "train_losses, test_losses, trained_model = train_model(\n",
    "    train_dataset=train_dataset, \n",
    "    test_dataset=test_dataset, \n",
    "    model=hrnet, \n",
    "    train_dataloader_kwargs=train_dataloader_config, \n",
    "    test_dataloader_kwargs=test_dataloader_config, \n",
    "    training_kwargs=training_config,\n",
    "    criterion=criterion,\n",
    "    device=device,\n",
    "    wandb_instance=wandb,\n",
    ")"
   ]
  },
  {
   "cell_type": "code",
   "execution_count": null,
   "metadata": {},
   "outputs": [],
   "source": [
    "show_train_plots(train_losses, test_losses, 'HRNet')"
   ]
  },
  {
   "cell_type": "markdown",
   "metadata": {},
   "source": [
    "### Сохраним результаты и измерим точность\n",
    "Результаты - словарь с ключем DataItem.unique_key() и значением предсказанным quadrangle в относительных единицах."
   ]
  },
  {
   "cell_type": "code",
   "execution_count": null,
   "metadata": {},
   "outputs": [],
   "source": [
    "from course_ocr_t1.metrics import dump_results_dict, measure_crop_accuracy\n",
    "\n",
    "results_dict = {}\n",
    "\n",
    "trained_model.eval()\n",
    "\n",
    "with torch.no_grad():\n",
    "    for i, (x, _) in tqdm(enumerate(test_dataset)):\n",
    "        result = trained_model(x[None, ...].to(device))[0]\n",
    "        key = test_dataset.get_key(i)\n",
    "        results_dict[key] = result.cpu().tolist()\n",
    "\n",
    "dump_results_dict(results_dict, Path() / 'pred1.json')\n",
    "\n",
    "acc_95 = measure_crop_accuracy(\n",
    "    Path() / 'pred1.json',\n",
    "    Path() / 'gt.json'\n",
    ")\n",
    "\n",
    "acc_80 = measure_crop_accuracy(\n",
    "    Path() / 'pred1.json',\n",
    "    Path() / 'gt.json',\n",
    "    iou_thr=0.8\n",
    ")\n",
    "\n",
    "wandb.run.summary['acc@95'] = acc_95\n",
    "wandb.run.summary['acc@80'] = acc_80\n",
    "\n",
    "torch.save(trained_model.state_dict(), Path() / 'model1.pth')\n",
    "wandb.save(str(Path() / 'model1.pth'))\n",
    "wandb.save(str(Path() / 'pred1.json'))\n",
    "\n",
    "wandb.finish()\n",
    "\n",
    "print(acc_95)"
   ]
  },
  {
   "cell_type": "code",
   "execution_count": null,
   "metadata": {},
   "outputs": [],
   "source": []
  }
 ],
 "metadata": {
  "kernelspec": {
   "display_name": ".venv",
   "language": "python",
   "name": ".venv"
  },
  "language_info": {
   "codemirror_mode": {
    "name": "ipython",
    "version": 3
   },
   "file_extension": ".py",
   "mimetype": "text/x-python",
   "name": "python",
   "nbconvert_exporter": "python",
   "pygments_lexer": "ipython3",
   "version": "3.8.10"
  }
 },
 "nbformat": 4,
 "nbformat_minor": 5
}
